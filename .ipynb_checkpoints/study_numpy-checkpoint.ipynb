{
 "cells": [
  {
   "cell_type": "markdown",
   "id": "3bb20740",
   "metadata": {},
   "source": [
    "# Numpy（科学计算）\n",
    "##   数据结构ndarray（多维数组）\n",
    "##   ndarray的相关操作\n",
    "#   ndarray进阶知识\n",
    "\n",
    "# \n",
    "\n",
    "# Scipy\n",
    "#   向量\n",
    "#   矩阵\n",
    "#   特征值和特征向量\n",
    "#   解线性方程组\n",
    "#   最小二乘"
   ]
  },
  {
   "cell_type": "code",
   "execution_count": 1,
   "id": "a6c62212",
   "metadata": {},
   "outputs": [],
   "source": [
    "# Python基本类型\n",
    "# 数字类型\n",
    "#  整型\n",
    "#     布尔型(bool)、整型(int)、长整型(long)\n",
    "#  非整型\n",
    "#     浮点(float)、复数(complex)\n",
    "\n",
    "# 容器\n",
    "#  序列\n",
    "#     字符串(str)、列表(list)、元组(tuple)\n",
    "#  集合\n",
    "#     可变集合(set)、不可变集合(frozenset)\n",
    "#  映射\n",
    "#     字典(dict)"
   ]
  },
  {
   "cell_type": "markdown",
   "id": "ea31b2dc",
   "metadata": {},
   "source": [
    "## 高效的固定类型数组\n",
    "## Numpy提供了一种高效存储固定类型的数组: ndarray\n",
    "## 数据存储在专门的字段中\n",
    "## 所有字段共享类型等信息"
   ]
  },
  {
   "cell_type": "code",
   "execution_count": 2,
   "id": "036709d5",
   "metadata": {},
   "outputs": [],
   "source": [
    "# ndarray\n",
    "# 只能存储同一种类型的数据，不能动态增加长度，计算性能好，存储冗余少\n",
    "\n",
    "# list\n",
    "# 支持同时存储不同类型的数据，可以动态增加长度，计算性能一般，存储冗余多"
   ]
  },
  {
   "cell_type": "markdown",
   "id": "9b7b48fc",
   "metadata": {},
   "source": [
    "# Numpy的基本作法"
   ]
  },
  {
   "cell_type": "code",
   "execution_count": 3,
   "id": "d07a7d56",
   "metadata": {},
   "outputs": [],
   "source": [
    "import numpy as np #导入模块，并命名为np"
   ]
  },
  {
   "cell_type": "code",
   "execution_count": 12,
   "id": "8c2a6341",
   "metadata": {},
   "outputs": [
    {
     "data": {
      "text/plain": [
       "array([[1, 2, 3],\n",
       "       [4, 5, 6]])"
      ]
     },
     "execution_count": 12,
     "metadata": {},
     "output_type": "execute_result"
    }
   ],
   "source": [
    "# 从list创建一个ndarray数组\n",
    "\n",
    "x = np.array([[1,2,3],[4,5,6]]) # 创建一个ndarray数组\n",
    "x"
   ]
  },
  {
   "cell_type": "code",
   "execution_count": 13,
   "id": "bc0693a4",
   "metadata": {},
   "outputs": [
    {
     "data": {
      "text/plain": [
       "numpy.ndarray"
      ]
     },
     "execution_count": 13,
     "metadata": {},
     "output_type": "execute_result"
    }
   ],
   "source": [
    "# 查看类型\n",
    "\n",
    "type(x)"
   ]
  },
  {
   "cell_type": "code",
   "execution_count": 14,
   "id": "96e7ee18",
   "metadata": {},
   "outputs": [
    {
     "data": {
      "text/plain": [
       "2"
      ]
     },
     "execution_count": 14,
     "metadata": {},
     "output_type": "execute_result"
    }
   ],
   "source": [
    "# 维度数\n",
    "\n",
    "x.ndim"
   ]
  },
  {
   "cell_type": "code",
   "execution_count": 15,
   "id": "966ff66a",
   "metadata": {},
   "outputs": [
    {
     "data": {
      "text/plain": [
       "(2, 3)"
      ]
     },
     "execution_count": 15,
     "metadata": {},
     "output_type": "execute_result"
    }
   ],
   "source": [
    "# 数组形状（每一维的大小）\n",
    "\n",
    "x.shape"
   ]
  },
  {
   "cell_type": "code",
   "execution_count": 16,
   "id": "f1ad23d0",
   "metadata": {},
   "outputs": [
    {
     "data": {
      "text/plain": [
       "6"
      ]
     },
     "execution_count": 16,
     "metadata": {},
     "output_type": "execute_result"
    }
   ],
   "source": [
    "# 数组中元素总数\n",
    "\n",
    "x.size"
   ]
  },
  {
   "cell_type": "code",
   "execution_count": 17,
   "id": "ba28e0f3",
   "metadata": {},
   "outputs": [
    {
     "data": {
      "text/plain": [
       "dtype('int64')"
      ]
     },
     "execution_count": 17,
     "metadata": {},
     "output_type": "execute_result"
    }
   ],
   "source": [
    "# 数组中元素的数据类型\n",
    "\n",
    "x.dtype"
   ]
  },
  {
   "cell_type": "code",
   "execution_count": 18,
   "id": "df09ce84",
   "metadata": {},
   "outputs": [
    {
     "data": {
      "text/plain": [
       "8"
      ]
     },
     "execution_count": 18,
     "metadata": {},
     "output_type": "execute_result"
    }
   ],
   "source": [
    "# 数组中每个元素所需的内存空间（单位：字节）\n",
    "\n",
    "x.itemsize"
   ]
  },
  {
   "cell_type": "code",
   "execution_count": 19,
   "id": "1cd040eb",
   "metadata": {},
   "outputs": [
    {
     "data": {
      "text/plain": [
       "(24, 8)"
      ]
     },
     "execution_count": 19,
     "metadata": {},
     "output_type": "execute_result"
    }
   ],
   "source": [
    "# 内存中从一个元素移动到下一个元素所需的偏移量（单位：字节）\n",
    "# 24表示，沿着第一个维度移动到下一个元素要偏移24个字节\n",
    "# 8表示，沿着第二个维度移动到下一个元素老板娘偏移8个字节\n",
    "\n",
    "x.strides"
   ]
  },
  {
   "cell_type": "code",
   "execution_count": 21,
   "id": "538a75b3",
   "metadata": {},
   "outputs": [
    {
     "data": {
      "text/plain": [
       "48"
      ]
     },
     "execution_count": 21,
     "metadata": {},
     "output_type": "execute_result"
    }
   ],
   "source": [
    "# 存储该数组所需的总大小（字节）= x.itemsize * x.size\n",
    "\n",
    "x.nbytes"
   ]
  },
  {
   "cell_type": "code",
   "execution_count": 22,
   "id": "c04da0ee",
   "metadata": {},
   "outputs": [
    {
     "data": {
      "text/plain": [
       "<memory at 0x10bd59e50>"
      ]
     },
     "execution_count": 22,
     "metadata": {},
     "output_type": "execute_result"
    }
   ],
   "source": [
    "# 数组元素对应的内存区域\n",
    "\n",
    "x.data"
   ]
  },
  {
   "cell_type": "code",
   "execution_count": 24,
   "id": "a569a317",
   "metadata": {},
   "outputs": [
    {
     "data": {
      "text/plain": [
       "bytearray(b'\\x01\\x00\\x00\\x00\\x00\\x00\\x00\\x00\\x02\\x00\\x00\\x00\\x00\\x00\\x00\\x00\\x03\\x00\\x00\\x00\\x00\\x00\\x00\\x00\\x04\\x00\\x00\\x00\\x00\\x00\\x00\\x00\\x05\\x00\\x00\\x00\\x00\\x00\\x00\\x00\\x06\\x00\\x00\\x00\\x00\\x00\\x00\\x00')"
      ]
     },
     "execution_count": 24,
     "metadata": {},
     "output_type": "execute_result"
    }
   ],
   "source": [
    "# 通过bytearray将内存地址转换成字节串\n",
    "# 通过字节串可以看到前8个字节存储的是1，依次是2，3，4，5，6\n",
    "# 通过字节串可以知道，Numpy中的ndarray是按照行来存储数据\n",
    "\n",
    "bytearray(x.data)"
   ]
  },
  {
   "cell_type": "markdown",
   "id": "db0d46d5",
   "metadata": {},
   "source": [
    "# 从list创建"
   ]
  },
  {
   "cell_type": "code",
   "execution_count": 25,
   "id": "787caa67",
   "metadata": {},
   "outputs": [
    {
     "data": {
      "text/plain": [
       "array([1, 2, 3])"
      ]
     },
     "execution_count": 25,
     "metadata": {},
     "output_type": "execute_result"
    }
   ],
   "source": [
    "# 一维array\n",
    "\n",
    "x = np.array([1,2,3])\n",
    "x"
   ]
  },
  {
   "cell_type": "code",
   "execution_count": 26,
   "id": "db595069",
   "metadata": {},
   "outputs": [
    {
     "data": {
      "text/plain": [
       "array([[1, 2, 3],\n",
       "       [4, 5, 6]])"
      ]
     },
     "execution_count": 26,
     "metadata": {},
     "output_type": "execute_result"
    }
   ],
   "source": [
    "# 二维array\n",
    "\n",
    "x = np.array([[1,2,3],[4,5,6]])\n",
    "x"
   ]
  },
  {
   "cell_type": "code",
   "execution_count": 27,
   "id": "e8f2c90f",
   "metadata": {},
   "outputs": [
    {
     "data": {
      "text/plain": [
       "array([[[1, 2, 3],\n",
       "        [4, 5, 6],\n",
       "        [7, 8, 9]]])"
      ]
     },
     "execution_count": 27,
     "metadata": {},
     "output_type": "execute_result"
    }
   ],
   "source": [
    "# 三维array\n",
    "\n",
    "x = np.array([[[1,2,3],[4,5,6],[7,8,9]]])\n",
    "x"
   ]
  },
  {
   "cell_type": "code",
   "execution_count": 29,
   "id": "8acb02b9",
   "metadata": {},
   "outputs": [
    {
     "data": {
      "text/plain": [
       "array([1., 2., 3.])"
      ]
     },
     "execution_count": 29,
     "metadata": {},
     "output_type": "execute_result"
    }
   ],
   "source": [
    "# 指定array元素的数据类型\n",
    "\n",
    "x = np.array([1,2,3],dtype=float)\n",
    "x"
   ]
  },
  {
   "cell_type": "code",
   "execution_count": 33,
   "id": "38749f60",
   "metadata": {},
   "outputs": [
    {
     "data": {
      "text/plain": [
       "array([1., 2., 3.])"
      ]
     },
     "execution_count": 33,
     "metadata": {},
     "output_type": "execute_result"
    }
   ],
   "source": [
    "# 自动向高精度转换\n",
    "\n",
    "x = np.array([1,2,3.0])\n",
    "x"
   ]
  },
  {
   "cell_type": "code",
   "execution_count": 31,
   "id": "b65d9f3a",
   "metadata": {},
   "outputs": [
    {
     "name": "stdout",
     "output_type": "stream",
     "text": [
      "[[1 2 3]\n",
      " [4 5 6]]\n",
      "8\n",
      "(24, 8)\n"
     ]
    }
   ],
   "source": [
    "# C语言风格\n",
    "\n",
    "x = np.array([[1,2,3],[4,5,6]], order='c')\n",
    "print(x)\n",
    "print(x.itemsize)\n",
    "print(x.strides)"
   ]
  },
  {
   "cell_type": "code",
   "execution_count": 35,
   "id": "9b70086a",
   "metadata": {},
   "outputs": [
    {
     "name": "stdout",
     "output_type": "stream",
     "text": [
      "[[1 2 3]\n",
      " [4 5 6]]\n",
      "8\n",
      "(8, 16)\n"
     ]
    }
   ],
   "source": [
    "# Fortran语言风格\n",
    "\n",
    "x = np.array([[1,2,3],[4,5,6]], order='F')\n",
    "print(x)\n",
    "print(x.itemsize)\n",
    "print(x.strides)"
   ]
  },
  {
   "cell_type": "markdown",
   "id": "e4ffcade",
   "metadata": {},
   "source": [
    "# 创建一个初始化的array"
   ]
  },
  {
   "cell_type": "code",
   "execution_count": 39,
   "id": "0ae64c42",
   "metadata": {},
   "outputs": [
    {
     "name": "stdout",
     "output_type": "stream",
     "text": [
      "[[0. 0. 0.]\n",
      " [0. 0. 0.]]\n"
     ]
    }
   ],
   "source": [
    "# 全0数组\n",
    "\n",
    "x = np.zeros([2,3])\n",
    "print(x)"
   ]
  },
  {
   "cell_type": "code",
   "execution_count": 40,
   "id": "dd4aced5",
   "metadata": {},
   "outputs": [
    {
     "name": "stdout",
     "output_type": "stream",
     "text": [
      "[0 0 0]\n"
     ]
    }
   ],
   "source": [
    "# 根据一个数组的shape和type创建一个全0数组\n",
    "\n",
    "a = np.array([1,2,3])\n",
    "b = np.zeros_like(a)\n",
    "print(b)"
   ]
  },
  {
   "cell_type": "code",
   "execution_count": 41,
   "id": "a533961c",
   "metadata": {},
   "outputs": [
    {
     "data": {
      "text/plain": [
       "array([[1., 1., 1.],\n",
       "       [1., 1., 1.]])"
      ]
     },
     "execution_count": 41,
     "metadata": {},
     "output_type": "execute_result"
    }
   ],
   "source": [
    "# 全1数组\n",
    "\n",
    "x = np.ones([2,3])\n",
    "x"
   ]
  },
  {
   "cell_type": "code",
   "execution_count": 42,
   "id": "1a022b6d",
   "metadata": {},
   "outputs": [
    {
     "data": {
      "text/plain": [
       "array([1, 1, 1])"
      ]
     },
     "execution_count": 42,
     "metadata": {},
     "output_type": "execute_result"
    }
   ],
   "source": [
    "# 根据一个数组的shape和type创建一个全1数组\n",
    "\n",
    "a = np.array([1,2,3])\n",
    "b = np.ones_like(a)\n",
    "b"
   ]
  },
  {
   "cell_type": "code",
   "execution_count": 43,
   "id": "c5b3576a",
   "metadata": {},
   "outputs": [
    {
     "data": {
      "text/plain": [
       "array([[3., 3., 3.],\n",
       "       [3., 3., 3.]])"
      ]
     },
     "execution_count": 43,
     "metadata": {},
     "output_type": "execute_result"
    }
   ],
   "source": [
    "# 全指定值的数组\n",
    "\n",
    "x = np.full([2,3],3, dtype=float)\n",
    "x"
   ]
  },
  {
   "cell_type": "code",
   "execution_count": 46,
   "id": "ebb5832d",
   "metadata": {},
   "outputs": [
    {
     "data": {
      "text/plain": [
       "array([4, 4, 4])"
      ]
     },
     "execution_count": 46,
     "metadata": {},
     "output_type": "execute_result"
    }
   ],
   "source": [
    "# 根据一个数组的shape和type创建一个全指定值的数组\n",
    "\n",
    "a = np.array([1,2,3])\n",
    "b = np.full_like(a,4)\n",
    "b"
   ]
  },
  {
   "cell_type": "code",
   "execution_count": 51,
   "id": "892e10e0",
   "metadata": {},
   "outputs": [
    {
     "data": {
      "text/plain": [
       "array([[1., 0., 0.],\n",
       "       [0., 1., 0.],\n",
       "       [0., 0., 1.]])"
      ]
     },
     "execution_count": 51,
     "metadata": {},
     "output_type": "execute_result"
    }
   ],
   "source": [
    "# 二维对角数组\n",
    "# np.eye(N,M,k)\n",
    "# N: 行数\n",
    "# M: 列数\n",
    "# k: 0表示中间一条对角线，正数表示向上移k条对角线，负数表示向下\n",
    "a = np.eye(3,3,0)\n",
    "a"
   ]
  },
  {
   "cell_type": "code",
   "execution_count": 58,
   "id": "d57fab7b",
   "metadata": {},
   "outputs": [
    {
     "data": {
      "text/plain": [
       "array([[0., 1., 0.],\n",
       "       [0., 0., 1.],\n",
       "       [0., 0., 0.]])"
      ]
     },
     "execution_count": 58,
     "metadata": {},
     "output_type": "execute_result"
    }
   ],
   "source": [
    "b = np.eye(3,3,1)\n",
    "b"
   ]
  },
  {
   "cell_type": "code",
   "execution_count": 64,
   "id": "2691ae1f",
   "metadata": {},
   "outputs": [
    {
     "data": {
      "text/plain": [
       "array([[0., 0., 0.],\n",
       "       [0., 0., 0.],\n",
       "       [1., 0., 0.],\n",
       "       [0., 1., 0.],\n",
       "       [0., 0., 1.]])"
      ]
     },
     "execution_count": 64,
     "metadata": {},
     "output_type": "execute_result"
    }
   ],
   "source": [
    "c = np.eye(5,3,-2)\n",
    "c"
   ]
  },
  {
   "cell_type": "markdown",
   "id": "7f76dc37",
   "metadata": {},
   "source": [
    "# 创建一个等分区间的array\n",
    "\n",
    "## 根据固定步长等分区间: arange\n",
    "### np.arange([start,] stop[, step,], dtype=None)\n",
    "### start: 起点\n",
    "### stop: 终点\n",
    "### step: 每次增加的步长\n",
    "\n",
    "### 返回: 从start开始，每隔step取一个值，直到超过stop"
   ]
  },
  {
   "cell_type": "code",
   "execution_count": 65,
   "id": "05c4d6c1",
   "metadata": {},
   "outputs": [
    {
     "data": {
      "text/plain": [
       "array([0, 1, 2, 3, 4, 5, 6, 7, 8, 9])"
      ]
     },
     "execution_count": 65,
     "metadata": {},
     "output_type": "execute_result"
    }
   ],
   "source": [
    "# 根据固定步长等分区间\n",
    "x = np.arange(0,10,1)\n",
    "x"
   ]
  },
  {
   "cell_type": "markdown",
   "id": "941ea7c4",
   "metadata": {},
   "source": [
    "## 根据分隔点数分割区间: linspace\n",
    "### np.linspace(start, stop, num=50, endpoint=True, retstep=False, dtype=None)\n",
    "### start: 起点\n",
    "### stop: 终点\n",
    "### num: 返回多少个点\n",
    "### endpoint: 终点是否包含在内\n",
    "### • True = 把区间[start, stop]等分成num-1份，加上终点得num个点\n",
    "### • False = 把区间[start, stop]等分成num份，不包含终点得num个点\n",
    "### retstep: 结果是否返回步长，如果为True，则返回值为有两个元素的tuple，第一个是数组，第二个是步长\n",
    "### dtype: 数据类型"
   ]
  },
  {
   "cell_type": "code",
   "execution_count": 66,
   "id": "6a53253f",
   "metadata": {},
   "outputs": [
    {
     "data": {
      "text/plain": [
       "array([0.  , 1.25, 2.5 , 3.75, 5.  ])"
      ]
     },
     "execution_count": 66,
     "metadata": {},
     "output_type": "execute_result"
    }
   ],
   "source": [
    "# 根据分隔点数分割区间\n",
    "x = np.linspace(0,5,5)\n",
    "x"
   ]
  },
  {
   "cell_type": "code",
   "execution_count": 67,
   "id": "6e37c06a",
   "metadata": {},
   "outputs": [
    {
     "data": {
      "text/plain": [
       "array([0., 1., 2., 3., 4.])"
      ]
     },
     "execution_count": 67,
     "metadata": {},
     "output_type": "execute_result"
    }
   ],
   "source": [
    "# 不包含终点\n",
    "x = np.linspace(0, 5, 5, endpoint=False)\n",
    "x"
   ]
  },
  {
   "cell_type": "code",
   "execution_count": 68,
   "id": "8da1f60d",
   "metadata": {},
   "outputs": [
    {
     "data": {
      "text/plain": [
       "array([0., 1., 2., 3., 4.])"
      ]
     },
     "execution_count": 68,
     "metadata": {},
     "output_type": "execute_result"
    }
   ],
   "source": [
    "# 以上等价于\n",
    "x = np.linspace(0,5,6)[:-1]\n",
    "x"
   ]
  },
  {
   "cell_type": "code",
   "execution_count": 72,
   "id": "c0e6e77d",
   "metadata": {},
   "outputs": [
    {
     "name": "stdout",
     "output_type": "stream",
     "text": [
      "[0.   1.25 2.5  3.75 5.  ]\n",
      "1.25\n"
     ]
    }
   ],
   "source": [
    "# 返回步长\n",
    "x, step = np.linspace(0, 5, 5, retstep=True)\n",
    "print(x)\n",
    "print(step)"
   ]
  },
  {
   "cell_type": "markdown",
   "id": "c102dc4f",
   "metadata": {},
   "source": [
    "# 从函数创建array\n",
    "### np.fromfunction(function, shape, **kwargs)\n",
    "### function: 定义一个函数，接受N个参数（N=维数），这N个参数表示数组中一个元素的下标，根据下标计算一个返回值\n",
    "### shape: 定义数组每个维度的大小\n",
    "### dtype: 定义function所接受参数的类型"
   ]
  },
  {
   "cell_type": "code",
   "execution_count": 73,
   "id": "468ff628",
   "metadata": {},
   "outputs": [
    {
     "name": "stdout",
     "output_type": "stream",
     "text": [
      "[[0. 1. 2. 3.]\n",
      " [1. 2. 3. 4.]\n",
      " [2. 3. 4. 5.]]\n"
     ]
    }
   ],
   "source": [
    "# 位置(i, j)的元素等于 i+j\n",
    "x = np.fromfunction(lambda x, y: x + y, (3,4))\n",
    "print(x)"
   ]
  },
  {
   "cell_type": "code",
   "execution_count": 74,
   "id": "0cd6b717",
   "metadata": {},
   "outputs": [
    {
     "name": "stdout",
     "output_type": "stream",
     "text": [
      "[[0 1 2 3]\n",
      " [1 2 3 4]\n",
      " [2 3 4 5]]\n"
     ]
    }
   ],
   "source": [
    "# 位置(i,j)的元素等于 i+j, 通过dtype来控制参数的类型\n",
    "x = np.fromfunction(lambda x, y: x+y, (3, 4), dtype=int)\n",
    "print(x)"
   ]
  },
  {
   "cell_type": "code",
   "execution_count": 76,
   "id": "8221a7ab",
   "metadata": {},
   "outputs": [
    {
     "name": "stdout",
     "output_type": "stream",
     "text": [
      "[[0 1 0 1]\n",
      " [1 0 1 0]\n",
      " [0 1 0 1]]\n"
     ]
    }
   ],
   "source": [
    "# x + y 为奇数的位置(i, y)取1, 其余为0\n",
    "x = np.fromfunction(lambda x, y:(x+y) % 2, (3,4),dtype=int)\n",
    "print(x)"
   ]
  },
  {
   "cell_type": "code",
   "execution_count": null,
   "id": "b4ac0fa7",
   "metadata": {},
   "outputs": [],
   "source": []
  }
 ],
 "metadata": {
  "kernelspec": {
   "display_name": "Python 3 (ipykernel)",
   "language": "python",
   "name": "python3"
  },
  "language_info": {
   "codemirror_mode": {
    "name": "ipython",
    "version": 3
   },
   "file_extension": ".py",
   "mimetype": "text/x-python",
   "name": "python",
   "nbconvert_exporter": "python",
   "pygments_lexer": "ipython3",
   "version": "3.11.7"
  }
 },
 "nbformat": 4,
 "nbformat_minor": 5
}
