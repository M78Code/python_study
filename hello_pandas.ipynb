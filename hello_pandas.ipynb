{
 "cells": [
  {
   "cell_type": "markdown",
   "id": "da967f9c",
   "metadata": {},
   "source": [
    "# 1 pandas案例导入"
   ]
  },
  {
   "cell_type": "code",
   "execution_count": 6,
   "id": "9fd26c7c",
   "metadata": {},
   "outputs": [],
   "source": [
    "import pandas as pd\n",
    "import numpy as np"
   ]
  },
  {
   "cell_type": "code",
   "execution_count": 7,
   "id": "d31e91e0",
   "metadata": {},
   "outputs": [],
   "source": [
    "stock_change = np.random.normal(0,1,(10,5))"
   ]
  },
  {
   "cell_type": "code",
   "execution_count": 8,
   "id": "cedb85a2",
   "metadata": {},
   "outputs": [
    {
     "data": {
      "text/plain": [
       "array([[ 1.17108525,  0.26883255, -1.7950893 ,  0.178998  , -0.38355205],\n",
       "       [ 2.54974114, -1.21068077, -0.66548648, -0.84547434,  0.47500505],\n",
       "       [-1.03172529, -0.53745668,  0.30134993, -0.45428172,  1.54005363],\n",
       "       [ 1.26898038,  2.07526958,  1.4110566 ,  0.81117554,  0.25206349],\n",
       "       [ 0.1641972 ,  1.45446383, -0.97528228, -0.0720267 , -0.33458231],\n",
       "       [-0.43137412,  1.33559933,  1.27767555,  1.93516564,  1.00164886],\n",
       "       [ 0.67026839, -0.21301324,  1.31105016, -1.78139481, -1.12968646],\n",
       "       [ 0.83042916,  0.29824319, -1.35230166, -0.80378988,  1.18420726],\n",
       "       [-0.85720147, -0.23980393, -1.43019322,  1.03968441,  1.91447968],\n",
       "       [-0.56921408,  0.07797924,  0.49813446, -0.04646658, -0.23454107]])"
      ]
     },
     "execution_count": 8,
     "metadata": {},
     "output_type": "execute_result"
    }
   ],
   "source": [
    "stock_change"
   ]
  },
  {
   "cell_type": "code",
   "execution_count": 11,
   "id": "cd6fff7c",
   "metadata": {},
   "outputs": [],
   "source": [
    "stock_rise = pd.DataFrame(stock_change)"
   ]
  },
  {
   "cell_type": "code",
   "execution_count": 12,
   "id": "79069e2e",
   "metadata": {},
   "outputs": [
    {
     "data": {
      "text/html": [
       "<div>\n",
       "<style scoped>\n",
       "    .dataframe tbody tr th:only-of-type {\n",
       "        vertical-align: middle;\n",
       "    }\n",
       "\n",
       "    .dataframe tbody tr th {\n",
       "        vertical-align: top;\n",
       "    }\n",
       "\n",
       "    .dataframe thead th {\n",
       "        text-align: right;\n",
       "    }\n",
       "</style>\n",
       "<table border=\"1\" class=\"dataframe\">\n",
       "  <thead>\n",
       "    <tr style=\"text-align: right;\">\n",
       "      <th></th>\n",
       "      <th>0</th>\n",
       "      <th>1</th>\n",
       "      <th>2</th>\n",
       "      <th>3</th>\n",
       "      <th>4</th>\n",
       "    </tr>\n",
       "  </thead>\n",
       "  <tbody>\n",
       "    <tr>\n",
       "      <th>0</th>\n",
       "      <td>1.171085</td>\n",
       "      <td>0.268833</td>\n",
       "      <td>-1.795089</td>\n",
       "      <td>0.178998</td>\n",
       "      <td>-0.383552</td>\n",
       "    </tr>\n",
       "    <tr>\n",
       "      <th>1</th>\n",
       "      <td>2.549741</td>\n",
       "      <td>-1.210681</td>\n",
       "      <td>-0.665486</td>\n",
       "      <td>-0.845474</td>\n",
       "      <td>0.475005</td>\n",
       "    </tr>\n",
       "    <tr>\n",
       "      <th>2</th>\n",
       "      <td>-1.031725</td>\n",
       "      <td>-0.537457</td>\n",
       "      <td>0.301350</td>\n",
       "      <td>-0.454282</td>\n",
       "      <td>1.540054</td>\n",
       "    </tr>\n",
       "    <tr>\n",
       "      <th>3</th>\n",
       "      <td>1.268980</td>\n",
       "      <td>2.075270</td>\n",
       "      <td>1.411057</td>\n",
       "      <td>0.811176</td>\n",
       "      <td>0.252063</td>\n",
       "    </tr>\n",
       "    <tr>\n",
       "      <th>4</th>\n",
       "      <td>0.164197</td>\n",
       "      <td>1.454464</td>\n",
       "      <td>-0.975282</td>\n",
       "      <td>-0.072027</td>\n",
       "      <td>-0.334582</td>\n",
       "    </tr>\n",
       "    <tr>\n",
       "      <th>5</th>\n",
       "      <td>-0.431374</td>\n",
       "      <td>1.335599</td>\n",
       "      <td>1.277676</td>\n",
       "      <td>1.935166</td>\n",
       "      <td>1.001649</td>\n",
       "    </tr>\n",
       "    <tr>\n",
       "      <th>6</th>\n",
       "      <td>0.670268</td>\n",
       "      <td>-0.213013</td>\n",
       "      <td>1.311050</td>\n",
       "      <td>-1.781395</td>\n",
       "      <td>-1.129686</td>\n",
       "    </tr>\n",
       "    <tr>\n",
       "      <th>7</th>\n",
       "      <td>0.830429</td>\n",
       "      <td>0.298243</td>\n",
       "      <td>-1.352302</td>\n",
       "      <td>-0.803790</td>\n",
       "      <td>1.184207</td>\n",
       "    </tr>\n",
       "    <tr>\n",
       "      <th>8</th>\n",
       "      <td>-0.857201</td>\n",
       "      <td>-0.239804</td>\n",
       "      <td>-1.430193</td>\n",
       "      <td>1.039684</td>\n",
       "      <td>1.914480</td>\n",
       "    </tr>\n",
       "    <tr>\n",
       "      <th>9</th>\n",
       "      <td>-0.569214</td>\n",
       "      <td>0.077979</td>\n",
       "      <td>0.498134</td>\n",
       "      <td>-0.046467</td>\n",
       "      <td>-0.234541</td>\n",
       "    </tr>\n",
       "  </tbody>\n",
       "</table>\n",
       "</div>"
      ],
      "text/plain": [
       "          0         1         2         3         4\n",
       "0  1.171085  0.268833 -1.795089  0.178998 -0.383552\n",
       "1  2.549741 -1.210681 -0.665486 -0.845474  0.475005\n",
       "2 -1.031725 -0.537457  0.301350 -0.454282  1.540054\n",
       "3  1.268980  2.075270  1.411057  0.811176  0.252063\n",
       "4  0.164197  1.454464 -0.975282 -0.072027 -0.334582\n",
       "5 -0.431374  1.335599  1.277676  1.935166  1.001649\n",
       "6  0.670268 -0.213013  1.311050 -1.781395 -1.129686\n",
       "7  0.830429  0.298243 -1.352302 -0.803790  1.184207\n",
       "8 -0.857201 -0.239804 -1.430193  1.039684  1.914480\n",
       "9 -0.569214  0.077979  0.498134 -0.046467 -0.234541"
      ]
     },
     "execution_count": 12,
     "metadata": {},
     "output_type": "execute_result"
    }
   ],
   "source": [
    "stock_rise"
   ]
  },
  {
   "cell_type": "code",
   "execution_count": 14,
   "id": "12886cd3",
   "metadata": {},
   "outputs": [
    {
     "data": {
      "text/plain": [
       "(10, 5)"
      ]
     },
     "execution_count": 14,
     "metadata": {},
     "output_type": "execute_result"
    }
   ],
   "source": [
    "stock_rise.shape"
   ]
  },
  {
   "cell_type": "code",
   "execution_count": 15,
   "id": "67cddf21",
   "metadata": {},
   "outputs": [
    {
     "data": {
      "text/plain": [
       "10"
      ]
     },
     "execution_count": 15,
     "metadata": {},
     "output_type": "execute_result"
    }
   ],
   "source": [
    "stock_rise.shape[0]"
   ]
  },
  {
   "cell_type": "code",
   "execution_count": 16,
   "id": "c9d62e53",
   "metadata": {},
   "outputs": [],
   "source": [
    "stock_code = [\"股票{}\".format(i+1) for i in range(stock_rise.shape[0])]"
   ]
  },
  {
   "cell_type": "code",
   "execution_count": 17,
   "id": "f1dde39f",
   "metadata": {},
   "outputs": [
    {
     "data": {
      "text/plain": [
       "['股票1', '股票2', '股票3', '股票4', '股票5', '股票6', '股票7', '股票8', '股票9', '股票10']"
      ]
     },
     "execution_count": 17,
     "metadata": {},
     "output_type": "execute_result"
    }
   ],
   "source": [
    "stock_code"
   ]
  },
  {
   "cell_type": "code",
   "execution_count": 23,
   "id": "730dd1e7",
   "metadata": {},
   "outputs": [],
   "source": [
    "stock_rise_shape=pd.DataFrame(stock_change,index=stock_code)"
   ]
  },
  {
   "cell_type": "code",
   "execution_count": 24,
   "id": "6d797a19",
   "metadata": {},
   "outputs": [
    {
     "data": {
      "text/html": [
       "<div>\n",
       "<style scoped>\n",
       "    .dataframe tbody tr th:only-of-type {\n",
       "        vertical-align: middle;\n",
       "    }\n",
       "\n",
       "    .dataframe tbody tr th {\n",
       "        vertical-align: top;\n",
       "    }\n",
       "\n",
       "    .dataframe thead th {\n",
       "        text-align: right;\n",
       "    }\n",
       "</style>\n",
       "<table border=\"1\" class=\"dataframe\">\n",
       "  <thead>\n",
       "    <tr style=\"text-align: right;\">\n",
       "      <th></th>\n",
       "      <th>0</th>\n",
       "      <th>1</th>\n",
       "      <th>2</th>\n",
       "      <th>3</th>\n",
       "      <th>4</th>\n",
       "    </tr>\n",
       "  </thead>\n",
       "  <tbody>\n",
       "    <tr>\n",
       "      <th>股票1</th>\n",
       "      <td>1.171085</td>\n",
       "      <td>0.268833</td>\n",
       "      <td>-1.795089</td>\n",
       "      <td>0.178998</td>\n",
       "      <td>-0.383552</td>\n",
       "    </tr>\n",
       "    <tr>\n",
       "      <th>股票2</th>\n",
       "      <td>2.549741</td>\n",
       "      <td>-1.210681</td>\n",
       "      <td>-0.665486</td>\n",
       "      <td>-0.845474</td>\n",
       "      <td>0.475005</td>\n",
       "    </tr>\n",
       "    <tr>\n",
       "      <th>股票3</th>\n",
       "      <td>-1.031725</td>\n",
       "      <td>-0.537457</td>\n",
       "      <td>0.301350</td>\n",
       "      <td>-0.454282</td>\n",
       "      <td>1.540054</td>\n",
       "    </tr>\n",
       "    <tr>\n",
       "      <th>股票4</th>\n",
       "      <td>1.268980</td>\n",
       "      <td>2.075270</td>\n",
       "      <td>1.411057</td>\n",
       "      <td>0.811176</td>\n",
       "      <td>0.252063</td>\n",
       "    </tr>\n",
       "    <tr>\n",
       "      <th>股票5</th>\n",
       "      <td>0.164197</td>\n",
       "      <td>1.454464</td>\n",
       "      <td>-0.975282</td>\n",
       "      <td>-0.072027</td>\n",
       "      <td>-0.334582</td>\n",
       "    </tr>\n",
       "    <tr>\n",
       "      <th>股票6</th>\n",
       "      <td>-0.431374</td>\n",
       "      <td>1.335599</td>\n",
       "      <td>1.277676</td>\n",
       "      <td>1.935166</td>\n",
       "      <td>1.001649</td>\n",
       "    </tr>\n",
       "    <tr>\n",
       "      <th>股票7</th>\n",
       "      <td>0.670268</td>\n",
       "      <td>-0.213013</td>\n",
       "      <td>1.311050</td>\n",
       "      <td>-1.781395</td>\n",
       "      <td>-1.129686</td>\n",
       "    </tr>\n",
       "    <tr>\n",
       "      <th>股票8</th>\n",
       "      <td>0.830429</td>\n",
       "      <td>0.298243</td>\n",
       "      <td>-1.352302</td>\n",
       "      <td>-0.803790</td>\n",
       "      <td>1.184207</td>\n",
       "    </tr>\n",
       "    <tr>\n",
       "      <th>股票9</th>\n",
       "      <td>-0.857201</td>\n",
       "      <td>-0.239804</td>\n",
       "      <td>-1.430193</td>\n",
       "      <td>1.039684</td>\n",
       "      <td>1.914480</td>\n",
       "    </tr>\n",
       "    <tr>\n",
       "      <th>股票10</th>\n",
       "      <td>-0.569214</td>\n",
       "      <td>0.077979</td>\n",
       "      <td>0.498134</td>\n",
       "      <td>-0.046467</td>\n",
       "      <td>-0.234541</td>\n",
       "    </tr>\n",
       "  </tbody>\n",
       "</table>\n",
       "</div>"
      ],
      "text/plain": [
       "             0         1         2         3         4\n",
       "股票1   1.171085  0.268833 -1.795089  0.178998 -0.383552\n",
       "股票2   2.549741 -1.210681 -0.665486 -0.845474  0.475005\n",
       "股票3  -1.031725 -0.537457  0.301350 -0.454282  1.540054\n",
       "股票4   1.268980  2.075270  1.411057  0.811176  0.252063\n",
       "股票5   0.164197  1.454464 -0.975282 -0.072027 -0.334582\n",
       "股票6  -0.431374  1.335599  1.277676  1.935166  1.001649\n",
       "股票7   0.670268 -0.213013  1.311050 -1.781395 -1.129686\n",
       "股票8   0.830429  0.298243 -1.352302 -0.803790  1.184207\n",
       "股票9  -0.857201 -0.239804 -1.430193  1.039684  1.914480\n",
       "股票10 -0.569214  0.077979  0.498134 -0.046467 -0.234541"
      ]
     },
     "execution_count": 24,
     "metadata": {},
     "output_type": "execute_result"
    }
   ],
   "source": [
    "stock_rise_shape"
   ]
  },
  {
   "cell_type": "code",
   "execution_count": 25,
   "id": "a2b4acac",
   "metadata": {},
   "outputs": [
    {
     "ename": "TypeError",
     "evalue": "'DataFrame' object is not callable",
     "output_type": "error",
     "traceback": [
      "\u001b[0;31m---------------------------------------------------------------------------\u001b[0m",
      "\u001b[0;31mTypeError\u001b[0m                                 Traceback (most recent call last)",
      "Cell \u001b[0;32mIn[25], line 1\u001b[0m\n\u001b[0;32m----> 1\u001b[0m date \u001b[38;5;241m=\u001b[39m pd\u001b[38;5;241m.\u001b[39mdate_range(start\u001b[38;5;241m=\u001b[39m\u001b[38;5;124m\"\u001b[39m\u001b[38;5;124m20201010\u001b[39m\u001b[38;5;124m\"\u001b[39m,periods\u001b[38;5;241m=\u001b[39mstock_rise_shape(\u001b[38;5;241m1\u001b[39m),freq\u001b[38;5;241m=\u001b[39m\u001b[38;5;124m\"\u001b[39m\u001b[38;5;124mB\u001b[39m\u001b[38;5;124m\"\u001b[39m)\n",
      "\u001b[0;31mTypeError\u001b[0m: 'DataFrame' object is not callable"
     ]
    }
   ],
   "source": [
    "date = pd.date_range(start=\"20201010\",periods=stock_rise_shape(1),freq=\"B\")"
   ]
  },
  {
   "cell_type": "code",
   "execution_count": null,
   "id": "2d97e5ab",
   "metadata": {},
   "outputs": [],
   "source": []
  }
 ],
 "metadata": {
  "kernelspec": {
   "display_name": "Python 3 (ipykernel)",
   "language": "python",
   "name": "python3"
  },
  "language_info": {
   "codemirror_mode": {
    "name": "ipython",
    "version": 3
   },
   "file_extension": ".py",
   "mimetype": "text/x-python",
   "name": "python",
   "nbconvert_exporter": "python",
   "pygments_lexer": "ipython3",
   "version": "3.11.7"
  }
 },
 "nbformat": 4,
 "nbformat_minor": 5
}
