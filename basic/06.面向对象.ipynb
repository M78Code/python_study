{
 "cells": [
  {
   "cell_type": "markdown",
   "id": "bc9cf301",
   "metadata": {},
   "source": [
    "对象（object）\n",
    "    Python是一门面向对象的语言\n",
    "程序运行当中，所有的数据都是存储到内在当中然后再运行\n",
    "对象就是内在中专门用来存储指定数据的一场区域\n",
    "对象实际上就是一个容器，专门用来存储数据\n",
    "Python中的数值，字符串，布尔值，None都是对象\n",
    "\n",
    "对象的结构\n",
    "每个对象中都要保存有三种数据\n",
    "    id（标识）\n",
    "         > id用来标识对象的唯一性，每一个对象都有唯一的id\n",
    "         > 对象的id就相当于人的身份证号一样\n",
    "         > 可以通过id()函数来查看对象的id\n",
    "         > id是由解析器生成的，在CPython中，id就是对象的内在地址\n",
    "    type（类型）\n",
    "         > 类型用来标识当前对象所属的类型\n",
    "         > 比如: int str float bool ...\n",
    "         > 类型决定了对象有哪些功能\n",
    "         > python是一门强类型的语言，对象一旦创建类型便不能修改\n",
    "    value（值）\n",
    "         > 值就是对象中存储的具体的数据\n",
    "         > 对于有些对象值是可以改变的\n",
    "         > 对象分成两大类，可变对象和不可变对象\n",
    "         可变对象的值可以改变,不可变对象的值不能改变，\n",
    "\n",
    "面向对象（oop）\n",
    "Python是一门面向对象的编程语言\n",
    "    所谓的面向对象的语言，简单理解就是语言中的所有操作都是通过对象来进行的\n",
    "面向过程的编程的语言\n",
    "    面向过程指将我们的程序的逻辑分解为一个一个的步骤。\n",
    "\n",
    "类(class)\n",
    "   int()、float()、bool()、str()、list()、dict()...这些都是类\n",
    "   a = int(10) # 创建一个int类的实例，等价于 a = 10\n",
    "   自定义的类都需要使用大写字母开头，使用大驼峰命名法（帕斯卡命名法）来对类命名"
   ]
  },
  {
   "cell_type": "code",
   "execution_count": 1,
   "id": "74f235a1",
   "metadata": {},
   "outputs": [
    {
     "name": "stdout",
     "output_type": "stream",
     "text": [
      "10 <class 'int'>\n",
      "hello <class 'str'>\n"
     ]
    }
   ],
   "source": [
    "a = int(10) #创建一个int类的实例\n",
    "b = str('hello') # 创建一个str类的实例\n",
    "print(a, type(a))\n",
    "print(b,type(b))"
   ]
  },
  {
   "cell_type": "markdown",
   "id": "518077c0",
   "metadata": {},
   "source": [
    "定义一个简单的类\n",
    "使用class关键字来定义类，语法和函数很像\n",
    "class 类名([父类]):\n",
    "    代码块"
   ]
  },
  {
   "cell_type": "code",
   "execution_count": 3,
   "id": "c8c0294a",
   "metadata": {},
   "outputs": [
    {
     "name": "stdout",
     "output_type": "stream",
     "text": [
      "<class '__main__.MyClass'>\n"
     ]
    }
   ],
   "source": [
    "class MyClass():\n",
    "    pass\n",
    "\n",
    "print(MyClass) # <class '__main__.MyClass'> 表示一个类，运行在主文件中的Myclass类"
   ]
  },
  {
   "cell_type": "markdown",
   "id": "d77bdaee",
   "metadata": {},
   "source": [
    "使用Myclass创建一个对象\n",
    "使用类来创建对象，就像调用一个函数一样"
   ]
  },
  {
   "cell_type": "code",
   "execution_count": 4,
   "id": "8ef23f11",
   "metadata": {},
   "outputs": [
    {
     "name": "stdout",
     "output_type": "stream",
     "text": [
      "<__main__.MyClass object at 0x1193246d0> <class '__main__.MyClass'>\n"
     ]
    }
   ],
   "source": [
    "mc = MyClass() # mc就是通过MyClass创建的对象，mc是MyClass的实例\n",
    "\n",
    "print(mc,type(mc))  # <__main__.MyClass object at 0x10178f150> <class '__main__.MyClass'>"
   ]
  }
 ],
 "metadata": {
  "kernelspec": {
   "display_name": "Python 3 (ipykernel)",
   "language": "python",
   "name": "python3"
  },
  "language_info": {
   "codemirror_mode": {
    "name": "ipython",
    "version": 3
   },
   "file_extension": ".py",
   "mimetype": "text/x-python",
   "name": "python",
   "nbconvert_exporter": "python",
   "pygments_lexer": "ipython3",
   "version": "3.11.5"
  }
 },
 "nbformat": 4,
 "nbformat_minor": 5
}
