{
 "cells": [
  {
   "cell_type": "markdown",
   "id": "e2e53b50",
   "metadata": {},
   "source": [
    "### 循环语句\n",
    "### 循环语句可以使指定的代码块重复指定的次数\n",
    "### 循环语句分成两种，while循环 和 for循环\n",
    "### while循环\n",
    "### 语法:\n",
    "###   while 条件表达式:\n",
    "###       代码块\n",
    "###   else:\n",
    "###       代码块 （while循环结束后会执行此代码块）\n",
    "\n",
    "### 循环的三个要素（表达式）\n",
    "### 初始化表达式，通过初始化表达式初始化一个变量"
   ]
  },
  {
   "cell_type": "code",
   "execution_count": 1,
   "id": "025c9d92",
   "metadata": {},
   "outputs": [
    {
     "name": "stdout",
     "output_type": "stream",
     "text": [
      "Hello World 0\n",
      "Hello World 1\n",
      "Hello World 2\n",
      "Hello World 3\n",
      "Hello World 4\n",
      "Hello World 5\n",
      "Hello World 6\n",
      "Hello World 7\n",
      "Hello World 8\n",
      "Hello World 9\n"
     ]
    }
   ],
   "source": [
    "i = 0\n",
    "\n",
    "# 条件表达式，条件表达式用来设置循环执行的条件\n",
    "while i < 10:\n",
    "    print(f\"Hello World {i}\")\n",
    "    # 更新表达式，修改初始化变量的值\n",
    "    i += 1 # (冒似python中没有其他语言的 ++, -- 计算)"
   ]
  },
  {
   "cell_type": "markdown",
   "id": "7deb01b9",
   "metadata": {},
   "source": [
    "### break\n",
    "### break可以用来立即循环语句（包括else）\n",
    "\n",
    "### continue\n",
    "### continue 可以用来跳过当次循环\n",
    "### break和continue都是只对离他最近的循环起作用\n",
    "    \n",
    "### pass\n",
    "### pass是用来在判断或循环语句中占位的"
   ]
  },
  {
   "cell_type": "code",
   "execution_count": null,
   "id": "e10dc42b",
   "metadata": {},
   "outputs": [],
   "source": []
  }
 ],
 "metadata": {
  "kernelspec": {
   "display_name": "Python 3 (ipykernel)",
   "language": "python",
   "name": "python3"
  },
  "language_info": {
   "codemirror_mode": {
    "name": "ipython",
    "version": 3
   },
   "file_extension": ".py",
   "mimetype": "text/x-python",
   "name": "python",
   "nbconvert_exporter": "python",
   "pygments_lexer": "ipython3",
   "version": "3.11.5"
  }
 },
 "nbformat": 4,
 "nbformat_minor": 5
}
