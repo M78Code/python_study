{
 "cells": [
  {
   "cell_type": "markdown",
   "id": "a38e937d",
   "metadata": {},
   "source": [
    "数学运算: (选中后， m键进入编辑模式，  Shift+Enter进入编码模式)"
   ]
  },
  {
   "cell_type": "code",
   "execution_count": 1,
   "id": "57429f91",
   "metadata": {},
   "outputs": [
    {
     "data": {
      "text/plain": [
       "6.3"
      ]
     },
     "execution_count": 1,
     "metadata": {},
     "output_type": "execute_result"
    }
   ],
   "source": [
    "2+4.3"
   ]
  },
  {
   "cell_type": "code",
   "execution_count": 2,
   "id": "1c45b0a8",
   "metadata": {},
   "outputs": [
    {
     "data": {
      "text/plain": [
       "3.3"
      ]
     },
     "execution_count": 2,
     "metadata": {},
     "output_type": "execute_result"
    }
   ],
   "source": [
    "4.3-1"
   ]
  },
  {
   "cell_type": "code",
   "execution_count": 3,
   "id": "c4ee0d46",
   "metadata": {},
   "outputs": [
    {
     "data": {
      "text/plain": [
       "9"
      ]
     },
     "execution_count": 3,
     "metadata": {},
     "output_type": "execute_result"
    }
   ],
   "source": [
    "3*3"
   ]
  },
  {
   "cell_type": "code",
   "execution_count": 4,
   "id": "79b8820f",
   "metadata": {},
   "outputs": [
    {
     "data": {
      "text/plain": [
       "2.4"
      ]
     },
     "execution_count": 4,
     "metadata": {},
     "output_type": "execute_result"
    }
   ],
   "source": [
    "12/5"
   ]
  },
  {
   "cell_type": "code",
   "execution_count": 5,
   "id": "53ce7c52",
   "metadata": {},
   "outputs": [
    {
     "data": {
      "text/plain": [
       "2"
      ]
     },
     "execution_count": 5,
     "metadata": {},
     "output_type": "execute_result"
    }
   ],
   "source": [
    "12%5"
   ]
  },
  {
   "cell_type": "code",
   "execution_count": 6,
   "id": "c0868dcf",
   "metadata": {},
   "outputs": [
    {
     "data": {
      "text/plain": [
       "27"
      ]
     },
     "execution_count": 6,
     "metadata": {},
     "output_type": "execute_result"
    }
   ],
   "source": [
    "3**3"
   ]
  },
  {
   "cell_type": "markdown",
   "id": "a0155377",
   "metadata": {},
   "source": [
    "变量的赋值:"
   ]
  },
  {
   "cell_type": "code",
   "execution_count": 7,
   "id": "355a0656",
   "metadata": {},
   "outputs": [],
   "source": [
    "a=0.2"
   ]
  },
  {
   "cell_type": "code",
   "execution_count": 8,
   "id": "bcf29e0a",
   "metadata": {},
   "outputs": [
    {
     "data": {
      "text/plain": [
       "0.2"
      ]
     },
     "execution_count": 8,
     "metadata": {},
     "output_type": "execute_result"
    }
   ],
   "source": [
    "a"
   ]
  },
  {
   "cell_type": "code",
   "execution_count": 9,
   "id": "7fc04400",
   "metadata": {},
   "outputs": [],
   "source": [
    "None"
   ]
  },
  {
   "cell_type": "markdown",
   "id": "88a5ae69",
   "metadata": {},
   "source": [
    "_ 表示上一个值"
   ]
  },
  {
   "cell_type": "code",
   "execution_count": 10,
   "id": "45d34a33",
   "metadata": {},
   "outputs": [
    {
     "data": {
      "text/plain": [
       "0.2"
      ]
     },
     "execution_count": 10,
     "metadata": {},
     "output_type": "execute_result"
    }
   ],
   "source": [
    "_"
   ]
  },
  {
   "cell_type": "markdown",
   "id": "4dc3b67f",
   "metadata": {},
   "source": [
    "多变量赋值"
   ]
  },
  {
   "cell_type": "code",
   "execution_count": 11,
   "id": "27ba0759",
   "metadata": {},
   "outputs": [],
   "source": [
    "a, b = 1, 2"
   ]
  },
  {
   "cell_type": "code",
   "execution_count": 12,
   "id": "f75a6e72",
   "metadata": {},
   "outputs": [
    {
     "data": {
      "text/plain": [
       "1"
      ]
     },
     "execution_count": 12,
     "metadata": {},
     "output_type": "execute_result"
    }
   ],
   "source": [
    "a"
   ]
  },
  {
   "cell_type": "code",
   "execution_count": 13,
   "id": "9c2fc26a",
   "metadata": {},
   "outputs": [
    {
     "data": {
      "text/plain": [
       "2"
      ]
     },
     "execution_count": 13,
     "metadata": {},
     "output_type": "execute_result"
    }
   ],
   "source": [
    "b"
   ]
  },
  {
   "cell_type": "markdown",
   "id": "206e3806",
   "metadata": {},
   "source": [
    "交换两个值"
   ]
  },
  {
   "cell_type": "code",
   "execution_count": 14,
   "id": "61712b51",
   "metadata": {},
   "outputs": [],
   "source": [
    "a,b = b,a"
   ]
  },
  {
   "cell_type": "code",
   "execution_count": 15,
   "id": "45fe5f18",
   "metadata": {},
   "outputs": [
    {
     "data": {
      "text/plain": [
       "2"
      ]
     },
     "execution_count": 15,
     "metadata": {},
     "output_type": "execute_result"
    }
   ],
   "source": [
    "a"
   ]
  },
  {
   "cell_type": "code",
   "execution_count": 16,
   "id": "36f8c12d",
   "metadata": {},
   "outputs": [
    {
     "data": {
      "text/plain": [
       "1"
      ]
     },
     "execution_count": 16,
     "metadata": {},
     "output_type": "execute_result"
    }
   ],
   "source": [
    "b"
   ]
  },
  {
   "cell_type": "markdown",
   "id": "a7a80fa6",
   "metadata": {},
   "source": [
    "函数的调用:"
   ]
  },
  {
   "cell_type": "code",
   "execution_count": 17,
   "id": "6473dfcc",
   "metadata": {},
   "outputs": [
    {
     "data": {
      "text/plain": [
       "1"
      ]
     },
     "execution_count": 17,
     "metadata": {},
     "output_type": "execute_result"
    }
   ],
   "source": [
    "abs(-1) #  系统自带的函数在Juypter中是绿色的， abs是绝对值函数"
   ]
  },
  {
   "cell_type": "code",
   "execution_count": 18,
   "id": "4fc9439e",
   "metadata": {},
   "outputs": [
    {
     "name": "stdout",
     "output_type": "stream",
     "text": [
      "7\n"
     ]
    }
   ],
   "source": [
    "result = max(1,3,5,2,7,0)\n",
    "print(result)"
   ]
  },
  {
   "cell_type": "markdown",
   "id": "fa7dc2bf",
   "metadata": {},
   "source": [
    "列表Python中的一个对象\n",
    "对象（object）就是内存中专门用来存储数据的一块区域\n",
    "\n",
    "创建列表，通过[]来创建列表"
   ]
  },
  {
   "cell_type": "code",
   "execution_count": 19,
   "id": "a7036e5b",
   "metadata": {},
   "outputs": [
    {
     "name": "stdout",
     "output_type": "stream",
     "text": [
      "[] <class 'list'>\n"
     ]
    }
   ],
   "source": [
    "my_list = [] # 创建一个列表\n",
    "print(my_list, type(my_list))"
   ]
  },
  {
   "cell_type": "markdown",
   "id": "066db87e",
   "metadata": {},
   "source": [
    "列表存储的数据，称为元素\n",
    "一个列表中可以存储多个元素，也可以在创建列表时，来指定列表中的元素"
   ]
  },
  {
   "cell_type": "code",
   "execution_count": 20,
   "id": "a689e5e2",
   "metadata": {},
   "outputs": [],
   "source": [
    "my_list = [10]  #  创建一个只包含元素的列表"
   ]
  },
  {
   "cell_type": "markdown",
   "id": "a355a230",
   "metadata": {},
   "source": [
    "向列表中添加多个元素时，多个元素之间使用逗号(,)隔开， 获取列表的长度，列表中元素的个数，len()函数，通过该函数可以获取列表的长度\n"
   ]
  },
  {
   "cell_type": "code",
   "execution_count": 21,
   "id": "e8d6d49a",
   "metadata": {},
   "outputs": [
    {
     "name": "stdout",
     "output_type": "stream",
     "text": [
      "[1, 2, 50, 11, 3] 5 <class 'list'>\n"
     ]
    }
   ],
   "source": [
    "my_list = [1,2,50,11,3]\n",
    "print(my_list,len(my_list),type(my_list))"
   ]
  },
  {
   "cell_type": "markdown",
   "id": "cbf2ddfe",
   "metadata": {},
   "source": [
    "通过索引获取列表中的元素"
   ]
  },
  {
   "cell_type": "code",
   "execution_count": 22,
   "id": "95f5d9cb",
   "metadata": {
    "scrolled": true
   },
   "outputs": [
    {
     "name": "stdout",
     "output_type": "stream",
     "text": [
      "50\n"
     ]
    }
   ],
   "source": [
    "my_list = [1,2,50,8,11]\n",
    "print(my_list[2])"
   ]
  },
  {
   "cell_type": "markdown",
   "id": "3fca1b98",
   "metadata": {},
   "source": [
    "切片\n",
    "切片指从现有列表中，获取一个子列表\n",
    "创建一个列表，一般创建列表时，变量的名字会使用复数"
   ]
  },
  {
   "cell_type": "code",
   "execution_count": 25,
   "id": "94ba9b99",
   "metadata": {},
   "outputs": [
    {
     "name": "stdout",
     "output_type": "stream",
     "text": [
      "Python\n"
     ]
    }
   ],
   "source": [
    "stus = [\"Java\", \"Kotlin\", \"Flutter\", \"Dart\", \"Kotlin\", \"JavaScript\", \"Kotlin\", \"Python\"]\n",
    "print(stus[-1]) # Python"
   ]
  },
  {
   "cell_type": "markdown",
   "id": "f6f7bea9",
   "metadata": {},
   "source": [
    "列表索引可以是负数\n",
    "如果索引是负数，则从后向前获取元素，-1表示倒数第一个，-2表示倒数第二个\n",
    "如果索引是负数，则从后向前获取元素，-1表示倒数第一个，-2表示倒数第二个，以此类推\n",
    "\n",
    "通过切片来获取指定的元素\n",
    "语法: 列表（起始:结束）\n",
    "通过切片获取元素时，会包括起始位置的元素，不会包括结束位置的元素\n",
    "做切片操作时，总会返回一个新的列表，不会影响原来的列表\n",
    "起始和结束位置的索引都可以省略不写"
   ]
  },
  {
   "cell_type": "code",
   "execution_count": 32,
   "id": "807edd13",
   "metadata": {},
   "outputs": [
    {
     "name": "stdout",
     "output_type": "stream",
     "text": [
      "['Kotlin', 'Flutter', 'Dart', 'Kotlin']\n",
      "['Java', 'Kotlin', 'Flutter']\n",
      "['Java', 'Kotlin', 'Flutter', 'Dart', 'Kotlin', 'JavaScript', 'Kotlin', 'Python']\n",
      "['Java', 'Dart']\n"
     ]
    }
   ],
   "source": [
    "stus = [\"Java\", \"Kotlin\", \"Flutter\", \"Dart\", \"Kotlin\", \"JavaScript\", \"Kotlin\", \"Python\"]\n",
    "print(stus[1:5]) # 如果省略结束位置，则会一直截取到最后\n",
    "print(stus[:3]) # 如果省略起始位置，则会从第一个元素开始截取\n",
    "print(stus[:]) # 如果起始位置和结束位置全部省略，则相当于创建了一个列表的副本\n",
    "print(stus[0:5:3]) # 语法: 列表[起始:结束:步长]"
   ]
  },
  {
   "cell_type": "markdown",
   "id": "e31f0b31",
   "metadata": {},
   "source": [
    "+可以将两个列表拼接为一个列表"
   ]
  },
  {
   "cell_type": "code",
   "execution_count": 34,
   "id": "4cb4c66c",
   "metadata": {},
   "outputs": [
    {
     "name": "stdout",
     "output_type": "stream",
     "text": [
      "[1, 2, 3, 4, 5, 6]\n"
     ]
    }
   ],
   "source": [
    "my_list = [1,2,3]+[4,5,6]\n",
    "print(my_list)"
   ]
  },
  {
   "cell_type": "markdown",
   "id": "afca7f9e",
   "metadata": {},
   "source": [
    "*可以将列表重复指定的次数"
   ]
  },
  {
   "cell_type": "code",
   "execution_count": 35,
   "id": "424db881",
   "metadata": {},
   "outputs": [
    {
     "name": "stdout",
     "output_type": "stream",
     "text": [
      "[1, 2, 3, 1, 2, 3, 1, 2, 3, 1, 2, 3, 1, 2, 3]\n"
     ]
    }
   ],
   "source": [
    "my_list = [1,2,3] * 5\n",
    "print(my_list)"
   ]
  },
  {
   "cell_type": "markdown",
   "id": "2098e763",
   "metadata": {},
   "source": [
    "in 和 not in\n",
    "  in用来检查指定元素是否存在于列表中,如果存在，返回true，否则返回False\n",
    "  not in用来检查指定元素是否不存在列表中,如果不在，返回True，否则返回False"
   ]
  },
  {
   "cell_type": "code",
   "execution_count": 36,
   "id": "09d9ee1c",
   "metadata": {},
   "outputs": [
    {
     "name": "stdout",
     "output_type": "stream",
     "text": [
      "True\n",
      "False\n"
     ]
    }
   ],
   "source": [
    "stus = [\"Java\", \"Kotlin\", \"Flutter\", \"Dart\", \"Kotlin\", \"JavaScript\", \"Kotlin\", \"Python\"]\n",
    "print('HTML' not in stus)\n",
    "print('HTML' in stus)"
   ]
  },
  {
   "cell_type": "code",
   "execution_count": 37,
   "id": "f8ecec9c",
   "metadata": {},
   "outputs": [
    {
     "name": "stdout",
     "output_type": "stream",
     "text": [
      "1 100\n"
     ]
    }
   ],
   "source": [
    "# min() 获取列表中的最小值\n",
    "# max() 获取列表表中的最大值\n",
    "arr = [10,2,5,1,100,17,89]\n",
    "print(min(arr), max(arr))"
   ]
  },
  {
   "cell_type": "markdown",
   "id": "e78b627a",
   "metadata": {},
   "source": [
    "花括号生成集合\n",
    "s = {1,2,3,4,2,2}"
   ]
  },
  {
   "cell_type": "code",
   "execution_count": 38,
   "id": "418fa4ed",
   "metadata": {},
   "outputs": [
    {
     "name": "stdout",
     "output_type": "stream",
     "text": [
      "{1, 2, 3, 4}\n"
     ]
    }
   ],
   "source": [
    "s = {1,2,3,4,2,1,2}\n",
    "print(s)"
   ]
  },
  {
   "cell_type": "markdown",
   "id": "1d88dbe3",
   "metadata": {},
   "source": [
    "中括号生成元组"
   ]
  },
  {
   "cell_type": "code",
   "execution_count": 39,
   "id": "951843ef",
   "metadata": {},
   "outputs": [
    {
     "name": "stdout",
     "output_type": "stream",
     "text": [
      "(1, 2, 4, 2) <class 'tuple'>\n"
     ]
    }
   ],
   "source": [
    "c = (1,2,4,2)\n",
    "print(c, type(c))"
   ]
  },
  {
   "cell_type": "markdown",
   "id": "0866c9c7",
   "metadata": {},
   "source": [
    "花括号生成集合 s = {name: \"Python\", major: \"AI\"}"
   ]
  },
  {
   "cell_type": "code",
   "execution_count": 41,
   "id": "8c417776",
   "metadata": {},
   "outputs": [
    {
     "name": "stdout",
     "output_type": "stream",
     "text": [
      "{'name': 'python', 'major': 'AI'} <class 'dict'>\n"
     ]
    }
   ],
   "source": [
    "s = {\"name\":\"python\", \"major\":\"AI\"}\n",
    "print(s, type(s))"
   ]
  },
  {
   "cell_type": "code",
   "execution_count": 42,
   "id": "db35d1c9",
   "metadata": {},
   "outputs": [],
   "source": [
    "d = {1:\"one\",2:\"two\"}"
   ]
  },
  {
   "cell_type": "code",
   "execution_count": 43,
   "id": "8e35a204",
   "metadata": {},
   "outputs": [
    {
     "data": {
      "text/plain": [
       "{1: 'one', 2: 'two'}"
      ]
     },
     "execution_count": 43,
     "metadata": {},
     "output_type": "execute_result"
    }
   ],
   "source": [
    "d"
   ]
  },
  {
   "cell_type": "code",
   "execution_count": 44,
   "id": "cef6b544",
   "metadata": {},
   "outputs": [
    {
     "data": {
      "text/plain": [
       "dict"
      ]
     },
     "execution_count": 44,
     "metadata": {},
     "output_type": "execute_result"
    }
   ],
   "source": [
    "type(d)"
   ]
  },
  {
   "cell_type": "code",
   "execution_count": 45,
   "id": "a0983244",
   "metadata": {},
   "outputs": [
    {
     "data": {
      "text/plain": [
       "'one'"
      ]
     },
     "execution_count": 45,
     "metadata": {},
     "output_type": "execute_result"
    }
   ],
   "source": [
    "d.get(1)"
   ]
  },
  {
   "cell_type": "code",
   "execution_count": 46,
   "id": "d955172b",
   "metadata": {},
   "outputs": [
    {
     "name": "stdout",
     "output_type": "stream",
     "text": [
      "None\n"
     ]
    }
   ],
   "source": [
    "print(d.get(54))"
   ]
  },
  {
   "cell_type": "code",
   "execution_count": 47,
   "id": "f786318d",
   "metadata": {},
   "outputs": [],
   "source": [
    "d.get?"
   ]
  },
  {
   "cell_type": "markdown",
   "id": "1b365029",
   "metadata": {},
   "source": [
    "模块的使用"
   ]
  },
  {
   "cell_type": "code",
   "execution_count": 54,
   "id": "eb2026ab",
   "metadata": {},
   "outputs": [
    {
     "name": "stdout",
     "output_type": "stream",
     "text": [
      "180.0\n"
     ]
    }
   ],
   "source": [
    "import math\n",
    "a = math.degrees(math.pi)\n",
    "print(a)"
   ]
  },
  {
   "cell_type": "markdown",
   "id": "3b7d331f",
   "metadata": {},
   "source": [
    "自定义类型:"
   ]
  },
  {
   "cell_type": "code",
   "execution_count": 55,
   "id": "250bdddf",
   "metadata": {},
   "outputs": [],
   "source": [
    "class Person(object):\n",
    "    def _init_(self,first,last,age):\n",
    "        self.first = first\n",
    "        self.last = last\n",
    "        self.age = age\n",
    "    \n",
    "    def full_name(self):\n",
    "        return self.first + \" \" + self.last"
   ]
  },
  {
   "cell_type": "code",
   "execution_count": 61,
   "id": "fd374e23",
   "metadata": {},
   "outputs": [
    {
     "name": "stdout",
     "output_type": "stream",
     "text": [
      "Python Anaconda\n"
     ]
    }
   ],
   "source": [
    "p = Person()\n",
    "p._init_(\"Python\", \"Anaconda\", 30)\n",
    "result = p.full_name()\n",
    "print(result)"
   ]
  },
  {
   "cell_type": "markdown",
   "id": "ed44ff40",
   "metadata": {},
   "source": [
    "变量名不能覆盖已有的内置函数"
   ]
  },
  {
   "cell_type": "code",
   "execution_count": 62,
   "id": "e4ffd8aa",
   "metadata": {},
   "outputs": [
    {
     "data": {
      "text/plain": [
       "int"
      ]
     },
     "execution_count": 62,
     "metadata": {},
     "output_type": "execute_result"
    }
   ],
   "source": [
    "max = 1\n",
    "type(max)"
   ]
  },
  {
   "cell_type": "code",
   "execution_count": 63,
   "id": "5dc1dba3",
   "metadata": {},
   "outputs": [
    {
     "ename": "TypeError",
     "evalue": "'int' object is not callable",
     "output_type": "error",
     "traceback": [
      "\u001b[0;31m---------------------------------------------------------------------------\u001b[0m",
      "\u001b[0;31mTypeError\u001b[0m                                 Traceback (most recent call last)",
      "Cell \u001b[0;32mIn[63], line 1\u001b[0m\n\u001b[0;32m----> 1\u001b[0m \u001b[38;5;28mmax\u001b[39m(\u001b[38;5;241m4\u001b[39m,\u001b[38;5;241m5\u001b[39m)\n",
      "\u001b[0;31mTypeError\u001b[0m: 'int' object is not callable"
     ]
    }
   ],
   "source": [
    "max(4,5)"
   ]
  },
  {
   "cell_type": "code",
   "execution_count": null,
   "id": "2f858f95",
   "metadata": {},
   "outputs": [],
   "source": []
  }
 ],
 "metadata": {
  "kernelspec": {
   "display_name": "Python 3 (ipykernel)",
   "language": "python",
   "name": "python3"
  },
  "language_info": {
   "codemirror_mode": {
    "name": "ipython",
    "version": 3
   },
   "file_extension": ".py",
   "mimetype": "text/x-python",
   "name": "python",
   "nbconvert_exporter": "python",
   "pygments_lexer": "ipython3",
   "version": "3.11.5"
  }
 },
 "nbformat": 4,
 "nbformat_minor": 5
}
