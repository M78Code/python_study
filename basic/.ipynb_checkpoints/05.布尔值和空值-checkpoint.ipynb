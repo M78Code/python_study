{
 "cells": [
  {
   "cell_type": "markdown",
   "id": "e49fb2a4",
   "metadata": {},
   "source": [
    "布尔值（bool）\n",
    "布尔值主要用来做逻辑判断\n",
    "布尔值一共有两个True和False，都是大写"
   ]
  },
  {
   "cell_type": "code",
   "execution_count": 2,
   "id": "aca1d823",
   "metadata": {},
   "outputs": [
    {
     "name": "stdout",
     "output_type": "stream",
     "text": [
      "a = True b = False\n"
     ]
    }
   ],
   "source": [
    "a = True\n",
    "b = False\n",
    "print(f\"a = {a}\", f\"b = {b}\")"
   ]
  },
  {
   "cell_type": "markdown",
   "id": "8a5c0d60",
   "metadata": {},
   "source": [
    "布尔值实际上也属于整型，True相当于1，False相当于0"
   ]
  },
  {
   "cell_type": "code",
   "execution_count": 3,
   "id": "0f9d69d6",
   "metadata": {},
   "outputs": [
    {
     "name": "stdout",
     "output_type": "stream",
     "text": [
      "2\n",
      "1\n"
     ]
    }
   ],
   "source": [
    "print(a+1)\n",
    "print(b+1)"
   ]
  },
  {
   "cell_type": "markdown",
   "id": "8521a3f0",
   "metadata": {},
   "source": [
    "None（空值）\n",
    "None专门用来表示不存在"
   ]
  },
  {
   "cell_type": "code",
   "execution_count": 4,
   "id": "ae2d2e46",
   "metadata": {},
   "outputs": [
    {
     "name": "stdout",
     "output_type": "stream",
     "text": [
      "None\n"
     ]
    }
   ],
   "source": [
    "b = None\n",
    "print(b)"
   ]
  },
  {
   "cell_type": "markdown",
   "id": "10ceb6f2",
   "metadata": {},
   "source": [
    "type()用来检查值的类型\n",
    "该函数会将检查的结果作为返回值返回，可以通过变量来接收函数的返回值"
   ]
  },
  {
   "cell_type": "code",
   "execution_count": 5,
   "id": "ec0762c4",
   "metadata": {},
   "outputs": [
    {
     "name": "stdout",
     "output_type": "stream",
     "text": [
      "<class 'str'>\n",
      "<class 'bool'>\n",
      "<class 'NoneType'>\n"
     ]
    }
   ],
   "source": [
    "c1 = type('123')\n",
    "print(c1)       # <class 'str'>\n",
    "c2 = type(a)    \n",
    "print(c2)       # <class 'bool'>\n",
    "c3 = type(b)\n",
    "print(c3)       # <class 'NoneType'>   "
   ]
  }
 ],
 "metadata": {
  "kernelspec": {
   "display_name": "Python 3 (ipykernel)",
   "language": "python",
   "name": "python3"
  },
  "language_info": {
   "codemirror_mode": {
    "name": "ipython",
    "version": 3
   },
   "file_extension": ".py",
   "mimetype": "text/x-python",
   "name": "python",
   "nbconvert_exporter": "python",
   "pygments_lexer": "ipython3",
   "version": "3.11.5"
  }
 },
 "nbformat": 4,
 "nbformat_minor": 5
}
