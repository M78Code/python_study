{
 "cells": [
  {
   "cell_type": "markdown",
   "id": "74b1484f",
   "metadata": {},
   "source": [
    "在Python中数值分成了三种:整数，浮点数（小数），复数\n",
    "在python中所有的整数都是int类型"
   ]
  },
  {
   "cell_type": "code",
   "execution_count": 1,
   "id": "46ad5315",
   "metadata": {},
   "outputs": [],
   "source": [
    "a = 10\n",
    "b = 20"
   ]
  },
  {
   "cell_type": "markdown",
   "id": "08a3255f",
   "metadata": {},
   "source": [
    "在python中的整数的大小没有限制，可以是一个无限大的整数,默认不能超过4300位"
   ]
  },
  {
   "cell_type": "code",
   "execution_count": 5,
   "id": "5bfeeeea",
   "metadata": {},
   "outputs": [
    {
     "name": "stdout",
     "output_type": "stream",
     "text": [
      "999100359916012598740083996400089999\n"
     ]
    }
   ],
   "source": [
    "c = 9999 ** 9  # ** 表示幂\n",
    "print(c)"
   ]
  },
  {
   "cell_type": "markdown",
   "id": "24ceec65",
   "metadata": {},
   "source": [
    "如果数字的长度过大，可以使用下划线作为分割符"
   ]
  },
  {
   "cell_type": "code",
   "execution_count": 6,
   "id": "755f5552",
   "metadata": {},
   "outputs": [
    {
     "name": "stdout",
     "output_type": "stream",
     "text": [
      "123456799\n"
     ]
    }
   ],
   "source": [
    "c = 123_456_799 #会自动忽略下划线\n",
    "print(c)"
   ]
  },
  {
   "cell_type": "code",
   "execution_count": 7,
   "id": "3b4466f2",
   "metadata": {},
   "outputs": [
    {
     "ename": "SyntaxError",
     "evalue": "leading zeros in decimal integer literals are not permitted; use an 0o prefix for octal integers (3837697415.py, line 1)",
     "output_type": "error",
     "traceback": [
      "\u001b[0;36m  Cell \u001b[0;32mIn[7], line 1\u001b[0;36m\u001b[0m\n\u001b[0;31m    d = 0123  # 10进制的数字不能以0开头\u001b[0m\n\u001b[0m        ^\u001b[0m\n\u001b[0;31mSyntaxError\u001b[0m\u001b[0;31m:\u001b[0m leading zeros in decimal integer literals are not permitted; use an 0o prefix for octal integers\n"
     ]
    }
   ],
   "source": [
    "d = 0123  # 10进制的数字不能以0开头\n",
    "print(d)"
   ]
  },
  {
   "cell_type": "code",
   "execution_count": 8,
   "id": "91c148bd",
   "metadata": {},
   "outputs": [
    {
     "name": "stdout",
     "output_type": "stream",
     "text": [
      "3 2\n"
     ]
    }
   ],
   "source": [
    "# 其他进制的整数, 二进制以0B开头，\n",
    "d1 = 0b11\n",
    "d2 = 0B10\n",
    "print(d1,d2) # 十进制3和2"
   ]
  },
  {
   "cell_type": "code",
   "execution_count": 9,
   "id": "e064a796",
   "metadata": {},
   "outputs": [
    {
     "name": "stdout",
     "output_type": "stream",
     "text": [
      "27\n"
     ]
    }
   ],
   "source": [
    "# 八进制 0o开头\n",
    "d = 0o33\n",
    "print(d) # 十进制27"
   ]
  },
  {
   "cell_type": "code",
   "execution_count": 10,
   "id": "8aa0688c",
   "metadata": {},
   "outputs": [
    {
     "name": "stdout",
     "output_type": "stream",
     "text": [
      "255\n"
     ]
    }
   ],
   "source": [
    "# 十六进制 0x开头\n",
    "d = 0xff\n",
    "print(d)    # 十进制255\n",
    "# 其他进制的整数，只要是数字打印时一定是以十进制的形式显示的"
   ]
  },
  {
   "cell_type": "code",
   "execution_count": null,
   "id": "a4f644a4",
   "metadata": {},
   "outputs": [],
   "source": []
  }
 ],
 "metadata": {
  "kernelspec": {
   "display_name": "Python 3 (ipykernel)",
   "language": "python",
   "name": "python3"
  },
  "language_info": {
   "codemirror_mode": {
    "name": "ipython",
    "version": 3
   },
   "file_extension": ".py",
   "mimetype": "text/x-python",
   "name": "python",
   "nbconvert_exporter": "python",
   "pygments_lexer": "ipython3",
   "version": "3.11.5"
  }
 },
 "nbformat": 4,
 "nbformat_minor": 5
}
