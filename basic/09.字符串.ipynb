{
 "cells": [
  {
   "cell_type": "markdown",
   "id": "483ed4c7",
   "metadata": {},
   "source": [
    " 字符串\n",
    " \"i’m a student.\""
   ]
  },
  {
   "cell_type": "code",
   "execution_count": 1,
   "id": "1730cbd9",
   "metadata": {},
   "outputs": [
    {
     "data": {
      "text/plain": [
       "'i’m a student.'"
      ]
     },
     "execution_count": 1,
     "metadata": {},
     "output_type": "execute_result"
    }
   ],
   "source": [
    "\"i’m a student.\""
   ]
  },
  {
   "cell_type": "markdown",
   "id": "c2797866",
   "metadata": {},
   "source": [
    "字符串的方法:"
   ]
  },
  {
   "cell_type": "code",
   "execution_count": 2,
   "id": "afea9c8a",
   "metadata": {},
   "outputs": [],
   "source": [
    "line = \"1 2 3            4        5\""
   ]
  },
  {
   "cell_type": "code",
   "execution_count": 3,
   "id": "83b4fee6",
   "metadata": {},
   "outputs": [
    {
     "data": {
      "text/plain": [
       "'1 2 3            4        5'"
      ]
     },
     "execution_count": 3,
     "metadata": {},
     "output_type": "execute_result"
    }
   ],
   "source": [
    "line"
   ]
  },
  {
   "cell_type": "code",
   "execution_count": 4,
   "id": "a2303721",
   "metadata": {},
   "outputs": [
    {
     "data": {
      "text/plain": [
       "['1', '2', '3', '4', '5']"
      ]
     },
     "execution_count": 4,
     "metadata": {},
     "output_type": "execute_result"
    }
   ],
   "source": [
    "line.split()"
   ]
  },
  {
   "cell_type": "code",
   "execution_count": 6,
   "id": "1da8b51b",
   "metadata": {},
   "outputs": [
    {
     "data": {
      "text/plain": [
       "['1', '2', '3', '4', '5']"
      ]
     },
     "execution_count": 6,
     "metadata": {},
     "output_type": "execute_result"
    }
   ],
   "source": [
    "line = \"1,2,3,4,5\"\n",
    "line.split(\",\")"
   ]
  },
  {
   "cell_type": "code",
   "execution_count": 7,
   "id": "cc3513e6",
   "metadata": {},
   "outputs": [
    {
     "data": {
      "text/plain": [
       "['1', '2', '3,4,5']"
      ]
     },
     "execution_count": 7,
     "metadata": {},
     "output_type": "execute_result"
    }
   ],
   "source": [
    "line.split(\",\",2)"
   ]
  },
  {
   "cell_type": "code",
   "execution_count": 8,
   "id": "5f7ee53d",
   "metadata": {},
   "outputs": [
    {
     "data": {
      "text/plain": [
       "['1,2,3', '4', '5']"
      ]
     },
     "execution_count": 8,
     "metadata": {},
     "output_type": "execute_result"
    }
   ],
   "source": [
    "line.rsplit(\",\",2)"
   ]
  },
  {
   "cell_type": "code",
   "execution_count": 9,
   "id": "414933f2",
   "metadata": {},
   "outputs": [
    {
     "data": {
      "text/plain": [
       "'1.2.3.4.5'"
      ]
     },
     "execution_count": 9,
     "metadata": {},
     "output_type": "execute_result"
    }
   ],
   "source": [
    "numbers = [\"1\",\"2\",\"3\",\"4\",\"5\"]\n",
    "\".\".join(numbers)"
   ]
  },
  {
   "cell_type": "code",
   "execution_count": 10,
   "id": "8b5a1abd",
   "metadata": {},
   "outputs": [
    {
     "data": {
      "text/plain": [
       "'1:2:3:4:5'"
      ]
     },
     "execution_count": 10,
     "metadata": {},
     "output_type": "execute_result"
    }
   ],
   "source": [
    "\":\".join(numbers)"
   ]
  },
  {
   "cell_type": "code",
   "execution_count": 11,
   "id": "2b150f05",
   "metadata": {},
   "outputs": [
    {
     "data": {
      "text/plain": [
       "'hello python!'"
      ]
     },
     "execution_count": 11,
     "metadata": {},
     "output_type": "execute_result"
    }
   ],
   "source": [
    "s = \"hello world!\"\n",
    "s.replace(\"world\", \"python\")"
   ]
  },
  {
   "cell_type": "code",
   "execution_count": 12,
   "id": "9a43ad0e",
   "metadata": {},
   "outputs": [
    {
     "data": {
      "text/plain": [
       "'hello world!'"
      ]
     },
     "execution_count": 12,
     "metadata": {},
     "output_type": "execute_result"
    }
   ],
   "source": [
    "s"
   ]
  },
  {
   "cell_type": "code",
   "execution_count": 13,
   "id": "205ee26d",
   "metadata": {},
   "outputs": [],
   "source": [
    "s = \"hello world!\"\n",
    "s1 = s.replace(\"world\",\"python\")"
   ]
  },
  {
   "cell_type": "code",
   "execution_count": 14,
   "id": "ea8e3542",
   "metadata": {},
   "outputs": [
    {
     "data": {
      "text/plain": [
       "'hello python!'"
      ]
     },
     "execution_count": 14,
     "metadata": {},
     "output_type": "execute_result"
    }
   ],
   "source": [
    "s1"
   ]
  },
  {
   "cell_type": "code",
   "execution_count": 17,
   "id": "cc118156",
   "metadata": {},
   "outputs": [
    {
     "data": {
      "text/plain": [
       "'hello world.'"
      ]
     },
     "execution_count": 17,
     "metadata": {},
     "output_type": "execute_result"
    }
   ],
   "source": [
    "s = \"       hello world.        \"\n",
    "s.strip() # 相当于Java中的trim()方法"
   ]
  },
  {
   "cell_type": "code",
   "execution_count": 18,
   "id": "5ba0ee87",
   "metadata": {},
   "outputs": [
    {
     "data": {
      "text/plain": [
       "'hello world.        '"
      ]
     },
     "execution_count": 18,
     "metadata": {},
     "output_type": "execute_result"
    }
   ],
   "source": [
    "s.lstrip() #去掉左边的空格"
   ]
  },
  {
   "cell_type": "code",
   "execution_count": 19,
   "id": "c741ea38",
   "metadata": {},
   "outputs": [
    {
     "data": {
      "text/plain": [
       "'       hello world.'"
      ]
     },
     "execution_count": 19,
     "metadata": {},
     "output_type": "execute_result"
    }
   ],
   "source": [
    "s.rstrip() #去掉右边的空格"
   ]
  },
  {
   "cell_type": "markdown",
   "id": "ba6232b4",
   "metadata": {},
   "source": [
    "数字转字符串"
   ]
  },
  {
   "cell_type": "code",
   "execution_count": 21,
   "id": "991d018f",
   "metadata": {},
   "outputs": [
    {
     "data": {
      "text/plain": [
       "'3.2'"
      ]
     },
     "execution_count": 21,
     "metadata": {},
     "output_type": "execute_result"
    }
   ],
   "source": [
    "str(3.2) # 数字转字符串"
   ]
  },
  {
   "cell_type": "code",
   "execution_count": 23,
   "id": "2e509705",
   "metadata": {},
   "outputs": [
    {
     "data": {
      "text/plain": [
       "'0b10'"
      ]
     },
     "execution_count": 23,
     "metadata": {},
     "output_type": "execute_result"
    }
   ],
   "source": [
    "bin(2) # 十进制转二进制"
   ]
  },
  {
   "cell_type": "code",
   "execution_count": 25,
   "id": "b9898c8f",
   "metadata": {},
   "outputs": [
    {
     "data": {
      "text/plain": [
       "'0o10'"
      ]
     },
     "execution_count": 25,
     "metadata": {},
     "output_type": "execute_result"
    }
   ],
   "source": [
    "oct(8) # 十进制转八进制"
   ]
  },
  {
   "cell_type": "code",
   "execution_count": 26,
   "id": "330084db",
   "metadata": {},
   "outputs": [
    {
     "data": {
      "text/plain": [
       "'0x10'"
      ]
     },
     "execution_count": 26,
     "metadata": {},
     "output_type": "execute_result"
    }
   ],
   "source": [
    "hex(16) # 十进制转十六进制"
   ]
  },
  {
   "cell_type": "markdown",
   "id": "24103cb7",
   "metadata": {},
   "source": [
    "数值型字符串转数字"
   ]
  },
  {
   "cell_type": "code",
   "execution_count": 27,
   "id": "fbe6abd6",
   "metadata": {},
   "outputs": [
    {
     "data": {
      "text/plain": [
       "11"
      ]
     },
     "execution_count": 27,
     "metadata": {},
     "output_type": "execute_result"
    }
   ],
   "source": [
    "int(\"11\")"
   ]
  },
  {
   "cell_type": "markdown",
   "id": "278b5a7c",
   "metadata": {},
   "source": [
    "字符串转unicode码"
   ]
  },
  {
   "cell_type": "code",
   "execution_count": 30,
   "id": "aaaad4e0",
   "metadata": {},
   "outputs": [
    {
     "data": {
      "text/plain": [
       "97"
      ]
     },
     "execution_count": 30,
     "metadata": {},
     "output_type": "execute_result"
    }
   ],
   "source": [
    "ord(\"a\")"
   ]
  },
  {
   "cell_type": "markdown",
   "id": "0da36a91",
   "metadata": {},
   "source": [
    "unicode转字符串"
   ]
  },
  {
   "cell_type": "code",
   "execution_count": 31,
   "id": "f676dc92",
   "metadata": {},
   "outputs": [
    {
     "data": {
      "text/plain": [
       "'a'"
      ]
     },
     "execution_count": 31,
     "metadata": {},
     "output_type": "execute_result"
    }
   ],
   "source": [
    "chr(97)"
   ]
  },
  {
   "cell_type": "code",
   "execution_count": 32,
   "id": "e4afcc2d",
   "metadata": {},
   "outputs": [
    {
     "data": {
      "text/plain": [
       "25105"
      ]
     },
     "execution_count": 32,
     "metadata": {},
     "output_type": "execute_result"
    }
   ],
   "source": [
    "ord(\"我\")"
   ]
  },
  {
   "cell_type": "code",
   "execution_count": 33,
   "id": "47913859",
   "metadata": {},
   "outputs": [
    {
     "data": {
      "text/plain": [
       "'我'"
      ]
     },
     "execution_count": 33,
     "metadata": {},
     "output_type": "execute_result"
    }
   ],
   "source": [
    "chr(25105)"
   ]
  },
  {
   "cell_type": "markdown",
   "id": "545740bd",
   "metadata": {},
   "source": [
    "字符串格式化:"
   ]
  },
  {
   "cell_type": "code",
   "execution_count": 34,
   "id": "3385025b",
   "metadata": {},
   "outputs": [
    {
     "name": "stdout",
     "output_type": "stream",
     "text": [
      "my name is li jin, age is 26.\n"
     ]
    }
   ],
   "source": [
    "name = \"li jin\"\n",
    "age = 26\n",
    "print(\"my name is \" + name + \", age is \" + str(age) + \".\")"
   ]
  },
  {
   "cell_type": "code",
   "execution_count": 36,
   "id": "401a5a7f",
   "metadata": {},
   "outputs": [
    {
     "data": {
      "text/plain": [
       "'my name is li jin, age is 26.'"
      ]
     },
     "execution_count": 36,
     "metadata": {},
     "output_type": "execute_result"
    }
   ],
   "source": [
    "\"my name is {}, age is {}.\".format(name,age) # format格式化字符串"
   ]
  },
  {
   "cell_type": "code",
   "execution_count": null,
   "id": "ee75b3f3",
   "metadata": {},
   "outputs": [],
   "source": []
  }
 ],
 "metadata": {
  "kernelspec": {
   "display_name": "Python 3 (ipykernel)",
   "language": "python",
   "name": "python3"
  },
  "language_info": {
   "codemirror_mode": {
    "name": "ipython",
    "version": 3
   },
   "file_extension": ".py",
   "mimetype": "text/x-python",
   "name": "python",
   "nbconvert_exporter": "python",
   "pygments_lexer": "ipython3",
   "version": "3.11.5"
  }
 },
 "nbformat": 4,
 "nbformat_minor": 5
}
