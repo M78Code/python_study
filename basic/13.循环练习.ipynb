{
 "cells": [
  {
   "cell_type": "code",
   "execution_count": 1,
   "id": "4067923e",
   "metadata": {},
   "outputs": [
    {
     "name": "stdout",
     "output_type": "stream",
     "text": [
      "i : 1\n",
      "i : 3\n",
      "i : 5\n",
      "i : 7\n",
      "i : 9\n",
      "i : 11\n",
      "i : 13\n",
      "i : 15\n",
      "i : 17\n",
      "i : 19\n",
      "i : 21\n",
      "i : 23\n",
      "i : 25\n",
      "i : 27\n",
      "i : 29\n",
      "i : 31\n",
      "i : 33\n",
      "i : 35\n",
      "i : 37\n",
      "i : 39\n",
      "i : 41\n",
      "i : 43\n",
      "i : 45\n",
      "i : 47\n",
      "i : 49\n",
      "i : 51\n",
      "i : 53\n",
      "i : 55\n",
      "i : 57\n",
      "i : 59\n",
      "i : 61\n",
      "i : 63\n",
      "i : 65\n",
      "i : 67\n",
      "i : 69\n",
      "i : 71\n",
      "i : 73\n",
      "i : 75\n",
      "i : 77\n",
      "i : 79\n",
      "i : 81\n",
      "i : 83\n",
      "i : 85\n",
      "i : 87\n",
      "i : 89\n",
      "i : 91\n",
      "i : 93\n",
      "i : 95\n",
      "i : 97\n",
      "i : 99\n",
      "100以内所有奇数的和 sum = 2500\n"
     ]
    }
   ],
   "source": [
    "# 练习1:\n",
    "#   求100以内所有的奇数之和\n",
    "i = 0   # 索引下标\n",
    "sum = 0     # 和\n",
    "while i <= 100:\n",
    "    if(i % 2 != 0):\n",
    "        print(f\"i : {i}\")\n",
    "        sum += i\n",
    "    i += 1\n",
    "else:\n",
    "    print(f\"100以内所有奇数的和 sum = {sum}\")"
   ]
  },
  {
   "cell_type": "code",
   "execution_count": 2,
   "id": "50070b8e",
   "metadata": {},
   "outputs": [
    {
     "name": "stdout",
     "output_type": "stream",
     "text": [
      "7的倍数: 7\n",
      "7的倍数: 14\n",
      "7的倍数: 21\n",
      "7的倍数: 28\n",
      "7的倍数: 35\n",
      "7的倍数: 42\n",
      "7的倍数: 49\n",
      "7的倍数: 56\n",
      "7的倍数: 63\n",
      "7的倍数: 70\n",
      "7的倍数: 77\n",
      "7的倍数: 84\n",
      "7的倍数: 91\n",
      "7的倍数: 98\n",
      "100以内所有7的倍数之和 sum = 735, 这种数有 count = 14\n"
     ]
    }
   ],
   "source": [
    "# 练习2:\n",
    "#   求100以内所有7的倍数之和，以及个数\n",
    "i = 1       # index\n",
    "sum = 0     # sum\n",
    "count = 0   # count\n",
    "while i<=100:\n",
    "    if(i % 7 == 0):\n",
    "        print(f\"7的倍数: {i}\")\n",
    "        count += 1  # 记录个数 \n",
    "        sum += i    # 累加和\n",
    "    i += 1      # update index\n",
    "else:\n",
    "    print(f\"100以内所有7的倍数之和 sum = {sum}, 这种数有 count = {count}\")"
   ]
  },
  {
   "cell_type": "code",
   "execution_count": 3,
   "id": "da876035",
   "metadata": {},
   "outputs": [
    {
     "name": "stdout",
     "output_type": "stream",
     "text": [
      "该数是水仙花数: 153\n",
      "该数是水仙花数: 370\n",
      "该数是水仙花数: 371\n",
      "该数是水仙花数: 407\n"
     ]
    }
   ],
   "source": [
    "# 练习3:\n",
    "#   水仙花数是指一个n位数（n>=3),它的每个位上的数字的n次幂之和等于它本身\n",
    "#   （例如: 1**3 + 5**3 + 3**3 = 153)。求1000以内所有的水仙花数\n",
    "x = 100\n",
    "while x < 1000:\n",
    "    a1 = i //100\n",
    "    b1 = (i - a1*100)//10\n",
    "    c1 = i%10\n",
    "    a = x // 100        # 取百位上的整数\n",
    "    b = (x % 100) // 10 #取十位上的整数\n",
    "    c = (x % 100) % 10 #取个位上的整数\n",
    "    if (a**3 + b**3 + c**3) == x:\n",
    "        print(f\"该数是水仙花数: {x}\")\n",
    "    x += 1"
   ]
  },
  {
   "cell_type": "code",
   "execution_count": 4,
   "id": "b7844a80",
   "metadata": {},
   "outputs": [
    {
     "name": "stdout",
     "output_type": "stream",
     "text": [
      "* * * * * \n",
      "* * * * * \n",
      "* * * * * \n",
      "* * * * * \n",
      "* * * * * \n"
     ]
    }
   ],
   "source": [
    "# 循环嵌套\n",
    "# 在控制台中打印如下图形\n",
    "# *****\n",
    "# *****\n",
    "# *****\n",
    "# *****\n",
    "# *****\n",
    "# 创建一个循环来控制图形的高度\n",
    "# 循环嵌套时，外层循环每执行一次，内存循环就执行一圈\n",
    "i = 0\n",
    "while i < 5:\n",
    "    # 创建一个循环来控制图形的高度\n",
    "    # 循环嵌套时，外层循环每执行一次，内存循环就执行一圈\n",
    "    j = 0\n",
    "    while j < 5:\n",
    "        print(\"* \",end=\"\")\n",
    "        j += 1\n",
    "    print()\n",
    "    i += 1"
   ]
  },
  {
   "cell_type": "code",
   "execution_count": 5,
   "id": "35f4c5e6",
   "metadata": {},
   "outputs": [
    {
     "name": "stdout",
     "output_type": "stream",
     "text": [
      "* \n",
      "* * \n",
      "* * * \n",
      "* * * * \n",
      "* * * * * \n"
     ]
    }
   ],
   "source": [
    "# *         j<1   i = 0\n",
    "# **        j<2   i = 1\n",
    "# ***       j<3   i = 2\n",
    "# ****      j<4   i = 3\n",
    "# *****     j<5   i = 4\n",
    "i = 0\n",
    "while i < 5:\n",
    "    j = 0\n",
    "    while j < i+1:\n",
    "        print(\"* \",end=\"\")\n",
    "        j += 1\n",
    "    print()\n",
    "    i += 1"
   ]
  },
  {
   "cell_type": "code",
   "execution_count": 6,
   "id": "f09793e3",
   "metadata": {},
   "outputs": [
    {
     "name": "stdout",
     "output_type": "stream",
     "text": [
      "1 * 1=1 \n",
      "1 * 2=2 2 * 2=4 \n",
      "1 * 3=3 2 * 3=6 3 * 3=9 \n",
      "1 * 4=4 2 * 4=8 3 * 4=12 4 * 4=16 \n",
      "1 * 5=5 2 * 5=10 3 * 5=15 4 * 5=20 5 * 5=25 \n",
      "1 * 6=6 2 * 6=12 3 * 6=18 4 * 6=24 5 * 6=30 6 * 6=36 \n",
      "1 * 7=7 2 * 7=14 3 * 7=21 4 * 7=28 5 * 7=35 6 * 7=42 7 * 7=49 \n",
      "1 * 8=8 2 * 8=16 3 * 8=24 4 * 8=32 5 * 8=40 6 * 8=48 7 * 8=56 8 * 8=64 \n",
      "1 * 9=9 2 * 9=18 3 * 9=27 4 * 9=36 5 * 9=45 6 * 9=54 7 * 9=63 8 * 9=72 9 * 9=81 \n"
     ]
    }
   ],
   "source": [
    "# 创建一个外层循环来控制图形的高度\n",
    "i = 0\n",
    "while i < 9:\n",
    "    i+= 1\n",
    "    # 创建一个内层循环来控制图形的宽度\n",
    "    j = 0\n",
    "    while j<i:\n",
    "        j+= 1\n",
    "        print(f\"{j} * {i}={i*j} \",end=\"\")\n",
    "    print()"
   ]
  },
  {
   "cell_type": "code",
   "execution_count": 7,
   "id": "f95db0ac",
   "metadata": {},
   "outputs": [
    {
     "name": "stdout",
     "output_type": "stream",
     "text": [
      "2\n",
      "3\n",
      "5\n",
      "7\n",
      "11\n",
      "13\n",
      "17\n",
      "19\n",
      "23\n",
      "29\n",
      "31\n",
      "37\n",
      "41\n",
      "43\n",
      "47\n",
      "53\n",
      "59\n",
      "61\n",
      "67\n",
      "71\n",
      "73\n",
      "79\n",
      "83\n",
      "89\n",
      "97\n"
     ]
    }
   ],
   "source": [
    "# 求100以内所有的质数\n",
    "# 创建一个循环，求1～100以内所有的数\n",
    "i = 2\n",
    "while i <= 100:\n",
    "    # 创建一个变量，记录i的状态，默认认为i是质数\n",
    "    flag = True\n",
    "    # 判断i是否是质数\n",
    "    # 获取所有可能成为i的因数的数\n",
    "    j = 2\n",
    "    while j<i:\n",
    "        # 判断i 能否被j整除\n",
    "        if i % j == 0:\n",
    "            # i能被j整除，证明i不是质数，修改flag为False\n",
    "            flag = False\n",
    "        j += 1\n",
    "    # 验证结果并输出\n",
    "    if flag:\n",
    "        print(i)\n",
    "    i += 1"
   ]
  },
  {
   "cell_type": "code",
   "execution_count": 8,
   "id": "f551760a",
   "metadata": {},
   "outputs": [
    {
     "name": "stdout",
     "output_type": "stream",
     "text": [
      "Prime count is 9592\n"
     ]
    }
   ],
   "source": [
    "# 求100以内所有的质数\n",
    "# count = 0\n",
    "# i = 2\n",
    "# while i <= 100000:\n",
    "#     flag = True\n",
    "#     j = 2\n",
    "#     while j<i:\n",
    "#         if i % j == 0:\n",
    "#             flag = False\n",
    "#             # 未加break时的优化exited with code=0 in 239.887 seconds\n",
    "#         j += 1\n",
    "#     if flag:\n",
    "#         count += 1\n",
    "#         # print(i)\n",
    "#     i += 1\n",
    "# else:\n",
    "#     print(f\"Prime count is {count}\")\n",
    "\n",
    "\n",
    "#  break # 第一次优化 exited with code=0 in 26.689 seconds\n",
    "# count = 0\n",
    "# i = 2\n",
    "# while i <= 100000:\n",
    "#     flag = True\n",
    "#     j = 2\n",
    "#     while j<i:\n",
    "#         if i % j == 0:\n",
    "#             flag = False\n",
    "#             break\n",
    "#         j += 1\n",
    "#     if flag:\n",
    "#         count += 1\n",
    "#         # print(i)\n",
    "#     i += 1\n",
    "# else:\n",
    "#     print(f\"Prime count is {count}\")\n",
    "\n",
    "# 第二次优化 exited with code=0 in 0.227 seconds\n",
    "count = 0\n",
    "i = 2\n",
    "while i <= 100000:\n",
    "    flag = True\n",
    "    j = 2\n",
    "    while j<= i ** 0.5:\n",
    "        if i % j == 0:\n",
    "            flag = False\n",
    "            break\n",
    "        j += 1\n",
    "    if flag:\n",
    "        count += 1\n",
    "        # print(i)\n",
    "    i += 1\n",
    "else:\n",
    "    print(f\"Prime count is {count}\")"
   ]
  }
 ],
 "metadata": {
  "kernelspec": {
   "display_name": "Python 3 (ipykernel)",
   "language": "python",
   "name": "python3"
  },
  "language_info": {
   "codemirror_mode": {
    "name": "ipython",
    "version": 3
   },
   "file_extension": ".py",
   "mimetype": "text/x-python",
   "name": "python",
   "nbconvert_exporter": "python",
   "pygments_lexer": "ipython3",
   "version": "3.11.5"
  }
 },
 "nbformat": 4,
 "nbformat_minor": 5
}
