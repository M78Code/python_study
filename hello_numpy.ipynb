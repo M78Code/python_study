{
 "cells": [
  {
   "cell_type": "code",
   "execution_count": 66,
   "id": "bfd7af13",
   "metadata": {},
   "outputs": [],
   "source": [
    "import numpy as np\n",
    "import random\n",
    "import matplotlib.pyplot as plt"
   ]
  },
  {
   "cell_type": "markdown",
   "id": "d6b6e534",
   "metadata": {},
   "source": [
    "# 1 创建"
   ]
  },
  {
   "cell_type": "code",
   "execution_count": 7,
   "id": "e3b424ec",
   "metadata": {},
   "outputs": [
    {
     "data": {
      "text/plain": [
       "array([[80, 89, 86, 67, 79],\n",
       "       [78, 97, 89, 67, 81],\n",
       "       [90, 94, 78, 67, 69],\n",
       "       [81, 83, 86, 33, 88],\n",
       "       [70, 69, 89, 64, 90],\n",
       "       [94, 92, 93, 67, 64],\n",
       "       [86, 85, 89, 64, 79]])"
      ]
     },
     "execution_count": 7,
     "metadata": {},
     "output_type": "execute_result"
    }
   ],
   "source": [
    "score = np.array([[80,89,86,67,79],\n",
    "         [78,97,89,67,81],\n",
    "         [90,94,78,67,69],\n",
    "         [81,83,86,33,88],\n",
    "         [70,69,89,64,90],\n",
    "         [94,92,93,67,64],\n",
    "         [86,85,89,64,79]])\n",
    "\n",
    "score"
   ]
  },
  {
   "cell_type": "markdown",
   "id": "301475e2",
   "metadata": {},
   "source": [
    "# 2 效率对比"
   ]
  },
  {
   "cell_type": "code",
   "execution_count": 3,
   "id": "97b1688b",
   "metadata": {},
   "outputs": [],
   "source": [
    "import random\n",
    "import time"
   ]
  },
  {
   "cell_type": "code",
   "execution_count": 4,
   "id": "2930a292",
   "metadata": {},
   "outputs": [
    {
     "name": "stdout",
     "output_type": "stream",
     "text": [
      "CPU times: user 227 ms, sys: 54.8 ms, total: 282 ms\n",
      "Wall time: 282 ms\n",
      "CPU times: user 21 ms, sys: 4.24 ms, total: 25.2 ms\n",
      "Wall time: 25.1 ms\n"
     ]
    }
   ],
   "source": [
    "a = []\n",
    "for i in range(100_000_000):\n",
    "    a.append(random.random())\n",
    "\n",
    "# 通过%time魔法方法，查看当前行的代码运行一次所花费的时间\n",
    "%time sum1 = sum(a)\n",
    "\n",
    "b=np.array(a)\n",
    "\n",
    "%time sum2=np.sum(b)"
   ]
  },
  {
   "cell_type": "markdown",
   "id": "ba0c040e",
   "metadata": {},
   "source": [
    "# 3 ndarray的属性"
   ]
  },
  {
   "cell_type": "code",
   "execution_count": 9,
   "id": "7d9cdfa1",
   "metadata": {},
   "outputs": [
    {
     "data": {
      "text/plain": [
       "(7, 5)"
      ]
     },
     "execution_count": 9,
     "metadata": {},
     "output_type": "execute_result"
    }
   ],
   "source": [
    "score.shape # 数组维度的元组"
   ]
  },
  {
   "cell_type": "code",
   "execution_count": 10,
   "id": "56823c0f",
   "metadata": {},
   "outputs": [
    {
     "data": {
      "text/plain": [
       "2"
      ]
     },
     "execution_count": 10,
     "metadata": {},
     "output_type": "execute_result"
    }
   ],
   "source": [
    "score.ndim # 数组维数"
   ]
  },
  {
   "cell_type": "code",
   "execution_count": 12,
   "id": "2cb1ac3f",
   "metadata": {},
   "outputs": [
    {
     "data": {
      "text/plain": [
       "35"
      ]
     },
     "execution_count": 12,
     "metadata": {},
     "output_type": "execute_result"
    }
   ],
   "source": [
    "score.size # 数组中的元素数量"
   ]
  },
  {
   "cell_type": "code",
   "execution_count": 13,
   "id": "beeca887",
   "metadata": {},
   "outputs": [
    {
     "data": {
      "text/plain": [
       "8"
      ]
     },
     "execution_count": 13,
     "metadata": {},
     "output_type": "execute_result"
    }
   ],
   "source": [
    "score.itemsize # 一个数组元素的长度（字节），即每个数据占的字节长度是8"
   ]
  },
  {
   "cell_type": "code",
   "execution_count": 15,
   "id": "a0d6bf3e",
   "metadata": {},
   "outputs": [
    {
     "data": {
      "text/plain": [
       "dtype('int64')"
      ]
     },
     "execution_count": 15,
     "metadata": {},
     "output_type": "execute_result"
    }
   ],
   "source": [
    "score.dtype # 数据类型是int64"
   ]
  },
  {
   "cell_type": "markdown",
   "id": "5ac52e1a",
   "metadata": {},
   "source": [
    "# 4 ndarray的形状"
   ]
  },
  {
   "cell_type": "code",
   "execution_count": 29,
   "id": "62745d36",
   "metadata": {},
   "outputs": [],
   "source": [
    "aa = np.array([1,2,3])"
   ]
  },
  {
   "cell_type": "code",
   "execution_count": 30,
   "id": "f89f5d21",
   "metadata": {},
   "outputs": [
    {
     "data": {
      "text/plain": [
       "array([1, 2, 3])"
      ]
     },
     "execution_count": 30,
     "metadata": {},
     "output_type": "execute_result"
    }
   ],
   "source": [
    "aa"
   ]
  },
  {
   "cell_type": "code",
   "execution_count": 19,
   "id": "4889efe8",
   "metadata": {},
   "outputs": [],
   "source": [
    "b = np.array([[1,2,3],[2,3,4]])"
   ]
  },
  {
   "cell_type": "code",
   "execution_count": 20,
   "id": "0fea95e2",
   "metadata": {},
   "outputs": [
    {
     "data": {
      "text/plain": [
       "array([[1, 2, 3],\n",
       "       [2, 3, 4]])"
      ]
     },
     "execution_count": 20,
     "metadata": {},
     "output_type": "execute_result"
    }
   ],
   "source": [
    "b"
   ]
  },
  {
   "cell_type": "code",
   "execution_count": 23,
   "id": "6e681095",
   "metadata": {},
   "outputs": [],
   "source": [
    "c = np.array([[[1,2,3],[2,3,4],[4,5,6],[4,5,6]]])"
   ]
  },
  {
   "cell_type": "code",
   "execution_count": 24,
   "id": "37e53ecb",
   "metadata": {},
   "outputs": [
    {
     "data": {
      "text/plain": [
       "array([[[1, 2, 3],\n",
       "        [2, 3, 4],\n",
       "        [4, 5, 6],\n",
       "        [4, 5, 6]]])"
      ]
     },
     "execution_count": 24,
     "metadata": {},
     "output_type": "execute_result"
    }
   ],
   "source": [
    "c"
   ]
  },
  {
   "cell_type": "code",
   "execution_count": 31,
   "id": "c4ceae97",
   "metadata": {},
   "outputs": [
    {
     "data": {
      "text/plain": [
       "(3,)"
      ]
     },
     "execution_count": 31,
     "metadata": {},
     "output_type": "execute_result"
    }
   ],
   "source": [
    "aa.shape"
   ]
  },
  {
   "cell_type": "code",
   "execution_count": 26,
   "id": "c003a5ef",
   "metadata": {},
   "outputs": [
    {
     "data": {
      "text/plain": [
       "(2, 3)"
      ]
     },
     "execution_count": 26,
     "metadata": {},
     "output_type": "execute_result"
    }
   ],
   "source": [
    "b.shape"
   ]
  },
  {
   "cell_type": "code",
   "execution_count": 27,
   "id": "b7a2b6e1",
   "metadata": {},
   "outputs": [
    {
     "data": {
      "text/plain": [
       "(1, 4, 3)"
      ]
     },
     "execution_count": 27,
     "metadata": {},
     "output_type": "execute_result"
    }
   ],
   "source": [
    "c.shape"
   ]
  },
  {
   "cell_type": "markdown",
   "id": "a86db18d",
   "metadata": {},
   "source": [
    "# 5 ndarray的类型"
   ]
  },
  {
   "cell_type": "code",
   "execution_count": 32,
   "id": "38c11324",
   "metadata": {},
   "outputs": [
    {
     "data": {
      "text/plain": [
       "array([1, 2, 3])"
      ]
     },
     "execution_count": 32,
     "metadata": {},
     "output_type": "execute_result"
    }
   ],
   "source": [
    "aa"
   ]
  },
  {
   "cell_type": "code",
   "execution_count": 33,
   "id": "0055f45a",
   "metadata": {},
   "outputs": [
    {
     "data": {
      "text/plain": [
       "dtype('int64')"
      ]
     },
     "execution_count": 33,
     "metadata": {},
     "output_type": "execute_result"
    }
   ],
   "source": [
    "a.dtype"
   ]
  },
  {
   "cell_type": "code",
   "execution_count": 34,
   "id": "46d218d2",
   "metadata": {},
   "outputs": [],
   "source": [
    "d = np.array([1,2,3],dtype=np.float32)"
   ]
  },
  {
   "cell_type": "code",
   "execution_count": 35,
   "id": "52d2973f",
   "metadata": {},
   "outputs": [
    {
     "data": {
      "text/plain": [
       "array([1., 2., 3.], dtype=float32)"
      ]
     },
     "execution_count": 35,
     "metadata": {},
     "output_type": "execute_result"
    }
   ],
   "source": [
    "d"
   ]
  },
  {
   "cell_type": "code",
   "execution_count": 36,
   "id": "5afe9732",
   "metadata": {},
   "outputs": [],
   "source": [
    "e = np.array(['I', 'Love', 'Python'])"
   ]
  },
  {
   "cell_type": "code",
   "execution_count": 37,
   "id": "99abe9f7",
   "metadata": {},
   "outputs": [
    {
     "data": {
      "text/plain": [
       "dtype('<U6')"
      ]
     },
     "execution_count": 37,
     "metadata": {},
     "output_type": "execute_result"
    }
   ],
   "source": [
    "e.dtype"
   ]
  },
  {
   "cell_type": "code",
   "execution_count": 39,
   "id": "4d3e024d",
   "metadata": {},
   "outputs": [],
   "source": [
    "e2 = np.array(['I', 'Love', 'Python'],dtype=np.string_)"
   ]
  },
  {
   "cell_type": "code",
   "execution_count": 40,
   "id": "17d55df2",
   "metadata": {},
   "outputs": [
    {
     "data": {
      "text/plain": [
       "dtype('S6')"
      ]
     },
     "execution_count": 40,
     "metadata": {},
     "output_type": "execute_result"
    }
   ],
   "source": [
    "e2.dtype"
   ]
  },
  {
   "cell_type": "markdown",
   "id": "7861d77a",
   "metadata": {},
   "source": [
    "# 6 生成数组"
   ]
  },
  {
   "cell_type": "code",
   "execution_count": 42,
   "id": "476f2e45",
   "metadata": {},
   "outputs": [],
   "source": [
    "ones=np.ones([4,8])"
   ]
  },
  {
   "cell_type": "code",
   "execution_count": 43,
   "id": "c59b0051",
   "metadata": {},
   "outputs": [
    {
     "data": {
      "text/plain": [
       "array([[1., 1., 1., 1., 1., 1., 1., 1.],\n",
       "       [1., 1., 1., 1., 1., 1., 1., 1.],\n",
       "       [1., 1., 1., 1., 1., 1., 1., 1.],\n",
       "       [1., 1., 1., 1., 1., 1., 1., 1.]])"
      ]
     },
     "execution_count": 43,
     "metadata": {},
     "output_type": "execute_result"
    }
   ],
   "source": [
    "ones"
   ]
  },
  {
   "cell_type": "code",
   "execution_count": 44,
   "id": "7e565bc0",
   "metadata": {},
   "outputs": [
    {
     "data": {
      "text/plain": [
       "array([[0., 0., 0., 0., 0., 0., 0., 0.],\n",
       "       [0., 0., 0., 0., 0., 0., 0., 0.],\n",
       "       [0., 0., 0., 0., 0., 0., 0., 0.],\n",
       "       [0., 0., 0., 0., 0., 0., 0., 0.]])"
      ]
     },
     "execution_count": 44,
     "metadata": {},
     "output_type": "execute_result"
    }
   ],
   "source": [
    "np.zeros_like(ones)"
   ]
  },
  {
   "cell_type": "code",
   "execution_count": 46,
   "id": "8b98609f",
   "metadata": {},
   "outputs": [],
   "source": [
    "a = np.array([[1,2,3],[4,5,6]])"
   ]
  },
  {
   "cell_type": "code",
   "execution_count": 47,
   "id": "4b92e8bc",
   "metadata": {},
   "outputs": [],
   "source": [
    "a1=np.array(a) # 深拷贝"
   ]
  },
  {
   "cell_type": "code",
   "execution_count": 48,
   "id": "57421b49",
   "metadata": {},
   "outputs": [
    {
     "data": {
      "text/plain": [
       "array([[1, 2, 3],\n",
       "       [4, 5, 6]])"
      ]
     },
     "execution_count": 48,
     "metadata": {},
     "output_type": "execute_result"
    }
   ],
   "source": [
    "a1"
   ]
  },
  {
   "cell_type": "code",
   "execution_count": 51,
   "id": "e8742b34",
   "metadata": {},
   "outputs": [],
   "source": [
    "a2 = np.asarray(a) # 浅拷贝"
   ]
  },
  {
   "cell_type": "code",
   "execution_count": 52,
   "id": "ecbb69a5",
   "metadata": {},
   "outputs": [
    {
     "data": {
      "text/plain": [
       "array([[1, 2, 3],\n",
       "       [4, 5, 6]])"
      ]
     },
     "execution_count": 52,
     "metadata": {},
     "output_type": "execute_result"
    }
   ],
   "source": [
    "a2"
   ]
  },
  {
   "cell_type": "code",
   "execution_count": 53,
   "id": "6d17d959",
   "metadata": {},
   "outputs": [],
   "source": [
    "a[0,0] = 100"
   ]
  },
  {
   "cell_type": "code",
   "execution_count": 54,
   "id": "ac2da7d6",
   "metadata": {},
   "outputs": [
    {
     "data": {
      "text/plain": [
       "array([[100,   2,   3],\n",
       "       [  4,   5,   6]])"
      ]
     },
     "execution_count": 54,
     "metadata": {},
     "output_type": "execute_result"
    }
   ],
   "source": [
    "a"
   ]
  },
  {
   "cell_type": "code",
   "execution_count": 55,
   "id": "3f4723c5",
   "metadata": {},
   "outputs": [
    {
     "data": {
      "text/plain": [
       "array([[1, 2, 3],\n",
       "       [4, 5, 6]])"
      ]
     },
     "execution_count": 55,
     "metadata": {},
     "output_type": "execute_result"
    }
   ],
   "source": [
    "a1"
   ]
  },
  {
   "cell_type": "code",
   "execution_count": 56,
   "id": "c8046ba1",
   "metadata": {},
   "outputs": [
    {
     "data": {
      "text/plain": [
       "array([[100,   2,   3],\n",
       "       [  4,   5,   6]])"
      ]
     },
     "execution_count": 56,
     "metadata": {},
     "output_type": "execute_result"
    }
   ],
   "source": [
    "a2"
   ]
  },
  {
   "cell_type": "code",
   "execution_count": 58,
   "id": "cdab0ddf",
   "metadata": {},
   "outputs": [
    {
     "data": {
      "text/plain": [
       "array([  0.,  10.,  20.,  30.,  40.,  50.,  60.,  70.,  80.,  90., 100.])"
      ]
     },
     "execution_count": 58,
     "metadata": {},
     "output_type": "execute_result"
    }
   ],
   "source": [
    "np.linspace(0,100,11)"
   ]
  },
  {
   "cell_type": "code",
   "execution_count": 59,
   "id": "2d5a7bfb",
   "metadata": {},
   "outputs": [
    {
     "data": {
      "text/plain": [
       "array([10, 12, 14, 16, 18, 20, 22, 24, 26, 28, 30, 32, 34, 36, 38, 40, 42,\n",
       "       44, 46, 48])"
      ]
     },
     "execution_count": 59,
     "metadata": {},
     "output_type": "execute_result"
    }
   ],
   "source": [
    "np.arange(10,50,2)"
   ]
  },
  {
   "cell_type": "code",
   "execution_count": 65,
   "id": "1642f3e5",
   "metadata": {},
   "outputs": [
    {
     "data": {
      "text/plain": [
       "array([[0.85805645, 0.81915085, 0.26793088],\n",
       "       [0.17195518, 0.56525734, 0.17558124]])"
      ]
     },
     "execution_count": 65,
     "metadata": {},
     "output_type": "execute_result"
    }
   ],
   "source": [
    " np.random.rand(2,3)"
   ]
  },
  {
   "cell_type": "markdown",
   "id": "e663baa8",
   "metadata": {},
   "source": [
    "# 生成均匀分布小案例"
   ]
  },
  {
   "cell_type": "code",
   "execution_count": 69,
   "id": "1ce1dcd7",
   "metadata": {},
   "outputs": [
    {
     "data": {
      "image/png": "[encoded data removed]",
      "text/plain": [
       "<Figure size 2000x800 with 1 Axes>"
      ]
     },
     "metadata": {},
     "output_type": "display_data"
    }
   ],
   "source": [
    "# 0.准备数据\n",
    "x = np.random.uniform(0,1,100_000_000)\n",
    "\n",
    "# 1.画布\n",
    "plt.figure(figsize=(20,8),dpi=100)\n",
    "\n",
    "# 2.绘制\n",
    "plt.hist(x,bins=1000)\n",
    "\n",
    "# 3.显示\n",
    "plt.show()"
   ]
  },
  {
   "cell_type": "markdown",
   "id": "6b3eee94",
   "metadata": {},
   "source": [
    "# 生成正态分布"
   ]
  },
  {
   "cell_type": "code",
   "execution_count": 70,
   "id": "134e5c41",
   "metadata": {},
   "outputs": [
    {
     "data": {
      "text/plain": [
       "array([0.03029074, 1.85418969, 2.79434793, ..., 2.65818636, 2.83277522,\n",
       "       3.48609666])"
      ]
     },
     "execution_count": 70,
     "metadata": {},
     "output_type": "execute_result"
    }
   ],
   "source": [
    "np.random.normal(1.75,1,100_000_000)"
   ]
  },
  {
   "cell_type": "code",
   "execution_count": 71,
   "id": "d3f04ed2",
   "metadata": {},
   "outputs": [
    {
     "data": {
      "image/png": "[encoded data removed]",
      "text/plain": [
       "<Figure size 2000x800 with 1 Axes>"
      ]
     },
     "metadata": {},
     "output_type": "display_data"
    }
   ],
   "source": [
    "# 0.准备数据\n",
    "x = np.random.normal(1.75,1,100_000_000)\n",
    "\n",
    "# 1.画布\n",
    "plt.figure(figsize=(20,8),dpi=100)\n",
    "\n",
    "# 2.绘制\n",
    "plt.hist(x,bins=1000)\n",
    "\n",
    "# 3.显示\n",
    "plt.show()"
   ]
  },
  {
   "cell_type": "markdown",
   "id": "ceac5d07",
   "metadata": {},
   "source": [
    "# 7 数组切片"
   ]
  },
  {
   "cell_type": "code",
   "execution_count": 72,
   "id": "874d991e",
   "metadata": {},
   "outputs": [],
   "source": [
    "stock_change = np.random.normal(0,1,(8,10))"
   ]
  },
  {
   "cell_type": "code",
   "execution_count": 73,
   "id": "61ef2544",
   "metadata": {},
   "outputs": [
    {
     "data": {
      "text/plain": [
       "array([[-1.01463912e+00,  6.43590260e-01,  3.15921746e-02,\n",
       "         1.10056034e-01, -6.58850883e-01,  4.59708671e-01,\n",
       "        -9.62540719e-01,  1.56008263e+00, -1.31349961e+00,\n",
       "         1.08240953e+00],\n",
       "       [-3.71345980e-01,  2.22730606e-01, -1.36374061e+00,\n",
       "         3.65565754e-01, -2.22499830e+00,  5.07429664e-01,\n",
       "        -1.17155915e-01, -1.02395160e+00,  8.58784260e-01,\n",
       "        -1.63566406e+00],\n",
       "       [ 8.46751707e-01,  4.40338571e-01,  1.12869071e+00,\n",
       "         5.59610306e-01,  5.14959564e-01,  1.39413325e+00,\n",
       "         3.30475715e-01,  2.65039832e-01,  9.01022122e-01,\n",
       "        -8.02828808e-01],\n",
       "       [-6.08274611e-01, -3.77084858e-01,  3.65460720e-01,\n",
       "        -1.53783022e-02,  1.35264351e+00, -1.12928061e+00,\n",
       "         1.65568967e+00, -1.41223876e-01, -1.03887509e-01,\n",
       "         2.02015029e-01],\n",
       "       [ 6.04768229e-01,  7.81695437e-01,  8.24046246e-01,\n",
       "         1.03735294e+00,  4.57432576e-01,  9.53180805e-04,\n",
       "        -7.00966931e-01,  1.17097113e+00,  1.15112833e+00,\n",
       "         8.91791490e-01],\n",
       "       [-1.23743133e-02,  1.71017538e+00,  9.68309749e-01,\n",
       "        -1.81607096e-01,  9.81869368e-01, -2.79259676e-01,\n",
       "        -1.73332756e+00,  2.56541563e-02,  4.06876037e-01,\n",
       "         1.04497043e+00],\n",
       "       [-7.88254540e-02,  3.41276905e-01, -6.88948860e-01,\n",
       "        -2.15011560e-01, -5.10066825e-02,  3.65713760e-01,\n",
       "         3.84206682e-03,  2.76392934e-01, -1.15477526e+00,\n",
       "        -1.01857815e+00],\n",
       "       [-1.83501665e+00,  1.61805284e-01,  7.21823532e-01,\n",
       "         2.40573026e+00,  4.25829595e-01, -7.95626636e-01,\n",
       "         3.24893127e-01,  1.17143451e-01,  3.56413092e-01,\n",
       "         2.55528921e-01]])"
      ]
     },
     "execution_count": 73,
     "metadata": {},
     "output_type": "execute_result"
    }
   ],
   "source": [
    "stock_change"
   ]
  },
  {
   "cell_type": "code",
   "execution_count": 75,
   "id": "ba8ae141",
   "metadata": {},
   "outputs": [
    {
     "data": {
      "text/plain": [
       "array([[-1.01463912,  0.64359026,  0.03159217],\n",
       "       [-0.37134598,  0.22273061, -1.36374061]])"
      ]
     },
     "execution_count": 75,
     "metadata": {},
     "output_type": "execute_result"
    }
   ],
   "source": [
    "stock_change[0:2,0:3]"
   ]
  },
  {
   "cell_type": "code",
   "execution_count": 83,
   "id": "0ef05de4",
   "metadata": {},
   "outputs": [],
   "source": [
    "k=np.array([[1,2,3],[2,4,3]])"
   ]
  },
  {
   "cell_type": "code",
   "execution_count": 78,
   "id": "45054528",
   "metadata": {},
   "outputs": [],
   "source": [
    "a = [[1,3,5],[2,4,8]]"
   ]
  },
  {
   "cell_type": "code",
   "execution_count": 79,
   "id": "782df8fc",
   "metadata": {},
   "outputs": [
    {
     "data": {
      "text/plain": [
       "[[1, 3, 5], [2, 4, 8]]"
      ]
     },
     "execution_count": 79,
     "metadata": {},
     "output_type": "execute_result"
    }
   ],
   "source": [
    "a"
   ]
  },
  {
   "cell_type": "code",
   "execution_count": 80,
   "id": "61950e6c",
   "metadata": {},
   "outputs": [],
   "source": [
    "b = [[1,3,2,5],[13,3]]"
   ]
  },
  {
   "cell_type": "code",
   "execution_count": 81,
   "id": "e2cb555f",
   "metadata": {},
   "outputs": [
    {
     "data": {
      "text/plain": [
       "[[1, 3, 2, 5], [13, 3]]"
      ]
     },
     "execution_count": 81,
     "metadata": {},
     "output_type": "execute_result"
    }
   ],
   "source": [
    "b"
   ]
  },
  {
   "cell_type": "code",
   "execution_count": 82,
   "id": "cd871b38",
   "metadata": {},
   "outputs": [
    {
     "data": {
      "text/plain": [
       "list"
      ]
     },
     "execution_count": 82,
     "metadata": {},
     "output_type": "execute_result"
    }
   ],
   "source": [
    "type(b)"
   ]
  },
  {
   "cell_type": "code",
   "execution_count": 84,
   "id": "d704579d",
   "metadata": {},
   "outputs": [
    {
     "data": {
      "text/plain": [
       "array([[1, 2, 3],\n",
       "       [2, 4, 3]])"
      ]
     },
     "execution_count": 84,
     "metadata": {},
     "output_type": "execute_result"
    }
   ],
   "source": [
    "k"
   ]
  },
  {
   "cell_type": "code",
   "execution_count": 85,
   "id": "a94902d1",
   "metadata": {},
   "outputs": [
    {
     "data": {
      "text/plain": [
       "numpy.ndarray"
      ]
     },
     "execution_count": 85,
     "metadata": {},
     "output_type": "execute_result"
    }
   ],
   "source": [
    "type(k)"
   ]
  },
  {
   "cell_type": "code",
   "execution_count": 86,
   "id": "32d0eb22",
   "metadata": {},
   "outputs": [
    {
     "data": {
      "text/plain": [
       "dtype('int64')"
      ]
     },
     "execution_count": 86,
     "metadata": {},
     "output_type": "execute_result"
    }
   ],
   "source": [
    "k.dtype"
   ]
  },
  {
   "cell_type": "markdown",
   "id": "784bd424",
   "metadata": {},
   "source": [
    "# 8 逻辑运算"
   ]
  },
  {
   "cell_type": "code",
   "execution_count": 87,
   "id": "9dd69895",
   "metadata": {},
   "outputs": [],
   "source": [
    "stock_change = np.random.normal(0,1,(8,10))"
   ]
  },
  {
   "cell_type": "code",
   "execution_count": 88,
   "id": "a852c774",
   "metadata": {},
   "outputs": [
    {
     "data": {
      "text/plain": [
       "array([[ 1.56601864, -0.3140485 , -1.56094307, -0.24554397,  1.42702689,\n",
       "        -0.73394768, -0.32231124,  0.18948653, -2.83487449,  1.94852557],\n",
       "       [-0.87058675,  1.50275273,  1.21078022,  0.72347272,  0.35990231,\n",
       "         0.91467301, -1.44095757,  0.73793244, -2.36492749, -0.91853191],\n",
       "       [-0.70220761,  0.49439479, -0.31541966, -0.66489583,  0.7699903 ,\n",
       "        -0.47493414, -0.64870311,  2.10241193,  1.04176623, -1.21486424],\n",
       "       [ 0.44123155, -0.85464035,  0.03022475,  0.72247879, -2.60809346,\n",
       "        -0.52328698,  1.25875112,  2.45253231,  0.36322999, -0.48718469],\n",
       "       [ 0.17945338, -0.32676418,  0.47171672,  1.01287921,  1.51278177,\n",
       "        -1.46295145,  0.12713099, -0.63606083,  0.37156647, -0.07130386],\n",
       "       [ 0.29312332, -0.72363744, -0.07429583, -0.46426372,  0.22273586,\n",
       "        -0.38813026, -1.5845946 ,  0.59410938,  0.03118075, -0.0531986 ],\n",
       "       [-0.28959505, -0.75870376, -0.4325288 , -1.19930636,  0.15930436,\n",
       "        -1.32451087,  1.06233233, -0.5844702 ,  1.20831641, -0.39755236],\n",
       "       [-1.59540344,  1.38898828,  0.0409828 , -1.48541869, -0.17690335,\n",
       "         0.15679054, -1.60239184,  0.31410346, -0.23145381, -1.04896896]])"
      ]
     },
     "execution_count": 88,
     "metadata": {},
     "output_type": "execute_result"
    }
   ],
   "source": [
    "stock_change"
   ]
  },
  {
   "cell_type": "code",
   "execution_count": 89,
   "id": "723ecf15",
   "metadata": {},
   "outputs": [],
   "source": [
    "stock_c = stock_change[0:5,0:5]"
   ]
  },
  {
   "cell_type": "code",
   "execution_count": 90,
   "id": "266d9fe9",
   "metadata": {},
   "outputs": [
    {
     "data": {
      "text/plain": [
       "array([[ 1.56601864, -0.3140485 , -1.56094307, -0.24554397,  1.42702689],\n",
       "       [-0.87058675,  1.50275273,  1.21078022,  0.72347272,  0.35990231],\n",
       "       [-0.70220761,  0.49439479, -0.31541966, -0.66489583,  0.7699903 ],\n",
       "       [ 0.44123155, -0.85464035,  0.03022475,  0.72247879, -2.60809346],\n",
       "       [ 0.17945338, -0.32676418,  0.47171672,  1.01287921,  1.51278177]])"
      ]
     },
     "execution_count": 90,
     "metadata": {},
     "output_type": "execute_result"
    }
   ],
   "source": [
    "stock_c"
   ]
  },
  {
   "cell_type": "code",
   "execution_count": 91,
   "id": "3ee71139",
   "metadata": {},
   "outputs": [
    {
     "data": {
      "text/plain": [
       "array([[ True, False, False, False,  True],\n",
       "       [False,  True,  True, False, False],\n",
       "       [False, False, False, False, False],\n",
       "       [False, False, False, False, False],\n",
       "       [False, False, False,  True,  True]])"
      ]
     },
     "execution_count": 91,
     "metadata": {},
     "output_type": "execute_result"
    }
   ],
   "source": [
    "stock_c > 1"
   ]
  },
  {
   "cell_type": "code",
   "execution_count": 92,
   "id": "4f8fd7a8",
   "metadata": {},
   "outputs": [],
   "source": [
    "stock_c[stock_c > 1] = 3"
   ]
  },
  {
   "cell_type": "code",
   "execution_count": 93,
   "id": "c19b1066",
   "metadata": {},
   "outputs": [
    {
     "data": {
      "text/plain": [
       "array([[ 3.        , -0.3140485 , -1.56094307, -0.24554397,  3.        ],\n",
       "       [-0.87058675,  3.        ,  3.        ,  0.72347272,  0.35990231],\n",
       "       [-0.70220761,  0.49439479, -0.31541966, -0.66489583,  0.7699903 ],\n",
       "       [ 0.44123155, -0.85464035,  0.03022475,  0.72247879, -2.60809346],\n",
       "       [ 0.17945338, -0.32676418,  0.47171672,  3.        ,  3.        ]])"
      ]
     },
     "execution_count": 93,
     "metadata": {},
     "output_type": "execute_result"
    }
   ],
   "source": [
    "stock_c"
   ]
  },
  {
   "cell_type": "code",
   "execution_count": 94,
   "id": "f6185bba",
   "metadata": {},
   "outputs": [
    {
     "data": {
      "text/plain": [
       "False"
      ]
     },
     "execution_count": 94,
     "metadata": {},
     "output_type": "execute_result"
    }
   ],
   "source": [
    "np.all(stock_change[0:2,0:5] > 0) # 判断stock_change[0:2,0:5]是否全是上涨"
   ]
  },
  {
   "cell_type": "code",
   "execution_count": 96,
   "id": "e06363e3",
   "metadata": {},
   "outputs": [
    {
     "data": {
      "text/plain": [
       "True"
      ]
     },
     "execution_count": 96,
     "metadata": {},
     "output_type": "execute_result"
    }
   ],
   "source": [
    "np.any(stock_change[0:5,:] > 0) # 判断前5只股票这段期间是否有上涨的"
   ]
  },
  {
   "cell_type": "code",
   "execution_count": 97,
   "id": "13e96f33",
   "metadata": {},
   "outputs": [],
   "source": [
    "# np.where(三元运算符)\n",
    "stock_d = stock_change[0:2,0:5]"
   ]
  },
  {
   "cell_type": "code",
   "execution_count": 98,
   "id": "0227fb57",
   "metadata": {},
   "outputs": [
    {
     "data": {
      "text/plain": [
       "array([[1, 0, 0, 0, 1],\n",
       "       [0, 1, 1, 1, 1]])"
      ]
     },
     "execution_count": 98,
     "metadata": {},
     "output_type": "execute_result"
    }
   ],
   "source": [
    "# 满足要求，赋值第一个值，否则赋值第二个值\n",
    "np.where(stock_d>0, 1,0)"
   ]
  },
  {
   "cell_type": "code",
   "execution_count": 99,
   "id": "4d1000b1",
   "metadata": {},
   "outputs": [],
   "source": [
    "stock_h = stock_change[0:2,0:7]"
   ]
  },
  {
   "cell_type": "code",
   "execution_count": 100,
   "id": "3694b77d",
   "metadata": {},
   "outputs": [
    {
     "data": {
      "text/plain": [
       "array([[0, 1, 0, 1, 0],\n",
       "       [0, 0, 0, 0, 1]])"
      ]
     },
     "execution_count": 100,
     "metadata": {},
     "output_type": "execute_result"
    }
   ],
   "source": [
    "np.where(np.logical_and(stock_d>-0.5, stock_d < 0.5),1,0)"
   ]
  },
  {
   "cell_type": "code",
   "execution_count": null,
   "id": "4947ef6a",
   "metadata": {},
   "outputs": [],
   "source": []
  }
 ],
 "metadata": {
  "kernelspec": {
   "display_name": "Python 3 (ipykernel)",
   "language": "python",
   "name": "python3"
  },
  "language_info": {
   "codemirror_mode": {
    "name": "ipython",
    "version": 3
   },
   "file_extension": ".py",
   "mimetype": "text/x-python",
   "name": "python",
   "nbconvert_exporter": "python",
   "pygments_lexer": "ipython3",
   "version": "3.11.7"
  }
 },
 "nbformat": 4,
 "nbformat_minor": 5
}
