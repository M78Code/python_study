{
 "cells": [
  {
   "cell_type": "markdown",
   "id": "bbb1080d",
   "metadata": {},
   "source": [
    "# 1 矩阵\n",
    "\n",
    "# （M行, N列）* （N行,L列）=（M行,L列）"
   ]
  },
  {
   "cell_type": "code",
   "execution_count": 1,
   "id": "3a4ca575",
   "metadata": {},
   "outputs": [],
   "source": [
    "# 和array的区别矩阵必须是二维的，但是array可以是多维的\n",
    "# 如 3*2 矩阵，即 3行2列，如m为行，n为列，那么m*n即3*2\n",
    "# 矩阵的维数即行数*列数"
   ]
  },
  {
   "cell_type": "markdown",
   "id": "83b8fe9c",
   "metadata": {},
   "source": [
    "# 2 向量"
   ]
  },
  {
   "cell_type": "code",
   "execution_count": 2,
   "id": "5e00753a",
   "metadata": {},
   "outputs": [],
   "source": [
    "# 向量是一种特殊的矩阵，讲义中的向量一般都是列向量，\n",
    "import numpy as np"
   ]
  },
  {
   "cell_type": "code",
   "execution_count": 3,
   "id": "f8574064",
   "metadata": {},
   "outputs": [],
   "source": [
    "arr = np.array([1,2,3,4])"
   ]
  },
  {
   "cell_type": "code",
   "execution_count": 4,
   "id": "0c29930b",
   "metadata": {},
   "outputs": [
    {
     "data": {
      "text/plain": [
       "array([1, 2, 3, 4])"
      ]
     },
     "execution_count": 4,
     "metadata": {},
     "output_type": "execute_result"
    }
   ],
   "source": [
    "arr"
   ]
  },
  {
   "cell_type": "code",
   "execution_count": 5,
   "id": "bf0c07f6",
   "metadata": {},
   "outputs": [
    {
     "data": {
      "text/plain": [
       "array([2, 3, 4, 5])"
      ]
     },
     "execution_count": 5,
     "metadata": {},
     "output_type": "execute_result"
    }
   ],
   "source": [
    "arr+1"
   ]
  },
  {
   "cell_type": "code",
   "execution_count": 6,
   "id": "4d2690e9",
   "metadata": {},
   "outputs": [
    {
     "data": {
      "text/plain": [
       "array([0.5, 1. , 1.5, 2. ])"
      ]
     },
     "execution_count": 6,
     "metadata": {},
     "output_type": "execute_result"
    }
   ],
   "source": [
    "arr/2"
   ]
  },
  {
   "cell_type": "code",
   "execution_count": 7,
   "id": "e7c90620",
   "metadata": {},
   "outputs": [
    {
     "data": {
      "text/plain": [
       "array([10, 20, 30, 40])"
      ]
     },
     "execution_count": 7,
     "metadata": {},
     "output_type": "execute_result"
    }
   ],
   "source": [
    "arr*10"
   ]
  },
  {
   "cell_type": "code",
   "execution_count": 14,
   "id": "0f002d83",
   "metadata": {},
   "outputs": [],
   "source": [
    "arr1=np.array([[1,2,3,2,1,4],[5,6,1,2,3,1]])\n",
    "arr2=np.array([[1,2,3,4,5,7],[3,4,5,6,7,2]])"
   ]
  },
  {
   "cell_type": "code",
   "execution_count": 15,
   "id": "0b42c3cc",
   "metadata": {},
   "outputs": [
    {
     "data": {
      "text/plain": [
       "array([[ 2,  4,  6,  6,  6, 11],\n",
       "       [ 8, 10,  6,  8, 10,  3]])"
      ]
     },
     "execution_count": 15,
     "metadata": {},
     "output_type": "execute_result"
    }
   ],
   "source": [
    "arr1+arr2"
   ]
  },
  {
   "cell_type": "code",
   "execution_count": null,
   "id": "857bc0a1",
   "metadata": {},
   "outputs": [],
   "source": []
  }
 ],
 "metadata": {
  "kernelspec": {
   "display_name": "Python 3 (ipykernel)",
   "language": "python",
   "name": "python3"
  },
  "language_info": {
   "codemirror_mode": {
    "name": "ipython",
    "version": 3
   },
   "file_extension": ".py",
   "mimetype": "text/x-python",
   "name": "python",
   "nbconvert_exporter": "python",
   "pygments_lexer": "ipython3",
   "version": "3.11.7"
  }
 },
 "nbformat": 4,
 "nbformat_minor": 5
}
