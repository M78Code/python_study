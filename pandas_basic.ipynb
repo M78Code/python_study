{
 "cells": [
  {
   "cell_type": "code",
   "execution_count": 3,
   "id": "5491aad6",
   "metadata": {},
   "outputs": [],
   "source": [
    "import pandas as pd"
   ]
  },
  {
   "cell_type": "code",
   "execution_count": 4,
   "id": "e9982db1",
   "metadata": {},
   "outputs": [
    {
     "data": {
      "text/html": [
       "<div>\n",
       "<style scoped>\n",
       "    .dataframe tbody tr th:only-of-type {\n",
       "        vertical-align: middle;\n",
       "    }\n",
       "\n",
       "    .dataframe tbody tr th {\n",
       "        vertical-align: top;\n",
       "    }\n",
       "\n",
       "    .dataframe thead th {\n",
       "        text-align: right;\n",
       "    }\n",
       "</style>\n",
       "<table border=\"1\" class=\"dataframe\">\n",
       "  <thead>\n",
       "    <tr style=\"text-align: right;\">\n",
       "      <th></th>\n",
       "      <th>status\\t  attendeeId\\t                           mainBventId\\t                            tenantId\\t         topOrgId\\t                             checkinCode\\t mainCheckin    Status\\t        attendStatus\\t\\t\\t                ticketId\\tticketName\\t                            orderId\\t                orderNo\\t                                createdDate\\t            orderStatus\\t\\tmobile\\t        email</th>\n",
       "    </tr>\n",
       "  </thead>\n",
       "  <tbody>\n",
       "    <tr>\n",
       "      <th>0</th>\n",
       "      <td>6\\t      88bf0000-978e-a23b-f53b-08db34b1c292\\...</td>\n",
       "    </tr>\n",
       "    <tr>\n",
       "      <th>1</th>\n",
       "      <td>6\\t      ca000000-50da-a2c1-6ce2-08db34b198d1\\...</td>\n",
       "    </tr>\n",
       "    <tr>\n",
       "      <th>2</th>\n",
       "      <td>6\\t      88bf0000-978e-a23b-f555-08db34b1c292\\...</td>\n",
       "    </tr>\n",
       "    <tr>\n",
       "      <th>3</th>\n",
       "      <td>6\\t      ca000000-50da-a2c1-06af-08db34b19aed\\...</td>\n",
       "    </tr>\n",
       "    <tr>\n",
       "      <th>4</th>\n",
       "      <td>6\\t      88bf0000-978e-a23b-f56a-08db34b1c292\\...</td>\n",
       "    </tr>\n",
       "    <tr>\n",
       "      <th>5</th>\n",
       "      <td>6\\t      88bf0000-978e-a23b-2c5c-08db34b1c686\\...</td>\n",
       "    </tr>\n",
       "    <tr>\n",
       "      <th>6</th>\n",
       "      <td>6\\t      a84c0000-351a-de7a-5faa-08db34b19cbf\\...</td>\n",
       "    </tr>\n",
       "    <tr>\n",
       "      <th>7</th>\n",
       "      <td>6\\t      88bf0000-978e-a23b-2cba-08db34b1c686\\...</td>\n",
       "    </tr>\n",
       "  </tbody>\n",
       "</table>\n",
       "</div>"
      ],
      "text/plain": [
       "  status\\t  attendeeId\\t                           mainBventId\\t                            tenantId\\t         topOrgId\\t                             checkinCode\\t mainCheckin    Status\\t        attendStatus\\t\\t\\t                ticketId\\tticketName\\t                            orderId\\t                orderNo\\t                                createdDate\\t            orderStatus\\t\\tmobile\\t        email\n",
       "0  6\\t      88bf0000-978e-a23b-f53b-08db34b1c292\\...                                                                                                                                                                                                                                                                                                                                                                  \n",
       "1  6\\t      ca000000-50da-a2c1-6ce2-08db34b198d1\\...                                                                                                                                                                                                                                                                                                                                                                  \n",
       "2  6\\t      88bf0000-978e-a23b-f555-08db34b1c292\\...                                                                                                                                                                                                                                                                                                                                                                  \n",
       "3  6\\t      ca000000-50da-a2c1-06af-08db34b19aed\\...                                                                                                                                                                                                                                                                                                                                                                  \n",
       "4  6\\t      88bf0000-978e-a23b-f56a-08db34b1c292\\...                                                                                                                                                                                                                                                                                                                                                                  \n",
       "5  6\\t      88bf0000-978e-a23b-2c5c-08db34b1c686\\...                                                                                                                                                                                                                                                                                                                                                                  \n",
       "6  6\\t      a84c0000-351a-de7a-5faa-08db34b19cbf\\...                                                                                                                                                                                                                                                                                                                                                                  \n",
       "7  6\\t      88bf0000-978e-a23b-2cba-08db34b1c686\\...                                                                                                                                                                                                                                                                                                                                                                  "
      ]
     },
     "execution_count": 4,
     "metadata": {},
     "output_type": "execute_result"
    }
   ],
   "source": [
    "pd.read_csv(\"./csv_data.csv\")"
   ]
  },
  {
   "cell_type": "code",
   "execution_count": null,
   "id": "8b461ded",
   "metadata": {},
   "outputs": [],
   "source": []
  }
 ],
 "metadata": {
  "kernelspec": {
   "display_name": "Python 3 (ipykernel)",
   "language": "python",
   "name": "python3"
  },
  "language_info": {
   "codemirror_mode": {
    "name": "ipython",
    "version": 3
   },
   "file_extension": ".py",
   "mimetype": "text/x-python",
   "name": "python",
   "nbconvert_exporter": "python",
   "pygments_lexer": "ipython3",
   "version": "3.11.7"
  }
 },
 "nbformat": 4,
 "nbformat_minor": 5
}
