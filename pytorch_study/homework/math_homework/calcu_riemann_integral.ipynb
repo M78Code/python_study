{
 "cells": [
  {
   "cell_type": "code",
   "execution_count": 1,
   "id": "8f0d155c",
   "metadata": {},
   "outputs": [],
   "source": [
    "import numpy as np\n",
    "from matplotlib.pyplot import MultipleLocator\n",
    "from pylab import mpl\n",
    "import matplotlib.pyplot as pt"
   ]
  },
  {
   "cell_type": "code",
   "execution_count": 2,
   "id": "e60dafc5",
   "metadata": {},
   "outputs": [],
   "source": [
    "# 関数の定義\n",
    "def func(x):\n",
    "    return x * np.sin(x)"
   ]
  },
  {
   "cell_type": "code",
   "execution_count": 3,
   "id": "126ad156",
   "metadata": {},
   "outputs": [],
   "source": [
    "# xの値の範囲\n",
    "x = np.linspace(-np.pi, np.pi, 60)\n",
    "# y関数\n",
    "y = func(x)"
   ]
  },
  {
   "cell_type": "code",
   "execution_count": null,
   "id": "15ec4caa",
   "metadata": {},
   "outputs": [],
   "source": []
  }
 ],
 "metadata": {
  "kernelspec": {
   "display_name": "Python 3 (ipykernel)",
   "language": "python",
   "name": "python3"
  },
  "language_info": {
   "codemirror_mode": {
    "name": "ipython",
    "version": 3
   },
   "file_extension": ".py",
   "mimetype": "text/x-python",
   "name": "python",
   "nbconvert_exporter": "python",
   "pygments_lexer": "ipython3",
   "version": "3.11.7"
  }
 },
 "nbformat": 4,
 "nbformat_minor": 5
}
