{
 "cells": [
  {
   "cell_type": "code",
   "execution_count": 1,
   "id": "3a8ee2f9",
   "metadata": {},
   "outputs": [],
   "source": [
    "# https://blog.csdn.net/boss_rx/article/details/79742203"
   ]
  },
  {
   "cell_type": "code",
   "execution_count": 2,
   "id": "4f8b6c1d",
   "metadata": {},
   "outputs": [],
   "source": [
    "import numpy as np\n",
    "from matplotlib.pyplot import MultipleLocator\n",
    "from matplotlib.patches import Polygon\n",
    "from pylab import mpl\n",
    "import matplotlib.pyplot as pt"
   ]
  },
  {
   "cell_type": "code",
   "execution_count": null,
   "id": "72a3731d",
   "metadata": {},
   "outputs": [],
   "source": [
    "# 関数の定義\n",
    "def func(x):\n",
    "    return x * np.sin(x)\n",
    "\n",
    "# xの値の範囲、60部分を分割する\n",
    "x = np.linspace(-np.pi, np.pi,60)\n",
    "y = func(x)"
   ]
  }
 ],
 "metadata": {
  "kernelspec": {
   "display_name": "Python 3 (ipykernel)",
   "language": "python",
   "name": "python3"
  },
  "language_info": {
   "codemirror_mode": {
    "name": "ipython",
    "version": 3
   },
   "file_extension": ".py",
   "mimetype": "text/x-python",
   "name": "python",
   "nbconvert_exporter": "python",
   "pygments_lexer": "ipython3",
   "version": "3.11.7"
  }
 },
 "nbformat": 4,
 "nbformat_minor": 5
}
