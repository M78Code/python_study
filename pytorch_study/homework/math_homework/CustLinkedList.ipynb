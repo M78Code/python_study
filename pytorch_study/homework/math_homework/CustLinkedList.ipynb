{
 "cells": [
  {
   "cell_type": "code",
   "execution_count": 12,
   "id": "93f8abe0",
   "metadata": {},
   "outputs": [],
   "source": [
    "\"\"\"\n",
    " Enqueue, Dequeue, QueueEmptyを定数時間で実現するために、Queueの先頭と末尾の両方を追跡する必要がある\n",
    "\"\"\"\n",
    "class SinglyLinkedListNode:\n",
    "    \"\"\"\n",
    "    シングルリンクストのノード構造を定義する\n",
    "    \"\"\"\n",
    "    def __init__(self, value = None):\n",
    "        self.value = value\n",
    "        self.next = None\n",
    "\n",
    "class Queue:\n",
    "    \"\"\"\n",
    "    キュー構造を定義して、キューの先頭と末尾を操作する\n",
    "    \"\"\"\n",
    "    def __init__(self):\n",
    "        self.head = None\n",
    "        self.tail = None\n",
    "\n",
    "    def enqueue(self, value):\n",
    "        \"\"\"\n",
    "        要数をキューに追加する\n",
    "        \"\"\"\n",
    "        new_node = SinglyLinkedListNode(value)\n",
    "        \n",
    "        # キューが空の場合\n",
    "        if self.tail is None:\n",
    "            self.head = self.tail = new_node\n",
    "            \n",
    "        # キューが空無しの場合\n",
    "        else:\n",
    "            self.tail.next = new_node\n",
    "            self.tail = new_node\n",
    "\n",
    "    def dequeue(self):\n",
    "        \"\"\"\n",
    "        キューから要素を削除するために、先頭ノードの値を取得する。\n",
    "        \"\"\"\n",
    "        if self.head is None:\n",
    "            raise IndexError(\"エラー\")\n",
    "        dequeued_value = self.head.value\n",
    "        self.head = self.head.next\n",
    "        if self.head is None:\n",
    "            self.tail = None\n",
    "        return dequeued_value"
   ]
  },
  {
   "cell_type": "code",
   "execution_count": 13,
   "id": "a14c08a7",
   "metadata": {},
   "outputs": [
    {
     "name": "stdout",
     "output_type": "stream",
     "text": [
      "8\n",
      "9\n",
      "6\n",
      "4\n"
     ]
    }
   ],
   "source": [
    "# サンプル\n",
    "queue = Queue()\n",
    "queue.enqueue(8)\n",
    "queue.enqueue(9)\n",
    "queue.enqueue(6)\n",
    "print(queue.dequeue())  # 出力: 8\n",
    "print(queue.dequeue())  # 出力: 9\n",
    "queue.enqueue(4)\n",
    "print(queue.dequeue())  # 出力: 6\n",
    "print(queue.dequeue())  # 出力: 4"
   ]
  },
  {
   "cell_type": "code",
   "execution_count": 14,
   "id": "3ad60434",
   "metadata": {},
   "outputs": [],
   "source": [
    "class Node:\n",
    "    def __init__(self, value=None):\n",
    "        self.value = value\n",
    "        self.next = None\n",
    "\n",
    "def union(S1_head, S2_head):\n",
    "    if S1_head is None:  # S1が空の場合、S2を返す\n",
    "        return S2_head\n",
    "    if S2_head is None:  # S2が空の場合、S1を返す\n",
    "        return S1_head\n",
    "    \n",
    "    # S1の最後のノードを見つける\n",
    "    current = S1_head\n",
    "    while current.next is not None:\n",
    "        current = current.next\n",
    "    \n",
    "    # S1の最後のノードをS2の先頭にリンクする\n",
    "    current.next = S2_head\n",
    "    \n",
    "    # 結合された新しい集合の先頭を返す\n",
    "    return S1_head"
   ]
  },
  {
   "cell_type": "code",
   "execution_count": 17,
   "id": "836e55d9",
   "metadata": {},
   "outputs": [],
   "source": [
    "class TreeNode:\n",
    "    def __init__(self, key):\n",
    "        self.left = None\n",
    "        self.right = None\n",
    "        self.key = key\n",
    "\n",
    "def inorder_traversal(root):\n",
    "    stack = []\n",
    "    current = root\n",
    "    \n",
    "    while stack or current:\n",
    "        # 現在のノードの最も左のノードに到達する\n",
    "        while current:\n",
    "            stack.append(current)\n",
    "            current = current.left\n",
    "        \n",
    "        # 現在は Noneである\n",
    "        current = stack.pop()\n",
    "        print(current.key, end=\" \") # ノードを訪問\n",
    "        \n",
    "        # ノードとその左部分木を訪問した後、右部分木に進む\n",
    "        current = current.right"
   ]
  },
  {
   "cell_type": "code",
   "execution_count": 18,
   "id": "60a32dc0",
   "metadata": {},
   "outputs": [
    {
     "name": "stdout",
     "output_type": "stream",
     "text": [
      "4 2 5 1 6 3 7 "
     ]
    }
   ],
   "source": [
    "root = TreeNode(1)\n",
    "root.left = TreeNode(2)\n",
    "root.right = TreeNode(3)\n",
    "root.left.left = TreeNode(4)\n",
    "root.left.right = TreeNode(5)\n",
    "root.right.left = TreeNode(6)\n",
    "root.right.right = TreeNode(7)\n",
    "inorder_traversal(root)"
   ]
  },
  {
   "cell_type": "code",
   "execution_count": null,
   "id": "d71df89a",
   "metadata": {},
   "outputs": [],
   "source": []
  }
 ],
 "metadata": {
  "kernelspec": {
   "display_name": "Python 3 (ipykernel)",
   "language": "python",
   "name": "python3"
  },
  "language_info": {
   "codemirror_mode": {
    "name": "ipython",
    "version": 3
   },
   "file_extension": ".py",
   "mimetype": "text/x-python",
   "name": "python",
   "nbconvert_exporter": "python",
   "pygments_lexer": "ipython3",
   "version": "3.11.7"
  }
 },
 "nbformat": 4,
 "nbformat_minor": 5
}
