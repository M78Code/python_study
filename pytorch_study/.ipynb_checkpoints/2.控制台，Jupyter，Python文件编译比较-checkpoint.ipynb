{
 "cells": [
  {
   "cell_type": "code",
   "execution_count": 1,
   "id": "27cf7aec",
   "metadata": {},
   "outputs": [
    {
     "name": "stdout",
     "output_type": "stream",
     "text": [
      "hello world\n"
     ]
    }
   ],
   "source": [
    "# python文件，\n",
    "# python文件的块是所有行的代码，\n",
    "# 优：通用，传播方便，适用于大型项目；\n",
    "# 缺：需要从头运行；\n",
    "\n",
    "# python控制台\n",
    "# 以任意行为块运行的，\n",
    "# 优：显示每个变量属性；\n",
    "# 缺：不利于代码阅读及修改；\n",
    "\n",
    "# Jupyter\n",
    "# 以任意行为块运行的\n",
    "# 优：利于代码阅读及修改\n",
    "# 缺：环境需要配置；\n",
    "\n",
    "# print(\"Start\")\n",
    "# a=\"hello world\"\n",
    "# b=2019\n",
    "# c=a+b\n",
    "# print(c)"
   ]
  },
  {
   "cell_type": "code",
   "execution_count": 2,
   "id": "fc701ce2",
   "metadata": {},
   "outputs": [
    {
     "name": "stdout",
     "output_type": "stream",
     "text": [
      "start\n"
     ]
    }
   ],
   "source": [
    "print(\"start\")"
   ]
  },
  {
   "cell_type": "code",
   "execution_count": 3,
   "id": "a6dd6dde",
   "metadata": {},
   "outputs": [],
   "source": [
    "a = \"hello world\""
   ]
  },
  {
   "cell_type": "code",
   "execution_count": 4,
   "id": "7344e88f",
   "metadata": {},
   "outputs": [],
   "source": [
    "b=2019"
   ]
  },
  {
   "cell_type": "code",
   "execution_count": 5,
   "id": "fa79a45d",
   "metadata": {},
   "outputs": [
    {
     "ename": "TypeError",
     "evalue": "can only concatenate str (not \"int\") to str",
     "output_type": "error",
     "traceback": [
      "\u001b[0;31m---------------------------------------------------------------------------\u001b[0m",
      "\u001b[0;31mTypeError\u001b[0m                                 Traceback (most recent call last)",
      "Cell \u001b[0;32mIn[5], line 1\u001b[0m\n\u001b[0;32m----> 1\u001b[0m c\u001b[38;5;241m=\u001b[39m\u001b[43ma\u001b[49m\u001b[38;5;241;43m+\u001b[39;49m\u001b[43mb\u001b[49m\n\u001b[1;32m      2\u001b[0m \u001b[38;5;28mprint\u001b[39m(c)\n",
      "\u001b[0;31mTypeError\u001b[0m: can only concatenate str (not \"int\") to str"
     ]
    }
   ],
   "source": [
    "c=a+b\n",
    "print(c)"
   ]
  },
  {
   "cell_type": "code",
   "execution_count": null,
   "id": "dbc3e65e",
   "metadata": {},
   "outputs": [],
   "source": []
  }
 ],
 "metadata": {
  "kernelspec": {
   "display_name": "Python [conda env:night_pytorch] *",
   "language": "python",
   "name": "conda-env-night_pytorch-py"
  },
  "language_info": {
   "codemirror_mode": {
    "name": "ipython",
    "version": 3
   },
   "file_extension": ".py",
   "mimetype": "text/x-python",
   "name": "python",
   "nbconvert_exporter": "python",
   "pygments_lexer": "ipython3",
   "version": "3.8.19"
  }
 },
 "nbformat": 4,
 "nbformat_minor": 5
}
