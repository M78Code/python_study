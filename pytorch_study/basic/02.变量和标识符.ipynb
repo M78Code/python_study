{
 "cells": [
  {
   "cell_type": "markdown",
   "id": "45849d20",
   "metadata": {},
   "source": [
    "Python中使用变量，不需要声明，直接为变量赋值即可"
   ]
  },
  {
   "cell_type": "code",
   "execution_count": 3,
   "id": "49f33541",
   "metadata": {},
   "outputs": [
    {
     "name": "stdout",
     "output_type": "stream",
     "text": [
      "10\n"
     ]
    }
   ],
   "source": [
    "a=10\n",
    "print(a)"
   ]
  },
  {
   "cell_type": "markdown",
   "id": "236cf31a",
   "metadata": {},
   "source": [
    "不能使用没有进行过赋值的变量\n",
    "如果使用没有赋值过的变量，会报错 NameError: name 'b' is not defined"
   ]
  },
  {
   "cell_type": "code",
   "execution_count": 9,
   "id": "ed74c072",
   "metadata": {},
   "outputs": [
    {
     "ename": "NameError",
     "evalue": "name 'b' is not defined",
     "output_type": "error",
     "traceback": [
      "\u001b[0;31m---------------------------------------------------------------------------\u001b[0m",
      "\u001b[0;31mNameError\u001b[0m                                 Traceback (most recent call last)",
      "Cell \u001b[0;32mIn[9], line 1\u001b[0m\n\u001b[0;32m----> 1\u001b[0m b\n\u001b[1;32m      2\u001b[0m \u001b[38;5;28mprint\u001b[39m(b)\n",
      "\u001b[0;31mNameError\u001b[0m: name 'b' is not defined"
     ]
    }
   ],
   "source": [
    "b\n",
    "print(b)   "
   ]
  },
  {
   "cell_type": "markdown",
   "id": "2ad7ec98",
   "metadata": {},
   "source": [
    "Python是一个动态类型的语言，可以为变量赋任意类型的值，也可以任意修改变量的值"
   ]
  },
  {
   "cell_type": "code",
   "execution_count": 10,
   "id": "6154b9b9",
   "metadata": {},
   "outputs": [
    {
     "name": "stdout",
     "output_type": "stream",
     "text": [
      "hello\n"
     ]
    }
   ],
   "source": [
    "a = \"hello\"\n",
    "\n",
    "print(a)"
   ]
  },
  {
   "cell_type": "markdown",
   "id": "49508c71",
   "metadata": {},
   "source": [
    "标识符\n",
    "在Python中所有可以自主命名的内容都属于标识符\n",
    "    比如: 变量名，函数名，类名\n",
    "        标识符必须遵循标识符的规范\n",
    "        1，标识符中可以含有字母、数字、_，但是不能使用数字开头\n",
    "            例子: a_1   _a1     _1a\n",
    "        2，标识符不能是python中关键字和保留字，也不建议使用Python中的函数名作为标识符,因为这样会导致函数被覆盖\n",
    "        3，命名规范:\n",
    "        在Python中注意遵循两种命名规范:\n",
    "            下划线命名法:\n",
    "            所有字母小写，单词之间使用_分割(推荐)\n",
    "                max_length  min_length  hello_world  xxx_yyy_zzz\n",
    "            帕斯卡命名法（大驼峰命名法）写类名时用大驼峰命名法\n",
    "                MaxLength   MinLength   HelloWorld  XxxYyyZzz\n",
    "         如果使用不符合标准的标识符，将会报错 SyntaxError: invalid syntax\n",
    "\n",
    "字面量和变量\n",
    "    字面量就是一个一个的值，比如:1,2,3,4,\"hello\"\n",
    "变量（variable）变量可以用来保存字面量，并且变量中保存的字面量是不定的"
   ]
  }
 ],
 "metadata": {
  "kernelspec": {
   "display_name": "Python 3 (ipykernel)",
   "language": "python",
   "name": "python3"
  },
  "language_info": {
   "codemirror_mode": {
    "name": "ipython",
    "version": 3
   },
   "file_extension": ".py",
   "mimetype": "text/x-python",
   "name": "python",
   "nbconvert_exporter": "python",
   "pygments_lexer": "ipython3",
   "version": "3.11.5"
  }
 },
 "nbformat": 4,
 "nbformat_minor": 5
}
