{
 "cells": [
  {
   "cell_type": "markdown",
   "id": "081e24b8",
   "metadata": {},
   "source": [
    "字符串用来表示一段文本信息，字符串是程序中使用的最多的数据类型，在Python中字符串中需要使用引号引起来"
   ]
  },
  {
   "cell_type": "code",
   "execution_count": 1,
   "id": "c1a96127",
   "metadata": {},
   "outputs": [],
   "source": [
    "s = 'hello'\n",
    "# s = abc 字符串必须使用引号引起来\n",
    "# 引号可以是双引号，也可以是单引号，但是注意不要混着用\n",
    "s = \"world\""
   ]
  },
  {
   "cell_type": "markdown",
   "id": "a6007de1",
   "metadata": {},
   "source": [
    "长字符串\n",
    "单引号和双引号不能跨行"
   ]
  },
  {
   "cell_type": "code",
   "execution_count": 2,
   "id": "26ebf8d7",
   "metadata": {},
   "outputs": [
    {
     "name": "stdout",
     "output_type": "stream",
     "text": [
      "床前明月光，\n",
      "疑似地上霜；\n",
      "举头望明月，\n",
      "低头思故乡。\n",
      "\n"
     ]
    }
   ],
   "source": [
    "s = '''床前明月光，\n",
    "疑似地上霜；\n",
    "举头望明月，\n",
    "低头思故乡。\n",
    "'''\n",
    "\n",
    "print(s)"
   ]
  },
  {
   "cell_type": "markdown",
   "id": "12d3e857",
   "metadata": {},
   "source": [
    "转义字符\n",
    "可以使用反斜框 ，作为转义字符，通过转义字符，可以在字符串中使用一些特殊的内容\n",
    "例子:\n",
    "＼· 表示·\n",
    "＼\" 表示\"\n",
    "＼t 表示换行符\n",
    "＼＼ 表示反斜杠\n",
    "＼uxxxx 表示Unicode编码"
   ]
  },
  {
   "cell_type": "code",
   "execution_count": 3,
   "id": "2986458e",
   "metadata": {},
   "outputs": [
    {
     "name": "stdout",
     "output_type": "stream",
     "text": [
      "ᚡ\n"
     ]
    }
   ],
   "source": [
    "s = '\\u16a1'\n",
    "print(s)"
   ]
  },
  {
   "cell_type": "markdown",
   "id": "6c113418",
   "metadata": {},
   "source": [
    "字符串之间也可以进行加法运算\n",
    "如果将两个字符串进行相加，则会自动将两个字符串拼接为一个"
   ]
  },
  {
   "cell_type": "code",
   "execution_count": 4,
   "id": "8bdb1956",
   "metadata": {},
   "outputs": [
    {
     "name": "stdout",
     "output_type": "stream",
     "text": [
      "hello world\n"
     ]
    }
   ],
   "source": [
    "a = 'hello' + ' world'\n",
    "print(a)"
   ]
  },
  {
   "cell_type": "code",
   "execution_count": 5,
   "id": "81fc0417",
   "metadata": {},
   "outputs": [
    {
     "name": "stdout",
     "output_type": "stream",
     "text": [
      "a = hello world\n",
      "a =  123\n"
     ]
    }
   ],
   "source": [
    "# 字符串不能和其他的类型进行加法运算，\n",
    "print(\"a = \" + a) # 这种写法在python中不常见\n",
    "b = 123\n",
    "print('a = ',b)"
   ]
  },
  {
   "cell_type": "code",
   "execution_count": 6,
   "id": "7be06ca0",
   "metadata": {},
   "outputs": [
    {
     "name": "stdout",
     "output_type": "stream",
     "text": [
      "Hello python\n"
     ]
    }
   ],
   "source": [
    "# 在创建字符串时，可以在字符串中指定占位符\n",
    "# %s 在字符串中表示任意字符\n",
    "# %f 浮点数占位符\n",
    "# %d 整数占位符\n",
    "c = 'Hello %s'%'python'\n",
    "print(c)"
   ]
  },
  {
   "cell_type": "code",
   "execution_count": 7,
   "id": "95113c0c",
   "metadata": {},
   "outputs": [
    {
     "name": "stdout",
     "output_type": "stream",
     "text": [
      "hello abcde\n"
     ]
    }
   ],
   "source": [
    "d = 'hello %2.5s'%'abcdefg' #%3.5s字符串的长度限制在3～5之间\n",
    "print(d)"
   ]
  },
  {
   "cell_type": "code",
   "execution_count": 8,
   "id": "c7c6742d",
   "metadata": {},
   "outputs": [
    {
     "name": "stdout",
     "output_type": "stream",
     "text": [
      "hello hello world 123\n"
     ]
    }
   ],
   "source": [
    "# 格式化字符串(在Python3之后)，可以通过在字符串前添加一个f来创建一个格式化字符串\n",
    "# 在格式化字符串中可以直接嵌入变量\n",
    "c = f'hello {a} {b}'\n",
    "print(c)"
   ]
  },
  {
   "cell_type": "code",
   "execution_count": 9,
   "id": "bcbb801f",
   "metadata": {},
   "outputs": [
    {
     "name": "stdout",
     "output_type": "stream",
     "text": [
      "当前的值为 789\n"
     ]
    }
   ],
   "source": [
    "d = 789\n",
    "print(f'当前的值为 {d}')"
   ]
  },
  {
   "cell_type": "code",
   "execution_count": 10,
   "id": "21075fce",
   "metadata": {},
   "outputs": [
    {
     "name": "stdout",
     "output_type": "stream",
     "text": [
      "欢迎 Leon 光临！\n",
      "欢迎 Leon 光临！\n",
      "欢迎 Leon 光临！\n",
      "欢迎 Leon 光临！\n"
     ]
    }
   ],
   "source": [
    "# 创建一个变量来保存你的名字\n",
    "name = 'Leon'\n",
    "\n",
    "# 使用四种方式来输出， 欢迎 xxx 光临\n",
    "# 拼串\n",
    "print('欢迎 ' + name + ' 光临！')\n",
    "# 多个参数\n",
    "print('欢迎',name,'光临！')\n",
    "# 占位符\n",
    "print('欢迎 %s 光临！'%name)\n",
    "# 格式化字符串\n",
    "print(f'欢迎 {name} 光临！')"
   ]
  },
  {
   "cell_type": "markdown",
   "id": "dc6711c1",
   "metadata": {},
   "source": [
    "字符串的复制（将字符串和数字相乘）"
   ]
  },
  {
   "cell_type": "code",
   "execution_count": 11,
   "id": "865e80af",
   "metadata": {
    "scrolled": true
   },
   "outputs": [
    {
     "name": "stdout",
     "output_type": "stream",
     "text": [
      "abcabcabcabcabcabcabcabcabcabcabcabcabcabcabcabcabcabcabcabc\n"
     ]
    }
   ],
   "source": [
    "a = 'abc'\n",
    "# * 在语言中表示乘法\n",
    "# 如果将字符串和数字相乘，则解释器会将字符串重复指定的次数并返回\n",
    "a = a * 20\n",
    "print(a)"
   ]
  }
 ],
 "metadata": {
  "kernelspec": {
   "display_name": "Python 3 (ipykernel)",
   "language": "python",
   "name": "python3"
  },
  "language_info": {
   "codemirror_mode": {
    "name": "ipython",
    "version": 3
   },
   "file_extension": ".py",
   "mimetype": "text/x-python",
   "name": "python",
   "nbconvert_exporter": "python",
   "pygments_lexer": "ipython3",
   "version": "3.11.5"
  }
 },
 "nbformat": 4,
 "nbformat_minor": 5
}
