{
 "cells": [
  {
   "cell_type": "markdown",
   "id": "a8c497ef",
   "metadata": {},
   "source": [
    "算术运算符\n",
    "  +加法运算符（如果是两个字符之间进行加法运算，则会进行拼串操作）\n",
    "  -减法运算符\n",
    " *乘法运算符（如果将字符串和数字相乘，则会对字符串进行复制操作，将字符串重复指定次数）\n",
    "  除法运算符，运算时结果总会返回一个浮点类型\n",
    " 带除，只会保留计算后的整数位（对浮点数做运算时，结果会返回一个浮点数）"
   ]
  },
  {
   "cell_type": "code",
   "execution_count": 1,
   "id": "d8ab4d0a",
   "metadata": {},
   "outputs": [
    {
     "name": "stdout",
     "output_type": "stream",
     "text": [
      "b = 2\n",
      "d = 2.0\n",
      "f = 2.0\n"
     ]
    }
   ],
   "source": [
    "a = 5\n",
    "b = 5 // 2\n",
    "print(f\"b = {b}\")\n",
    "c = 5.0\n",
    "d = c // 2\n",
    "print(f\"d = {d}\")\n",
    "e = 5\n",
    "f = e // 2.0\n",
    "print(f\"f = {f}\")"
   ]
  },
  {
   "cell_type": "markdown",
   "id": "16dfeb8e",
   "metadata": {},
   "source": [
    "赋值运算符\n",
    "= 可以将等号右侧的值给等号左侧的变量\n",
    "\n",
    "### +=    a += 5 相当于 a = a+5\n",
    "### -=      a -= 5 相当于 a = a-5\n",
    "### *=      a *= 5 相当于 a = a*5\n",
    "### **=     a **= 5 相当于 a = a ** 5 (a的5次幂)\n",
    "### /=      a /= 5 相当于 a = a/5\n",
    "### //=     a //= 5 相当于 a = a//5\n",
    "### %=     a %= 5 相当于 a = a%5"
   ]
  },
  {
   "cell_type": "markdown",
   "id": "550edeb1",
   "metadata": {},
   "source": [
    "#### 关系运算符\n",
    "#### 关系运算符用来比较两个值之间的关系，总会返回一个布尔值\n",
    "#### 如果关系成立，返回True，否则返回False\n",
    "#### > 比较左侧值是否大于右侧值\n",
    "#### >= 比较左侧值是否大于或等于右侧值\n",
    "#### < 比较左侧值是否小于右侧值\n",
    "#### <= 比较左侧值是否小于或等于右侧值"
   ]
  },
  {
   "cell_type": "markdown",
   "id": "2d4e43be",
   "metadata": {},
   "source": [
    "####   == 比较两个对象的值是否相等\n",
    "####  ！= 比较两个对象的值是否不相等\n",
    "####   注意: 相等和不等比较的是对象的值，而不是id\n",
    "####   is 比较两个对象是否是同一个对象，比较的是对象的id\n",
    "####   is not 比较两个对象是否不是同一个对象，比较的是对象的id"
   ]
  },
  {
   "cell_type": "code",
   "execution_count": 2,
   "id": "f82ef96d",
   "metadata": {},
   "outputs": [
    {
     "name": "stdout",
     "output_type": "stream",
     "text": [
      "True\n"
     ]
    }
   ],
   "source": [
    "# 在python中可以对两个字符串进行大于（等于）或小于（等于）的运算\n",
    "# 当字符串进行比较时，实际上比较的是字符串的uniCode编码\n",
    "# 比较两个字符串的uniCode编码时，是逐位比较\n",
    "# 利用该特性可以对字符串按照字母顺序进行排序，但对中文意义不大\n",
    "result = 'a' > 'b'  # False\n",
    "result = 'c' < 'd'  # True\n",
    "result = 'ab' > 'b'  # False\n",
    "\n",
    "a1 = \"a\"\n",
    "a2 = str(\"a\")\n",
    "print(a1 == a2)"
   ]
  },
  {
   "cell_type": "code",
   "execution_count": null,
   "id": "2c1486fc",
   "metadata": {},
   "outputs": [],
   "source": []
  }
 ],
 "metadata": {
  "kernelspec": {
   "display_name": "Python 3 (ipykernel)",
   "language": "python",
   "name": "python3"
  },
  "language_info": {
   "codemirror_mode": {
    "name": "ipython",
    "version": 3
   },
   "file_extension": ".py",
   "mimetype": "text/x-python",
   "name": "python",
   "nbconvert_exporter": "python",
   "pygments_lexer": "ipython3",
   "version": "3.11.5"
  }
 },
 "nbformat": 4,
 "nbformat_minor": 5
}
