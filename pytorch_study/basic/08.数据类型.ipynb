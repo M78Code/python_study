{
 "cells": [
  {
   "cell_type": "markdown",
   "id": "714ce10f",
   "metadata": {},
   "source": [
    "按功能划分\n",
    "    基本类型: 数字、字符串\n",
    "    容器类型: 列表、元组、字典、集合、自定义类型\n",
    "按性质划分\n",
    "    不可变类型: 数字、字符串、元组、不可变集合\n",
    "      可变类型: 列表、字典、集合、自定义类型\n",
    "      \n",
    "\n",
    "数字\n",
    "   整数: 134283\n",
    "   浮点数: 1.3、.5\n",
    "   复数: 1+ 2j\n",
    "   布尔值: True、False\n",
    "\n",
    "特殊进制\n",
    "    二进制\n",
    "    八进制\n",
    "    十六进制\n",
    "    \n",
    "    \n",
    "整数:"
   ]
  },
  {
   "cell_type": "code",
   "execution_count": 1,
   "id": "87b8d5c1",
   "metadata": {},
   "outputs": [
    {
     "data": {
      "text/plain": [
       "312418190"
      ]
     },
     "execution_count": 1,
     "metadata": {},
     "output_type": "execute_result"
    }
   ],
   "source": [
    "312418190"
   ]
  },
  {
   "cell_type": "code",
   "execution_count": 2,
   "id": "df9c3bca",
   "metadata": {},
   "outputs": [
    {
     "data": {
      "text/plain": [
       "31891917951771975197941879871497419"
      ]
     },
     "execution_count": 2,
     "metadata": {},
     "output_type": "execute_result"
    }
   ],
   "source": [
    "31891917951771975197941879871497419"
   ]
  },
  {
   "cell_type": "markdown",
   "id": "21bd21c1",
   "metadata": {},
   "source": [
    "浮点数:"
   ]
  },
  {
   "cell_type": "code",
   "execution_count": 3,
   "id": "ae834275",
   "metadata": {},
   "outputs": [
    {
     "data": {
      "text/plain": [
       "3.2"
      ]
     },
     "execution_count": 3,
     "metadata": {},
     "output_type": "execute_result"
    }
   ],
   "source": [
    "3.2"
   ]
  },
  {
   "cell_type": "code",
   "execution_count": 4,
   "id": "970a426b",
   "metadata": {},
   "outputs": [
    {
     "data": {
      "text/plain": [
       "float"
      ]
     },
     "execution_count": 4,
     "metadata": {},
     "output_type": "execute_result"
    }
   ],
   "source": [
    "type(3.2)"
   ]
  },
  {
   "cell_type": "code",
   "execution_count": 5,
   "id": "f9deb3a3",
   "metadata": {},
   "outputs": [
    {
     "data": {
      "text/plain": [
       "5.0"
      ]
     },
     "execution_count": 5,
     "metadata": {},
     "output_type": "execute_result"
    }
   ],
   "source": [
    "5."
   ]
  },
  {
   "cell_type": "code",
   "execution_count": 6,
   "id": "9aa90330",
   "metadata": {},
   "outputs": [
    {
     "data": {
      "text/plain": [
       "0.4"
      ]
     },
     "execution_count": 6,
     "metadata": {},
     "output_type": "execute_result"
    }
   ],
   "source": [
    ".4"
   ]
  },
  {
   "cell_type": "code",
   "execution_count": 7,
   "id": "6f61136c",
   "metadata": {},
   "outputs": [
    {
     "data": {
      "text/plain": [
       "0.19999999999999973"
      ]
     },
     "execution_count": 7,
     "metadata": {},
     "output_type": "execute_result"
    }
   ],
   "source": [
    "3.4-3.2"
   ]
  },
  {
   "cell_type": "markdown",
   "id": "2a26e785",
   "metadata": {},
   "source": [
    "复数:"
   ]
  },
  {
   "cell_type": "code",
   "execution_count": 8,
   "id": "0ac23422",
   "metadata": {},
   "outputs": [],
   "source": [
    "a = 1+2j"
   ]
  },
  {
   "cell_type": "code",
   "execution_count": 9,
   "id": "76c2a404",
   "metadata": {},
   "outputs": [
    {
     "data": {
      "text/plain": [
       "complex"
      ]
     },
     "execution_count": 9,
     "metadata": {},
     "output_type": "execute_result"
    }
   ],
   "source": [
    "type(a)  # 复数的实部"
   ]
  },
  {
   "cell_type": "code",
   "execution_count": 10,
   "id": "a65d111a",
   "metadata": {},
   "outputs": [
    {
     "data": {
      "text/plain": [
       "1.0"
      ]
     },
     "execution_count": 10,
     "metadata": {},
     "output_type": "execute_result"
    }
   ],
   "source": [
    "a.real  # 复数的虚部"
   ]
  },
  {
   "cell_type": "code",
   "execution_count": 11,
   "id": "1005dcdb",
   "metadata": {},
   "outputs": [
    {
     "data": {
      "text/plain": [
       "2.0"
      ]
     },
     "execution_count": 11,
     "metadata": {},
     "output_type": "execute_result"
    }
   ],
   "source": [
    "a.imag  # 复数的虚部"
   ]
  },
  {
   "cell_type": "code",
   "execution_count": 12,
   "id": "05912114",
   "metadata": {},
   "outputs": [
    {
     "data": {
      "text/plain": [
       "(1-2j)"
      ]
     },
     "execution_count": 12,
     "metadata": {},
     "output_type": "execute_result"
    }
   ],
   "source": [
    "a.conjugate() # 复数的共轭"
   ]
  },
  {
   "cell_type": "markdown",
   "id": "6fb6c8f5",
   "metadata": {},
   "source": [
    "0b开头表示二进制"
   ]
  },
  {
   "cell_type": "code",
   "execution_count": 13,
   "id": "d2ca43f0",
   "metadata": {},
   "outputs": [
    {
     "data": {
      "text/plain": [
       "2"
      ]
     },
     "execution_count": 13,
     "metadata": {},
     "output_type": "execute_result"
    }
   ],
   "source": [
    "0b10"
   ]
  },
  {
   "cell_type": "markdown",
   "id": "9d07b3ea",
   "metadata": {},
   "source": [
    "0o开头表示八进制"
   ]
  },
  {
   "cell_type": "code",
   "execution_count": 14,
   "id": "c76810e1",
   "metadata": {},
   "outputs": [
    {
     "data": {
      "text/plain": [
       "8"
      ]
     },
     "execution_count": 14,
     "metadata": {},
     "output_type": "execute_result"
    }
   ],
   "source": [
    "0o10"
   ]
  },
  {
   "cell_type": "markdown",
   "id": "b0dff476",
   "metadata": {},
   "source": [
    "0x开头表示十六进制"
   ]
  },
  {
   "cell_type": "code",
   "execution_count": 15,
   "id": "cb895c35",
   "metadata": {},
   "outputs": [
    {
     "data": {
      "text/plain": [
       "16"
      ]
     },
     "execution_count": 15,
     "metadata": {},
     "output_type": "execute_result"
    }
   ],
   "source": [
    "0x10"
   ]
  },
  {
   "cell_type": "markdown",
   "id": "529d96ef",
   "metadata": {},
   "source": [
    "科学表示法\n",
    "eg: 1.2e4"
   ]
  },
  {
   "cell_type": "code",
   "execution_count": 1,
   "id": "2cd8d72b",
   "metadata": {},
   "outputs": [
    {
     "data": {
      "text/plain": [
       "12000.0"
      ]
     },
     "execution_count": 1,
     "metadata": {},
     "output_type": "execute_result"
    }
   ],
   "source": [
    "1.2e4"
   ]
  },
  {
   "cell_type": "markdown",
   "id": "9ccdddba",
   "metadata": {},
   "source": [
    "字符串类型\n",
    "Unicode类型\n",
    "字符串的生成"
   ]
  },
  {
   "cell_type": "markdown",
   "id": "4c60660b",
   "metadata": {},
   "source": [
    "类型转换\n",
    "  所谓的类型转换，将一个类型的对象转换为其他对象\n",
    "  类型转换四个函数int() float() str() bool()\n",
    "  int()可以用来将其他的对象转换为整型\n",
    "  \n",
    "规则\n",
    " 布尔值: True -> 1   False -> 0\n",
    " 浮点数: 直接取整，省略小数点后的内容\n",
    " 字符串: 合法的整数字符串，直接转换为对应的数字，不合法报错ValueError: invalid ...\n",
    " float() 和 int()基本一致，不同的是它会将对象转换为浮点数\n",
    " str()可以将对象转换为字符串\n",
    "\n",
    " bool()可以将对象转换为布尔值，任何对象都可以转换为布尔值\n",
    " 规则:对于所有表示空性的对象都会转换为False，其余的转换为True\n",
    " 哪些表示的空性: 0, None, '' ..."
   ]
  },
  {
   "cell_type": "code",
   "execution_count": 2,
   "id": "24cec06c",
   "metadata": {},
   "outputs": [
    {
     "name": "stdout",
     "output_type": "stream",
     "text": [
      "初始值a = True\n",
      "调用int函数后的a = 1\n",
      "id值 = 4342202008\n",
      "x的值为 <built-in method encode of str object at 0x102d0be98>\n"
     ]
    }
   ],
   "source": [
    "a = True\n",
    "print(f\"初始值a = {a}\")\n",
    "# 调用int()函数来将a转换为整型\n",
    "a = int(a)\n",
    "print(f\"调用int函数后的a = {a}\")\n",
    "\n",
    "x = \"a\"\n",
    "print(f\"id值 = {id(x)}\")\n",
    "x = x.encode\n",
    "print(f\"x的值为 {x}\")"
   ]
  }
 ],
 "metadata": {
  "kernelspec": {
   "display_name": "Python 3 (ipykernel)",
   "language": "python",
   "name": "python3"
  },
  "language_info": {
   "codemirror_mode": {
    "name": "ipython",
    "version": 3
   },
   "file_extension": ".py",
   "mimetype": "text/x-python",
   "name": "python",
   "nbconvert_exporter": "python",
   "pygments_lexer": "ipython3",
   "version": "3.11.5"
  }
 },
 "nbformat": 4,
 "nbformat_minor": 5
}
