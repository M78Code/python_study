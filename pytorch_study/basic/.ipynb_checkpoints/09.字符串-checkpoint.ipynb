{
 "cells": [
  {
   "cell_type": "markdown",
   "id": "41df479b",
   "metadata": {},
   "source": [
    " 字符串\n",
    " \"i’m a student.\""
   ]
  },
  {
   "cell_type": "code",
   "execution_count": 1,
   "id": "fd17bdde",
   "metadata": {},
   "outputs": [
    {
     "data": {
      "text/plain": [
       "'i’m a student.'"
      ]
     },
     "execution_count": 1,
     "metadata": {},
     "output_type": "execute_result"
    }
   ],
   "source": [
    "\"i’m a student.\""
   ]
  },
  {
   "cell_type": "markdown",
   "id": "2a61c41b",
   "metadata": {},
   "source": [
    "字符串的方法:"
   ]
  },
  {
   "cell_type": "code",
   "execution_count": 2,
   "id": "b46baaeb",
   "metadata": {},
   "outputs": [],
   "source": [
    "line = \"1 2 3            4        5\""
   ]
  },
  {
   "cell_type": "code",
   "execution_count": 3,
   "id": "638287b6",
   "metadata": {},
   "outputs": [
    {
     "data": {
      "text/plain": [
       "'1 2 3            4        5'"
      ]
     },
     "execution_count": 3,
     "metadata": {},
     "output_type": "execute_result"
    }
   ],
   "source": [
    "line"
   ]
  },
  {
   "cell_type": "code",
   "execution_count": 4,
   "id": "e019eea2",
   "metadata": {},
   "outputs": [
    {
     "data": {
      "text/plain": [
       "['1', '2', '3', '4', '5']"
      ]
     },
     "execution_count": 4,
     "metadata": {},
     "output_type": "execute_result"
    }
   ],
   "source": [
    "line.split()"
   ]
  },
  {
   "cell_type": "code",
   "execution_count": 6,
   "id": "3ae17abb",
   "metadata": {},
   "outputs": [
    {
     "data": {
      "text/plain": [
       "['1', '2', '3', '4', '5']"
      ]
     },
     "execution_count": 6,
     "metadata": {},
     "output_type": "execute_result"
    }
   ],
   "source": [
    "line = \"1,2,3,4,5\"\n",
    "line.split(\",\")"
   ]
  },
  {
   "cell_type": "code",
   "execution_count": 7,
   "id": "a4f4eae1",
   "metadata": {},
   "outputs": [
    {
     "data": {
      "text/plain": [
       "['1', '2', '3,4,5']"
      ]
     },
     "execution_count": 7,
     "metadata": {},
     "output_type": "execute_result"
    }
   ],
   "source": [
    "line.split(\",\",2)"
   ]
  },
  {
   "cell_type": "code",
   "execution_count": 8,
   "id": "00255c32",
   "metadata": {},
   "outputs": [
    {
     "data": {
      "text/plain": [
       "['1,2,3', '4', '5']"
      ]
     },
     "execution_count": 8,
     "metadata": {},
     "output_type": "execute_result"
    }
   ],
   "source": [
    "line.rsplit(\",\",2)"
   ]
  },
  {
   "cell_type": "code",
   "execution_count": 9,
   "id": "fcf2c82f",
   "metadata": {},
   "outputs": [
    {
     "data": {
      "text/plain": [
       "'1.2.3.4.5'"
      ]
     },
     "execution_count": 9,
     "metadata": {},
     "output_type": "execute_result"
    }
   ],
   "source": [
    "numbers = [\"1\",\"2\",\"3\",\"4\",\"5\"]\n",
    "\".\".join(numbers)"
   ]
  },
  {
   "cell_type": "code",
   "execution_count": 10,
   "id": "fcf277d4",
   "metadata": {},
   "outputs": [
    {
     "data": {
      "text/plain": [
       "'1:2:3:4:5'"
      ]
     },
     "execution_count": 10,
     "metadata": {},
     "output_type": "execute_result"
    }
   ],
   "source": [
    "\":\".join(numbers)"
   ]
  },
  {
   "cell_type": "code",
   "execution_count": 11,
   "id": "05b25835",
   "metadata": {},
   "outputs": [
    {
     "data": {
      "text/plain": [
       "'hello python!'"
      ]
     },
     "execution_count": 11,
     "metadata": {},
     "output_type": "execute_result"
    }
   ],
   "source": [
    "s = \"hello world!\"\n",
    "s.replace(\"world\", \"python\")"
   ]
  },
  {
   "cell_type": "code",
   "execution_count": 12,
   "id": "8ca4b22a",
   "metadata": {},
   "outputs": [
    {
     "data": {
      "text/plain": [
       "'hello world!'"
      ]
     },
     "execution_count": 12,
     "metadata": {},
     "output_type": "execute_result"
    }
   ],
   "source": [
    "s"
   ]
  },
  {
   "cell_type": "code",
   "execution_count": 13,
   "id": "3646882f",
   "metadata": {},
   "outputs": [],
   "source": [
    "s = \"hello world!\"\n",
    "s1 = s.replace(\"world\",\"python\")"
   ]
  },
  {
   "cell_type": "code",
   "execution_count": 14,
   "id": "90b0b906",
   "metadata": {},
   "outputs": [
    {
     "data": {
      "text/plain": [
       "'hello python!'"
      ]
     },
     "execution_count": 14,
     "metadata": {},
     "output_type": "execute_result"
    }
   ],
   "source": [
    "s1"
   ]
  },
  {
   "cell_type": "code",
   "execution_count": 17,
   "id": "42fa1d00",
   "metadata": {},
   "outputs": [
    {
     "data": {
      "text/plain": [
       "'hello world.'"
      ]
     },
     "execution_count": 17,
     "metadata": {},
     "output_type": "execute_result"
    }
   ],
   "source": [
    "s = \"       hello world.        \"\n",
    "s.strip() # 相当于Java中的trim()方法"
   ]
  },
  {
   "cell_type": "code",
   "execution_count": 18,
   "id": "9d767267",
   "metadata": {},
   "outputs": [
    {
     "data": {
      "text/plain": [
       "'hello world.        '"
      ]
     },
     "execution_count": 18,
     "metadata": {},
     "output_type": "execute_result"
    }
   ],
   "source": [
    "s.lstrip() #去掉左边的空格"
   ]
  },
  {
   "cell_type": "code",
   "execution_count": 19,
   "id": "c7f2cebb",
   "metadata": {},
   "outputs": [
    {
     "data": {
      "text/plain": [
       "'       hello world.'"
      ]
     },
     "execution_count": 19,
     "metadata": {},
     "output_type": "execute_result"
    }
   ],
   "source": [
    "s.rstrip() #去掉右边的空格"
   ]
  },
  {
   "cell_type": "markdown",
   "id": "756b91ce",
   "metadata": {},
   "source": [
    "数字转字符串"
   ]
  },
  {
   "cell_type": "code",
   "execution_count": 21,
   "id": "be9238f0",
   "metadata": {},
   "outputs": [
    {
     "data": {
      "text/plain": [
       "'3.2'"
      ]
     },
     "execution_count": 21,
     "metadata": {},
     "output_type": "execute_result"
    }
   ],
   "source": [
    "str(3.2) # 数字转字符串"
   ]
  },
  {
   "cell_type": "code",
   "execution_count": 23,
   "id": "8543aa8d",
   "metadata": {},
   "outputs": [
    {
     "data": {
      "text/plain": [
       "'0b10'"
      ]
     },
     "execution_count": 23,
     "metadata": {},
     "output_type": "execute_result"
    }
   ],
   "source": [
    "bin(2) # 十进制转二进制"
   ]
  },
  {
   "cell_type": "code",
   "execution_count": 25,
   "id": "ee053172",
   "metadata": {},
   "outputs": [
    {
     "data": {
      "text/plain": [
       "'0o10'"
      ]
     },
     "execution_count": 25,
     "metadata": {},
     "output_type": "execute_result"
    }
   ],
   "source": [
    "oct(8) # 十进制转八进制"
   ]
  },
  {
   "cell_type": "code",
   "execution_count": 26,
   "id": "ce14874f",
   "metadata": {},
   "outputs": [
    {
     "data": {
      "text/plain": [
       "'0x10'"
      ]
     },
     "execution_count": 26,
     "metadata": {},
     "output_type": "execute_result"
    }
   ],
   "source": [
    "hex(16) # 十进制转十六进制"
   ]
  },
  {
   "cell_type": "markdown",
   "id": "cd07026c",
   "metadata": {},
   "source": [
    "数值型字符串转数字"
   ]
  },
  {
   "cell_type": "code",
   "execution_count": 27,
   "id": "d64bb246",
   "metadata": {},
   "outputs": [
    {
     "data": {
      "text/plain": [
       "11"
      ]
     },
     "execution_count": 27,
     "metadata": {},
     "output_type": "execute_result"
    }
   ],
   "source": [
    "int(\"11\")"
   ]
  },
  {
   "cell_type": "code",
   "execution_count": 28,
   "id": "6ca6e136",
   "metadata": {},
   "outputs": [
    {
     "data": {
      "text/plain": [
       "'0b10'"
      ]
     },
     "execution_count": 28,
     "metadata": {},
     "output_type": "execute_result"
    }
   ],
   "source": [
    "bin(0b10)"
   ]
  },
  {
   "cell_type": "code",
   "execution_count": 29,
   "id": "b642d663",
   "metadata": {},
   "outputs": [
    {
     "ename": "TypeError",
     "evalue": "'str' object cannot be interpreted as an integer",
     "output_type": "error",
     "traceback": [
      "\u001b[0;31m---------------------------------------------------------------------------\u001b[0m",
      "\u001b[0;31mTypeError\u001b[0m                                 Traceback (most recent call last)",
      "Cell \u001b[0;32mIn[29], line 1\u001b[0m\n\u001b[0;32m----> 1\u001b[0m \u001b[38;5;28mbin\u001b[39m(\u001b[38;5;124m\"\u001b[39m\u001b[38;5;124m0b10\u001b[39m\u001b[38;5;124m\"\u001b[39m)\n",
      "\u001b[0;31mTypeError\u001b[0m: 'str' object cannot be interpreted as an integer"
     ]
    }
   ],
   "source": []
  },
  {
   "cell_type": "code",
   "execution_count": null,
   "id": "5e030bf3",
   "metadata": {},
   "outputs": [],
   "source": []
  }
 ],
 "metadata": {
  "kernelspec": {
   "display_name": "Python 3 (ipykernel)",
   "language": "python",
   "name": "python3"
  },
  "language_info": {
   "codemirror_mode": {
    "name": "ipython",
    "version": 3
   },
   "file_extension": ".py",
   "mimetype": "text/x-python",
   "name": "python",
   "nbconvert_exporter": "python",
   "pygments_lexer": "ipython3",
   "version": "3.11.5"
  }
 },
 "nbformat": 4,
 "nbformat_minor": 5
}
