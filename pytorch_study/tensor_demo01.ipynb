{
 "cells": [
  {
   "cell_type": "code",
   "execution_count": 1,
   "id": "b72a0ce6-fb87-4b2e-a9ba-f51d888875e3",
   "metadata": {},
   "outputs": [
    {
     "name": "stdout",
     "output_type": "stream",
     "text": [
      "Package                   Version\n",
      "------------------------- --------------\n",
      "anyio                     4.3.0\n",
      "argon2-cffi               23.1.0\n",
      "argon2-cffi-bindings      21.2.0\n",
      "arrow                     1.3.0\n",
      "asttokens                 2.4.1\n",
      "async-lru                 2.0.4\n",
      "attrs                     23.2.0\n",
      "Babel                     2.15.0\n",
      "backcall                  0.2.0\n",
      "beautifulsoup4            4.12.3\n",
      "bleach                    6.1.0\n",
      "certifi                   2024.2.2\n",
      "cffi                      1.16.0\n",
      "charset-normalizer        3.3.2\n",
      "comm                      0.2.2\n",
      "contourpy                 1.1.1\n",
      "cycler                    0.12.1\n",
      "debugpy                   1.8.1\n",
      "decorator                 5.1.1\n",
      "defusedxml                0.7.1\n",
      "exceptiongroup            1.2.1\n",
      "executing                 2.0.1\n",
      "fastjsonschema            2.19.1\n",
      "filelock                  3.9.0\n",
      "fonttools                 4.51.0\n",
      "fqdn                      1.5.1\n",
      "fsspec                    2023.4.0\n",
      "h11                       0.14.0\n",
      "httpcore                  1.0.5\n",
      "httpx                     0.27.0\n",
      "idna                      3.7\n",
      "importlib_metadata        7.1.0\n",
      "importlib_resources       6.4.0\n",
      "ipykernel                 6.29.4\n",
      "ipython                   8.12.3\n",
      "ipywidgets                8.1.2\n",
      "isoduration               20.11.0\n",
      "jedi                      0.19.1\n",
      "Jinja2                    3.1.2\n",
      "json5                     0.9.25\n",
      "jsonpointer               2.4\n",
      "jsonschema                4.22.0\n",
      "jsonschema-specifications 2023.12.1\n",
      "jupyter                   1.0.0\n",
      "jupyter_client            8.6.1\n",
      "jupyter-console           6.6.3\n",
      "jupyter_core              5.7.2\n",
      "jupyter-events            0.10.0\n",
      "jupyter-lsp               2.2.5\n",
      "jupyter_server            2.14.0\n",
      "jupyter_server_terminals  0.5.3\n",
      "jupyterlab                4.2.0\n",
      "jupyterlab_pygments       0.3.0\n",
      "jupyterlab_server         2.27.1\n",
      "jupyterlab_widgets        3.0.10\n",
      "kiwisolver                1.4.5\n",
      "MarkupSafe                2.1.3\n",
      "matplotlib                3.7.5\n",
      "matplotlib-inline         0.1.7\n",
      "mistune                   3.0.2\n",
      "mpmath                    1.3.0\n",
      "nbclient                  0.10.0\n",
      "nbconvert                 7.16.4\n",
      "nbformat                  5.10.4\n",
      "nest-asyncio              1.6.0\n",
      "networkx                  3.0\n",
      "notebook                  7.2.0\n",
      "notebook_shim             0.2.4\n",
      "numpy                     1.24.1\n",
      "nvidia-cublas-cu11        11.11.3.6\n",
      "nvidia-cuda-cupti-cu11    11.8.87\n",
      "nvidia-cuda-nvrtc-cu11    11.8.89\n",
      "nvidia-cuda-runtime-cu11  11.8.89\n",
      "nvidia-cudnn-cu11         8.7.0.84\n",
      "nvidia-cufft-cu11         10.9.0.58\n",
      "nvidia-curand-cu11        10.3.0.86\n",
      "nvidia-cusolver-cu11      11.4.1.48\n",
      "nvidia-cusparse-cu11      11.7.5.86\n",
      "nvidia-nccl-cu11          2.19.3\n",
      "nvidia-nvtx-cu11          11.8.86\n",
      "opencv-python             4.9.0.80\n",
      "overrides                 7.7.0\n",
      "packaging                 24.0\n",
      "pandocfilters             1.5.1\n",
      "parso                     0.8.4\n",
      "pexpect                   4.9.0\n",
      "pickleshare               0.7.5\n",
      "pillow                    10.2.0\n",
      "pip                       23.3.1\n",
      "pkgutil_resolve_name      1.3.10\n",
      "platformdirs              4.2.2\n",
      "prometheus_client         0.20.0\n",
      "prompt-toolkit            3.0.43\n",
      "psutil                    5.9.8\n",
      "ptyprocess                0.7.0\n",
      "pure-eval                 0.2.2\n",
      "pycparser                 2.22\n",
      "Pygments                  2.18.0\n",
      "pyparsing                 3.1.2\n",
      "python-dateutil           2.9.0.post0\n",
      "python-json-logger        2.0.7\n",
      "pytz                      2024.1\n",
      "PyYAML                    6.0.1\n",
      "pyzmq                     26.0.3\n",
      "qtconsole                 5.5.2\n",
      "QtPy                      2.4.1\n",
      "referencing               0.35.1\n",
      "requests                  2.32.1\n",
      "rfc3339-validator         0.1.4\n",
      "rfc3986-validator         0.1.1\n",
      "rpds-py                   0.18.1\n",
      "Send2Trash                1.8.3\n",
      "setuptools                68.2.2\n",
      "six                       1.16.0\n",
      "sniffio                   1.3.1\n",
      "soupsieve                 2.5\n",
      "stack-data                0.6.3\n",
      "sympy                     1.12\n",
      "terminado                 0.18.1\n",
      "tinycss2                  1.3.0\n",
      "tomli                     2.0.1\n",
      "torch                     2.2.2+cu118\n",
      "torchaudio                2.2.2+cu118\n",
      "torchvision               0.17.2+cu118\n",
      "tornado                   6.4\n",
      "traitlets                 5.14.3\n",
      "triton                    2.2.0\n",
      "types-python-dateutil     2.9.0.20240316\n",
      "typing_extensions         4.8.0\n",
      "uri-template              1.3.0\n",
      "urllib3                   2.2.1\n",
      "wcwidth                   0.2.13\n",
      "webcolors                 1.13\n",
      "webencodings              0.5.1\n",
      "websocket-client          1.8.0\n",
      "wheel                     0.41.2\n",
      "widgetsnbextension        4.0.10\n",
      "zipp                      3.18.2\n",
      "Note: you may need to restart the kernel to use updated packages.\n"
     ]
    }
   ],
   "source": [
    "pip list"
   ]
  },
  {
   "cell_type": "code",
   "execution_count": 2,
   "id": "76db588c-f842-4c06-a839-b2eeee76e318",
   "metadata": {},
   "outputs": [
    {
     "name": "stdout",
     "output_type": "stream",
     "text": [
      "# conda environments:\n",
      "#\n",
      "base                     /home/leon/anaconda3\n",
      "bert                     /home/leon/anaconda3/envs/bert\n",
      "pytorch               *  /home/leon/anaconda3/envs/pytorch\n",
      "vgg16                    /home/leon/anaconda3/envs/vgg16\n",
      "\n",
      "\n",
      "Note: you may need to restart the kernel to use updated packages.\n"
     ]
    }
   ],
   "source": [
    "conda env list"
   ]
  },
  {
   "cell_type": "markdown",
   "id": "3275ec1b-92c0-40df-bf96-e4584c7e730f",
   "metadata": {},
   "source": [
    "# Tensors(张量)"
   ]
  },
  {
   "cell_type": "code",
   "execution_count": 3,
   "id": "6a471617-48a2-4e96-8a5c-21dddc15d26d",
   "metadata": {},
   "outputs": [],
   "source": [
    "from __future__ import print_function"
   ]
  },
  {
   "cell_type": "code",
   "execution_count": 63,
   "id": "d03e593a-60a9-404f-9103-078826a135e2",
   "metadata": {},
   "outputs": [],
   "source": [
    "import torch\n",
    "import math"
   ]
  },
  {
   "cell_type": "code",
   "execution_count": 5,
   "id": "53f6fbb6-e210-46a4-9ee7-6b75f1ae2517",
   "metadata": {},
   "outputs": [],
   "source": [
    "x = torch.empty(5,3)"
   ]
  },
  {
   "cell_type": "code",
   "execution_count": 6,
   "id": "1889ef37-ccb9-4c0c-ae5c-78abbc082a4b",
   "metadata": {},
   "outputs": [
    {
     "data": {
      "text/plain": [
       "tensor([[-8.1236e+08,  4.1429e-41, -8.1236e+08],\n",
       "        [ 4.1429e-41,  3.2799e-09,  1.6897e-04],\n",
       "        [ 4.2887e-08,  5.2356e+22,  1.0441e-08],\n",
       "        [ 3.3352e-09,  6.6719e-10,  2.3051e-12],\n",
       "        [ 2.6302e+20,  6.1949e-04,  6.4805e-10]])"
      ]
     },
     "execution_count": 6,
     "metadata": {},
     "output_type": "execute_result"
    }
   ],
   "source": [
    "x"
   ]
  },
  {
   "cell_type": "code",
   "execution_count": 7,
   "id": "bfe3bedd-6131-48d0-a328-b5f4fbe2a3a8",
   "metadata": {},
   "outputs": [
    {
     "name": "stdout",
     "output_type": "stream",
     "text": [
      "tensor([[0.2536, 0.9464, 0.5057],\n",
      "        [0.4637, 0.0490, 0.5848],\n",
      "        [0.6099, 0.8667, 0.4342],\n",
      "        [0.0282, 0.5876, 0.5662],\n",
      "        [0.0521, 0.7250, 0.5266]])\n"
     ]
    }
   ],
   "source": [
    "x = torch.rand(5,3)\n",
    "print(x)"
   ]
  },
  {
   "cell_type": "code",
   "execution_count": 8,
   "id": "0a91b055-611d-4154-98cc-09972e9cb703",
   "metadata": {},
   "outputs": [],
   "source": [
    "x = torch.zeros(5,3,dtype=torch.long)"
   ]
  },
  {
   "cell_type": "code",
   "execution_count": 9,
   "id": "926dc2f7-cca1-4392-b649-47fc9a469702",
   "metadata": {},
   "outputs": [
    {
     "data": {
      "text/plain": [
       "tensor([[0, 0, 0],\n",
       "        [0, 0, 0],\n",
       "        [0, 0, 0],\n",
       "        [0, 0, 0],\n",
       "        [0, 0, 0]])"
      ]
     },
     "execution_count": 9,
     "metadata": {},
     "output_type": "execute_result"
    }
   ],
   "source": [
    "x"
   ]
  },
  {
   "cell_type": "code",
   "execution_count": 10,
   "id": "28be96da-2ed0-4a9f-9c05-5c70cdbaf77a",
   "metadata": {},
   "outputs": [
    {
     "name": "stdout",
     "output_type": "stream",
     "text": [
      "tensor([5.5000, 3.0000])\n"
     ]
    }
   ],
   "source": [
    "x = torch.tensor([5.5,3])\n",
    "print(x)"
   ]
  },
  {
   "cell_type": "code",
   "execution_count": 11,
   "id": "d10fa65d-b1c8-4fff-8bfa-d39f0c239ed5",
   "metadata": {},
   "outputs": [
    {
     "name": "stdout",
     "output_type": "stream",
     "text": [
      "tensor([[1., 1., 1.],\n",
      "        [1., 1., 1.],\n",
      "        [1., 1., 1.],\n",
      "        [1., 1., 1.],\n",
      "        [1., 1., 1.]], dtype=torch.float64)\n"
     ]
    }
   ],
   "source": [
    "x = x.new_ones(5,3,dtype=torch.double)\n",
    "print(x)"
   ]
  },
  {
   "cell_type": "code",
   "execution_count": 12,
   "id": "d1dc5f36-f8e2-4371-a37b-2db0f43782ee",
   "metadata": {},
   "outputs": [],
   "source": [
    "x = torch.randn_like(x,dtype=torch.float)"
   ]
  },
  {
   "cell_type": "code",
   "execution_count": 13,
   "id": "ccd8027a-d27b-4508-ba25-2b820e8b34f3",
   "metadata": {},
   "outputs": [
    {
     "name": "stdout",
     "output_type": "stream",
     "text": [
      "tensor([[ 1.0853,  0.5077, -0.2676],\n",
      "        [ 0.3520,  0.8518, -0.2035],\n",
      "        [ 0.0817,  0.8327,  2.2980],\n",
      "        [-1.2299,  0.1524, -2.0011],\n",
      "        [-2.1689,  0.0615, -0.1444]])\n"
     ]
    }
   ],
   "source": [
    "print(x)"
   ]
  },
  {
   "cell_type": "code",
   "execution_count": 14,
   "id": "813c35fb-c78d-4498-b2d2-ec2c1abcdb9d",
   "metadata": {},
   "outputs": [
    {
     "name": "stdout",
     "output_type": "stream",
     "text": [
      "torch.Size([5, 3])\n"
     ]
    }
   ],
   "source": [
    "print(x.size())"
   ]
  },
  {
   "cell_type": "code",
   "execution_count": 15,
   "id": "630da377-065d-419d-a2f7-78c8b5f0d170",
   "metadata": {},
   "outputs": [
    {
     "data": {
      "text/plain": [
       "torch.Size([5, 3])"
      ]
     },
     "execution_count": 15,
     "metadata": {},
     "output_type": "execute_result"
    }
   ],
   "source": [
    "torch.Size([5,3])"
   ]
  },
  {
   "cell_type": "code",
   "execution_count": 16,
   "id": "662b872d-0f53-4eaa-ab16-03148426150c",
   "metadata": {},
   "outputs": [],
   "source": [
    "y = torch.rand(5,3)"
   ]
  },
  {
   "cell_type": "code",
   "execution_count": 17,
   "id": "ac9e8a12-2e35-416f-8aa7-75e3e38dcdd0",
   "metadata": {},
   "outputs": [
    {
     "name": "stdout",
     "output_type": "stream",
     "text": [
      "tensor([[ 2.0494,  1.0752, -0.2438],\n",
      "        [ 1.0741,  0.9496,  0.7230],\n",
      "        [ 1.0198,  1.3615,  2.6053],\n",
      "        [-0.6068,  0.8670, -1.2532],\n",
      "        [-1.3984,  0.4090,  0.1517]])\n"
     ]
    }
   ],
   "source": [
    "print(x+y)"
   ]
  },
  {
   "cell_type": "code",
   "execution_count": 18,
   "id": "79a9a132-06ab-4cc4-a35d-58695e9192ca",
   "metadata": {},
   "outputs": [
    {
     "name": "stdout",
     "output_type": "stream",
     "text": [
      "tensor([[ 2.0494,  1.0752, -0.2438],\n",
      "        [ 1.0741,  0.9496,  0.7230],\n",
      "        [ 1.0198,  1.3615,  2.6053],\n",
      "        [-0.6068,  0.8670, -1.2532],\n",
      "        [-1.3984,  0.4090,  0.1517]])\n"
     ]
    }
   ],
   "source": [
    "print(torch.add(x,y))"
   ]
  },
  {
   "cell_type": "code",
   "execution_count": 20,
   "id": "03dbf104-acda-4787-b838-23a52cebf1f3",
   "metadata": {},
   "outputs": [
    {
     "data": {
      "text/plain": [
       "tensor([[ 2.0494,  1.0752, -0.2438],\n",
       "        [ 1.0741,  0.9496,  0.7230],\n",
       "        [ 1.0198,  1.3615,  2.6053],\n",
       "        [-0.6068,  0.8670, -1.2532],\n",
       "        [-1.3984,  0.4090,  0.1517]])"
      ]
     },
     "execution_count": 20,
     "metadata": {},
     "output_type": "execute_result"
    }
   ],
   "source": [
    "result=torch.empty(5,3)\n",
    "torch.add(x,y,out=result)"
   ]
  },
  {
   "cell_type": "code",
   "execution_count": 21,
   "id": "980ba832-7c5a-4de7-a496-74710173ebbc",
   "metadata": {},
   "outputs": [
    {
     "name": "stdout",
     "output_type": "stream",
     "text": [
      "tensor([[ 2.0494,  1.0752, -0.2438],\n",
      "        [ 1.0741,  0.9496,  0.7230],\n",
      "        [ 1.0198,  1.3615,  2.6053],\n",
      "        [-0.6068,  0.8670, -1.2532],\n",
      "        [-1.3984,  0.4090,  0.1517]])\n"
     ]
    }
   ],
   "source": [
    "y.add_(x)\n",
    "print(y)"
   ]
  },
  {
   "cell_type": "code",
   "execution_count": 22,
   "id": "d9d47dad-1402-4ef9-9689-baaaf87bbb6b",
   "metadata": {},
   "outputs": [
    {
     "name": "stdout",
     "output_type": "stream",
     "text": [
      "tensor([[ 1.0853,  0.5077, -0.2676],\n",
      "        [ 0.3520,  0.8518, -0.2035],\n",
      "        [ 0.0817,  0.8327,  2.2980],\n",
      "        [-1.2299,  0.1524, -2.0011],\n",
      "        [-2.1689,  0.0615, -0.1444]])\n"
     ]
    }
   ],
   "source": [
    "print(x)"
   ]
  },
  {
   "cell_type": "code",
   "execution_count": 23,
   "id": "9e2dba9c-d893-4864-9abf-3b3611629b7f",
   "metadata": {},
   "outputs": [
    {
     "name": "stdout",
     "output_type": "stream",
     "text": [
      "tensor([0.5077, 0.8518, 0.8327, 0.1524, 0.0615])\n"
     ]
    }
   ],
   "source": [
    "print(x[:,1])"
   ]
  },
  {
   "cell_type": "code",
   "execution_count": 24,
   "id": "64bdca98-10f2-419d-be17-3d3aee7673b4",
   "metadata": {},
   "outputs": [
    {
     "name": "stdout",
     "output_type": "stream",
     "text": [
      "tensor(0.5077)\n"
     ]
    }
   ],
   "source": [
    "print(x[0,1])"
   ]
  },
  {
   "cell_type": "code",
   "execution_count": 25,
   "id": "f2f3ebae-b99b-404f-a2bb-c1acb81ed9ff",
   "metadata": {},
   "outputs": [
    {
     "name": "stdout",
     "output_type": "stream",
     "text": [
      "tensor([])\n"
     ]
    }
   ],
   "source": [
    "print(x[0:0,1])"
   ]
  },
  {
   "cell_type": "code",
   "execution_count": 26,
   "id": "dc47d5bc-0f6a-46eb-8a47-4d59b4a584ec",
   "metadata": {},
   "outputs": [
    {
     "name": "stdout",
     "output_type": "stream",
     "text": [
      "tensor([0.5077])\n"
     ]
    }
   ],
   "source": [
    "print(x[:1,1])"
   ]
  },
  {
   "cell_type": "code",
   "execution_count": 29,
   "id": "3bd70971-4c1f-472f-94e7-cc15bc71cc82",
   "metadata": {},
   "outputs": [
    {
     "name": "stdout",
     "output_type": "stream",
     "text": [
      "tensor([0.8518, 0.8327, 0.1524, 0.0615])\n"
     ]
    }
   ],
   "source": [
    "print(x[1:,1])"
   ]
  },
  {
   "cell_type": "code",
   "execution_count": 30,
   "id": "ad201a8c-b374-48fc-aa0f-1c083035b38f",
   "metadata": {},
   "outputs": [
    {
     "name": "stdout",
     "output_type": "stream",
     "text": [
      "tensor([[ 1.0853,  0.5077, -0.2676],\n",
      "        [ 0.3520,  0.8518, -0.2035],\n",
      "        [ 0.0817,  0.8327,  2.2980],\n",
      "        [-1.2299,  0.1524, -2.0011],\n",
      "        [-2.1689,  0.0615, -0.1444]])\n"
     ]
    }
   ],
   "source": [
    "print(x)"
   ]
  },
  {
   "cell_type": "code",
   "execution_count": 34,
   "id": "6629d91e-d16c-4505-b90f-b276410eb5cb",
   "metadata": {},
   "outputs": [
    {
     "name": "stdout",
     "output_type": "stream",
     "text": [
      "tensor([-0.2676])\n"
     ]
    }
   ],
   "source": [
    "print(x[:1,2])"
   ]
  },
  {
   "cell_type": "code",
   "execution_count": 35,
   "id": "0546dd05-88b5-4f4d-808e-e0ae9e93342a",
   "metadata": {},
   "outputs": [
    {
     "name": "stdout",
     "output_type": "stream",
     "text": [
      "tensor([ 0.3520,  0.8518, -0.2035])\n"
     ]
    }
   ],
   "source": [
    "print(x[1,:])"
   ]
  },
  {
   "cell_type": "code",
   "execution_count": 36,
   "id": "d319ce7b-e559-469e-8c7a-1f17ecdefd67",
   "metadata": {},
   "outputs": [
    {
     "name": "stdout",
     "output_type": "stream",
     "text": [
      "tensor([-1.2299,  0.1524, -2.0011])\n"
     ]
    }
   ],
   "source": [
    "print(x[3,:])"
   ]
  },
  {
   "cell_type": "code",
   "execution_count": 37,
   "id": "537714ea-fd4a-4934-9899-0ac52cc42098",
   "metadata": {},
   "outputs": [
    {
     "name": "stdout",
     "output_type": "stream",
     "text": [
      "tensor([0.5077, 0.8518, 0.8327, 0.1524])\n"
     ]
    }
   ],
   "source": [
    "print(x[:4,1])"
   ]
  },
  {
   "cell_type": "code",
   "execution_count": 38,
   "id": "cf49ca34-a0ef-463d-b82b-6fbf9515985d",
   "metadata": {},
   "outputs": [
    {
     "name": "stdout",
     "output_type": "stream",
     "text": [
      "tensor([0.5077, 0.8518, 0.8327])\n"
     ]
    }
   ],
   "source": [
    "print(x[:3,1])"
   ]
  },
  {
   "cell_type": "code",
   "execution_count": 52,
   "id": "8deaed25-2f1c-425f-a039-4c85d927ef50",
   "metadata": {},
   "outputs": [
    {
     "name": "stdout",
     "output_type": "stream",
     "text": [
      "tensor(0.1524)\n"
     ]
    }
   ],
   "source": [
    "print(x[3,1])"
   ]
  },
  {
   "cell_type": "code",
   "execution_count": 53,
   "id": "f3c2aca6-a857-4835-9991-ae744fa641de",
   "metadata": {},
   "outputs": [],
   "source": [
    "x = torch.randn(4,4)"
   ]
  },
  {
   "cell_type": "code",
   "execution_count": 54,
   "id": "f97bb7be-9407-4725-88eb-091746bb2402",
   "metadata": {},
   "outputs": [],
   "source": [
    "y = x.view(16)"
   ]
  },
  {
   "cell_type": "code",
   "execution_count": 55,
   "id": "2559e857-fc86-47f5-a360-1382098d5efb",
   "metadata": {},
   "outputs": [],
   "source": [
    "z=x.view(-1,8)"
   ]
  },
  {
   "cell_type": "code",
   "execution_count": 56,
   "id": "938cf5a2-f849-4218-8055-e87a89dd9376",
   "metadata": {},
   "outputs": [
    {
     "name": "stdout",
     "output_type": "stream",
     "text": [
      "torch.Size([4, 4]) torch.Size([16]) torch.Size([2, 8])\n"
     ]
    }
   ],
   "source": [
    "print(x.size(),y.size(),z.size())"
   ]
  },
  {
   "cell_type": "code",
   "execution_count": 59,
   "id": "d77f2287-5ad4-4c37-b58c-0bd74b2d5098",
   "metadata": {},
   "outputs": [
    {
     "name": "stdout",
     "output_type": "stream",
     "text": [
      "tensor([-0.9164])\n",
      "-0.9163738489151001\n"
     ]
    }
   ],
   "source": [
    "x=torch.randn(1)\n",
    "print(x)\n",
    "print(x.item())"
   ]
  },
  {
   "cell_type": "code",
   "execution_count": 60,
   "id": "f33e4e2e-2508-47ee-8020-53f34bd51651",
   "metadata": {},
   "outputs": [],
   "source": [
    "x = torch.ones(2,2,requires_grad=True)"
   ]
  },
  {
   "cell_type": "code",
   "execution_count": 61,
   "id": "7b293d5f-c572-4b0a-b8ab-a9a1ae30d87e",
   "metadata": {},
   "outputs": [
    {
     "name": "stdout",
     "output_type": "stream",
     "text": [
      "tensor([[1., 1.],\n",
      "        [1., 1.]], requires_grad=True)\n"
     ]
    }
   ],
   "source": [
    "print(x)"
   ]
  },
  {
   "cell_type": "code",
   "execution_count": 62,
   "id": "5698245a-3fc2-49f5-8697-88a2efa36558",
   "metadata": {},
   "outputs": [
    {
     "name": "stdout",
     "output_type": "stream",
     "text": [
      "None\n"
     ]
    }
   ],
   "source": [
    "print(y.grad_fn)"
   ]
  },
  {
   "cell_type": "code",
   "execution_count": 68,
   "id": "4fb3902f-4886-448b-87fb-164f7c1fd0b1",
   "metadata": {},
   "outputs": [],
   "source": [
    "z = pow(x,2)*3\n",
    "out=z.mean()"
   ]
  },
  {
   "cell_type": "code",
   "execution_count": 69,
   "id": "cd39c77d-b92d-45d4-88b5-2a1f35760931",
   "metadata": {},
   "outputs": [
    {
     "name": "stdout",
     "output_type": "stream",
     "text": [
      "tensor([[3., 3.],\n",
      "        [3., 3.]], grad_fn=<MulBackward0>) tensor(3., grad_fn=<MeanBackward0>)\n"
     ]
    }
   ],
   "source": [
    "print(z,out)"
   ]
  },
  {
   "cell_type": "code",
   "execution_count": 70,
   "id": "e8f1ecf1-15c5-455c-93c6-296ba128c218",
   "metadata": {},
   "outputs": [],
   "source": [
    "a=torch.randn(2,2)"
   ]
  },
  {
   "cell_type": "code",
   "execution_count": 71,
   "id": "9eb0a785-ff0f-42ab-86ea-c4216eb76a5c",
   "metadata": {},
   "outputs": [],
   "source": [
    "a=((a*3)/(a-1))"
   ]
  },
  {
   "cell_type": "code",
   "execution_count": 72,
   "id": "df300c8a-47b7-4cea-9672-08353446ff2f",
   "metadata": {},
   "outputs": [
    {
     "name": "stdout",
     "output_type": "stream",
     "text": [
      "False\n"
     ]
    }
   ],
   "source": [
    "print(a.requires_grad)"
   ]
  },
  {
   "cell_type": "code",
   "execution_count": 73,
   "id": "f5676bdb-ae0c-4589-9e0f-ba9093e18626",
   "metadata": {},
   "outputs": [
    {
     "name": "stdout",
     "output_type": "stream",
     "text": [
      "True\n",
      "<SumBackward0 object at 0x737c9a2d9f40>\n"
     ]
    }
   ],
   "source": [
    "a.requires_grad_(True)\n",
    "print(a.requires_grad)\n",
    "b=(a*a).sum()\n",
    "print(b.grad_fn)"
   ]
  },
  {
   "cell_type": "code",
   "execution_count": 74,
   "id": "2bfcbe07-dbb7-498c-a1ec-13b1e1c3cd96",
   "metadata": {},
   "outputs": [
    {
     "name": "stdout",
     "output_type": "stream",
     "text": [
      "tensor([[1.5000, 1.5000],\n",
      "        [1.5000, 1.5000]])\n"
     ]
    }
   ],
   "source": [
    "out.backward()\n",
    "print(x.grad)"
   ]
  },
  {
   "cell_type": "code",
   "execution_count": 75,
   "id": "5057f644-36bf-47f3-a7c3-8167b10bb516",
   "metadata": {},
   "outputs": [
    {
     "name": "stdout",
     "output_type": "stream",
     "text": [
      "tensor([-1130.2938,  -519.1516, -1376.0470], grad_fn=<MulBackward0>)\n"
     ]
    }
   ],
   "source": [
    "x = torch.randn(3,requires_grad=True)\n",
    "y = x* 2\n",
    "\n",
    "while y.data.norm() < 1000:\n",
    "    y *= 2\n",
    "print(y)"
   ]
  },
  {
   "cell_type": "code",
   "execution_count": 76,
   "id": "2c8bb817-737b-4563-9a76-62f8c59c37a6",
   "metadata": {},
   "outputs": [
    {
     "name": "stdout",
     "output_type": "stream",
     "text": [
      "tensor([4.0960e+02, 4.0960e+03, 4.0960e-01])\n"
     ]
    }
   ],
   "source": [
    "v = torch.tensor([0.1,1.0,0.0001],dtype=torch.float)\n",
    "y.backward(v)\n",
    "print(x.grad)"
   ]
  },
  {
   "cell_type": "code",
   "execution_count": 77,
   "id": "ff1ea2bc-f5b3-4362-911b-f9f3fccb4525",
   "metadata": {},
   "outputs": [
    {
     "name": "stdout",
     "output_type": "stream",
     "text": [
      "True\n",
      "True\n",
      "False\n"
     ]
    }
   ],
   "source": [
    "print(x.requires_grad)\n",
    "print(pow(x,2).requires_grad)\n",
    "\n",
    "with torch.no_grad():\n",
    "    print(pow(x,2).requires_grad)"
   ]
  },
  {
   "cell_type": "code",
   "execution_count": null,
   "id": "e3230ba7-765c-48be-91bc-f5e39a1282a3",
   "metadata": {},
   "outputs": [],
   "source": []
  }
 ],
 "metadata": {
  "kernelspec": {
   "display_name": "Python 3 (ipykernel)",
   "language": "python",
   "name": "python3"
  },
  "language_info": {
   "codemirror_mode": {
    "name": "ipython",
    "version": 3
   },
   "file_extension": ".py",
   "mimetype": "text/x-python",
   "name": "python",
   "nbconvert_exporter": "python",
   "pygments_lexer": "ipython3",
   "version": "3.8.19"
  }
 },
 "nbformat": 4,
 "nbformat_minor": 5
}
