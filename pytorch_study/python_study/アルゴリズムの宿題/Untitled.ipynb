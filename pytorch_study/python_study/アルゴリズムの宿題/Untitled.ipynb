{
 "cells": [
  {
   "cell_type": "code",
   "execution_count": 14,
   "id": "b415c1f7",
   "metadata": {},
   "outputs": [],
   "source": [
    "arr = [1,4,7,2,3,5,8,9,10,11,6,15,12]"
   ]
  },
  {
   "cell_type": "code",
   "execution_count": 18,
   "id": "d9ade21e",
   "metadata": {},
   "outputs": [],
   "source": [
    "def order_find(arr:list,a)-> int:\n",
    "    if len(arr) == 0:\n",
    "        return -1\n",
    "    for i,e in enumerate(arr):\n",
    "        if a==e:\n",
    "            return i\n",
    "    return 0"
   ]
  },
  {
   "cell_type": "code",
   "execution_count": 19,
   "id": "e755fe95",
   "metadata": {},
   "outputs": [],
   "source": [
    "def test_result(aa):\n",
    "    print(type(arr))\n",
    "    print(len(arr))\n",
    "    result = order_find(arr,aa)\n",
    "    print(result)"
   ]
  },
  {
   "cell_type": "code",
   "execution_count": 20,
   "id": "9170821c",
   "metadata": {},
   "outputs": [
    {
     "name": "stdout",
     "output_type": "stream",
     "text": [
      "<class 'list'>\n",
      "13\n",
      "0\n"
     ]
    }
   ],
   "source": [
    "test_result(99)"
   ]
  },
  {
   "cell_type": "code",
   "execution_count": 21,
   "id": "2aa7c659",
   "metadata": {},
   "outputs": [
    {
     "name": "stdout",
     "output_type": "stream",
     "text": [
      "<class 'list'>\n",
      "13\n",
      "8\n"
     ]
    }
   ],
   "source": [
    "test_result(10)"
   ]
  },
  {
   "cell_type": "code",
   "execution_count": null,
   "id": "0c4924f1",
   "metadata": {},
   "outputs": [],
   "source": []
  }
 ],
 "metadata": {
  "kernelspec": {
   "display_name": "Python 3 (ipykernel)",
   "language": "python",
   "name": "python3"
  },
  "language_info": {
   "codemirror_mode": {
    "name": "ipython",
    "version": 3
   },
   "file_extension": ".py",
   "mimetype": "text/x-python",
   "name": "python",
   "nbconvert_exporter": "python",
   "pygments_lexer": "ipython3",
   "version": "3.11.7"
  }
 },
 "nbformat": 4,
 "nbformat_minor": 5
}
