{
 "cells": [
  {
   "cell_type": "code",
   "execution_count": null,
   "id": "c577c51f",
   "metadata": {},
   "outputs": [],
   "source": [
    "#  n*n正行列Aの2乗A^2を時間O(n^a)で計算するアルゴリズムがあるとする。 \n",
    "#  a > 2とするとき、このアルゴリズムを利用して、２つの n * n 行列AとBの積をO(n^a)で計算する\n",
    "# アルゴリジムを考えよ。"
   ]
  },
  {
   "cell_type": "code",
   "execution_count": null,
   "id": "dce4e62b",
   "metadata": {},
   "outputs": [],
   "source": []
  }
 ],
 "metadata": {
  "kernelspec": {
   "display_name": "Python 3 (ipykernel)",
   "language": "python",
   "name": "python3"
  },
  "language_info": {
   "codemirror_mode": {
    "name": "ipython",
    "version": 3
   },
   "file_extension": ".py",
   "mimetype": "text/x-python",
   "name": "python",
   "nbconvert_exporter": "python",
   "pygments_lexer": "ipython3",
   "version": "3.11.7"
  }
 },
 "nbformat": 4,
 "nbformat_minor": 5
}
