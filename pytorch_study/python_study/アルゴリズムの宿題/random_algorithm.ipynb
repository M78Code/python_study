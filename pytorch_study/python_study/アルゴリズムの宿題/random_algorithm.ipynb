{
 "cells": [
  {
   "cell_type": "markdown",
   "id": "75062226",
   "metadata": {},
   "source": [
    "# 乱択アルゴリズム"
   ]
  },
  {
   "cell_type": "code",
   "execution_count": 3,
   "id": "8d5e698e",
   "metadata": {},
   "outputs": [],
   "source": [
    "import random"
   ]
  },
  {
   "cell_type": "code",
   "execution_count": 4,
   "id": "e9ef3354",
   "metadata": {},
   "outputs": [],
   "source": [
    "# 例え\n",
    "\n",
    "def _input_keyboard_text():\n",
    "    change_role = True\n",
    "    if change_role:\n",
    "        while True:\n",
    "            random_number = random.randint(0,9)\n",
    "            print(f'random_number = {random_number}')\n",
    "            user_input = input('(0~9)入力してください: ')\n",
    "            if user_input.isdigit():\n",
    "                str_to_int = int(user_input)\n",
    "                if str_to_int == random_number:\n",
    "                    print(f'現在の秘書👩‍💼候補者を解雇し、候補者{str_to_int}を雇用する')\n",
    "                    print('-------------------------------')\n",
    "                    print('他の候補者も見てみたいですか？')\n",
    "                    print('yを入力してから、続き；nを入力してから、終わりです。')\n",
    "                    continue_ = input('(y or n)を入力してください: ')\n",
    "                    # change_role = continue_ == 'y'\n",
    "                    if continue_ == 'y':\n",
    "                        change_role = True\n",
    "                    else:\n",
    "                        change_role = False\n",
    "                else:\n",
    "                    print(f'候補者{str_to_int}は適任できません。')\n",
    "            else:\n",
    "                print('入力エラー、0~9の数字です。')\n",
    "    else:\n",
    "        change_role = False\n",
    "        print('Congratulations on your successful application! 頑張ってね')"
   ]
  },
  {
   "cell_type": "code",
   "execution_count": null,
   "id": "80dc896a",
   "metadata": {},
   "outputs": [
    {
     "name": "stdout",
     "output_type": "stream",
     "text": [
      "random_number = 1\n",
      "(0~9)入力してください: a\n",
      "入力エラー、0~9の数字です。\n",
      "random_number = 0\n",
      "(0~9)入力してください: a\n",
      "入力エラー、0~9の数字です。\n",
      "random_number = 6\n",
      "(0~9)入力してください: 1\n",
      "候補者1は適任できません。\n",
      "random_number = 9\n",
      "(0~9)入力してください: 2\n",
      "候補者2は適任できません。\n",
      "random_number = 7\n",
      "(0~9)入力してください: 3\n",
      "候補者3は適任できません。\n",
      "random_number = 0\n",
      "(0~9)入力してください: 3\n",
      "候補者3は適任できません。\n",
      "random_number = 7\n",
      "(0~9)入力してください: 3\n",
      "候補者3は適任できません。\n",
      "random_number = 1\n",
      "(0~9)入力してください: 1\n",
      "現在の秘書👩‍💼候補者を解雇し、候補者1を雇用する\n",
      "-------------------------------\n",
      "他の候補者も見てみたいですか？\n",
      "yを入力してから、続き；nを入力してから、終わりです。\n",
      "(y or n)を入力してください: y\n",
      "random_number = 2\n",
      "(0~9)入力してください: a\n",
      "入力エラー、0~9の数字です。\n",
      "random_number = 4\n",
      "(0~9)入力してください: 4\n",
      "現在の秘書👩‍💼候補者を解雇し、候補者4を雇用する\n",
      "-------------------------------\n",
      "他の候補者も見てみたいですか？\n",
      "yを入力してから、続き；nを入力してから、終わりです。\n",
      "(y or n)を入力してください: n\n",
      "random_number = 4\n",
      "(0~9)入力してください: 4\n",
      "現在の秘書👩‍💼候補者を解雇し、候補者4を雇用する\n",
      "-------------------------------\n",
      "他の候補者も見てみたいですか？\n",
      "yを入力してから、続き；nを入力してから、終わりです。\n",
      "(y or n)を入力してください: n\n",
      "random_number = 0\n"
     ]
    }
   ],
   "source": [
    "_input_keyboard_text()"
   ]
  },
  {
   "cell_type": "code",
   "execution_count": null,
   "id": "67921a88",
   "metadata": {},
   "outputs": [],
   "source": []
  }
 ],
 "metadata": {
  "kernelspec": {
   "display_name": "Python 3 (ipykernel)",
   "language": "python",
   "name": "python3"
  },
  "language_info": {
   "codemirror_mode": {
    "name": "ipython",
    "version": 3
   },
   "file_extension": ".py",
   "mimetype": "text/x-python",
   "name": "python",
   "nbconvert_exporter": "python",
   "pygments_lexer": "ipython3",
   "version": "3.11.7"
  }
 },
 "nbformat": 4,
 "nbformat_minor": 5
}
